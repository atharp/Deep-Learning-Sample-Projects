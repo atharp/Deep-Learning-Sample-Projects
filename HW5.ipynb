{
 "cells": [
  {
   "cell_type": "markdown",
   "metadata": {},
   "source": [
    "# Homework 5"
   ]
  },
  {
   "cell_type": "markdown",
   "metadata": {},
   "source": [
    "## Analysis of Shakespeare's Plays  "
   ]
  },
  {
   "cell_type": "markdown",
   "metadata": {},
   "source": [
    "<img src=\"Shakespeare.png\" align=\"left\">"
   ]
  },
  {
   "cell_type": "markdown",
   "metadata": {},
   "source": [
    "##### By:  Umair Cheema, Athar Pasha"
   ]
  },
  {
   "cell_type": "code",
   "execution_count": 1,
   "metadata": {},
   "outputs": [],
   "source": [
    "import numpy as np\n",
    "from urllib.request import urlopen\n",
    "from bs4 import BeautifulSoup\n",
    "import re\n",
    "import pandas as pd\n",
    "import matplotlib.pyplot as plt\n",
    "import matplotlib as mpl\n",
    "import seaborn as sns\n",
    "%matplotlib inline\n",
    "from sklearn.cluster import KMeans\n",
    "from sklearn import metrics\n",
    "from sklearn.metrics.pairwise import pairwise_distances_argmin\n",
    "from sklearn.feature_extraction.text import TfidfVectorizer, CountVectorizer\n",
    "from scipy.cluster.hierarchy import dendrogram, ward\n",
    "from sklearn.metrics.pairwise import cosine_similarity\n",
    "from sklearn.feature_extraction.text import  TfidfTransformer\n",
    "from sklearn.decomposition import PCA\n",
    "from sklearn.manifold import MDS"
   ]
  },
  {
   "cell_type": "markdown",
   "metadata": {},
   "source": [
    "## Q1) Data Preparation"
   ]
  },
  {
   "cell_type": "markdown",
   "metadata": {},
   "source": [
    "** i) Read data from the website and create a dataframe **"
   ]
  },
  {
   "cell_type": "code",
   "execution_count": 2,
   "metadata": {},
   "outputs": [],
   "source": [
    "#Prepare Data Structures\n",
    "base_url = 'http://shakespeare.mit.edu/'\n",
    "html_filename_suffix = '/full.html'\n",
    "#Create Arrays of Tragedies, Comedies and Historic writings (As retrieved from the links in URL address bar for plays)\n",
    "comedies = ['allswell','asyoulikeit','comedy_errors','cymbeline','lll','measure','merry_wives', \\\n",
    "            'merchant','midsummer','much_ado','pericles','taming_shrew','troilus_cressida', \\\n",
    "            'twelfth_night','two_gentlemen','winters_tale','tempest']\n",
    "historic = ['1henryiv','2henryiv','henryv','1henryvi','2henryvi','3henryvi','henryviii', \\\n",
    "             'john','richardii','richardiii']\n",
    "tragedies = ['cleopatra','coriolanus','hamlet','julius_caesar','lear','macbeth','othello',\\\n",
    "           'romeo_juliet','timon','titus']\n",
    "\n",
    "#Create a dictionary with genre as key\n",
    "dict_shakespeare_plays_text = {'comedy':comedies,'historic':historic,'tragedy':tragedies}"
   ]
  },
  {
   "cell_type": "code",
   "execution_count": 3,
   "metadata": {},
   "outputs": [],
   "source": [
    "#Function to return a dataframe with text from a single play\n",
    "def get_play_text(genre, name):\n",
    "    \"\"\"\n",
    "    Description : Returns text of a play as a dataframe\n",
    "    Arguments:\n",
    "            genre: String to identify genre of the play (tragedy, comedy, historic etc)\n",
    "            name: String with abbreviated name of the play\n",
    "    Returns : \n",
    "            Dataframe with Columns as playname, character, speech\n",
    "    \"\"\"\n",
    "    page_url = base_url + name + html_filename_suffix\n",
    "    columns = ['Genre','Play','Character','Speech']\n",
    "    df = pd.DataFrame(columns=columns)\n",
    "    #Read the HTML page\n",
    "    page = urlopen(page_url).read()\n",
    "    #Use BeautifulSoup to parse html page\n",
    "    soup = BeautifulSoup(page,\"lxml\")\n",
    "    #Initialize index\n",
    "    index = 0\n",
    "    #Find utterances by each play character in sequence\n",
    "    for character in soup.find_all('b'):\n",
    "        soup = character.find_next('blockquote')\n",
    "        speech = soup.get_text()\n",
    "        df.loc[index] = [genre,name,character.get_text(),speech.strip()]\n",
    "        index = index + 1\n",
    "    return df\n",
    "    "
   ]
  },
  {
   "cell_type": "code",
   "execution_count": 4,
   "metadata": {},
   "outputs": [],
   "source": [
    "#Test if the get play text is reading the text correctly\n",
    "df_macbeth = get_play_text('tragedy','macbeth')"
   ]
  },
  {
   "cell_type": "code",
   "execution_count": 5,
   "metadata": {},
   "outputs": [
    {
     "data": {
      "text/html": [
       "<div>\n",
       "<style scoped>\n",
       "    .dataframe tbody tr th:only-of-type {\n",
       "        vertical-align: middle;\n",
       "    }\n",
       "\n",
       "    .dataframe tbody tr th {\n",
       "        vertical-align: top;\n",
       "    }\n",
       "\n",
       "    .dataframe thead th {\n",
       "        text-align: right;\n",
       "    }\n",
       "</style>\n",
       "<table border=\"1\" class=\"dataframe\">\n",
       "  <thead>\n",
       "    <tr style=\"text-align: right;\">\n",
       "      <th></th>\n",
       "      <th>Genre</th>\n",
       "      <th>Play</th>\n",
       "      <th>Character</th>\n",
       "      <th>Speech</th>\n",
       "    </tr>\n",
       "  </thead>\n",
       "  <tbody>\n",
       "    <tr>\n",
       "      <th>0</th>\n",
       "      <td>tragedy</td>\n",
       "      <td>macbeth</td>\n",
       "      <td>First Witch</td>\n",
       "      <td>When shall we three meet again\\nIn thunder, li...</td>\n",
       "    </tr>\n",
       "    <tr>\n",
       "      <th>1</th>\n",
       "      <td>tragedy</td>\n",
       "      <td>macbeth</td>\n",
       "      <td>Second Witch</td>\n",
       "      <td>When the hurlyburly's done,\\nWhen the battle's...</td>\n",
       "    </tr>\n",
       "    <tr>\n",
       "      <th>2</th>\n",
       "      <td>tragedy</td>\n",
       "      <td>macbeth</td>\n",
       "      <td>Third Witch</td>\n",
       "      <td>That will be ere the set of sun.</td>\n",
       "    </tr>\n",
       "    <tr>\n",
       "      <th>3</th>\n",
       "      <td>tragedy</td>\n",
       "      <td>macbeth</td>\n",
       "      <td>First Witch</td>\n",
       "      <td>Where the place?</td>\n",
       "    </tr>\n",
       "    <tr>\n",
       "      <th>4</th>\n",
       "      <td>tragedy</td>\n",
       "      <td>macbeth</td>\n",
       "      <td>Second Witch</td>\n",
       "      <td>Upon the heath.</td>\n",
       "    </tr>\n",
       "  </tbody>\n",
       "</table>\n",
       "</div>"
      ],
      "text/plain": [
       "     Genre     Play     Character  \\\n",
       "0  tragedy  macbeth   First Witch   \n",
       "1  tragedy  macbeth  Second Witch   \n",
       "2  tragedy  macbeth   Third Witch   \n",
       "3  tragedy  macbeth   First Witch   \n",
       "4  tragedy  macbeth  Second Witch   \n",
       "\n",
       "                                              Speech  \n",
       "0  When shall we three meet again\\nIn thunder, li...  \n",
       "1  When the hurlyburly's done,\\nWhen the battle's...  \n",
       "2                   That will be ere the set of sun.  \n",
       "3                                   Where the place?  \n",
       "4                                    Upon the heath.  "
      ]
     },
     "execution_count": 5,
     "metadata": {},
     "output_type": "execute_result"
    }
   ],
   "source": [
    "df_macbeth.head()"
   ]
  },
  {
   "cell_type": "code",
   "execution_count": 6,
   "metadata": {},
   "outputs": [],
   "source": [
    "#Read all of the data in a single dataframe\n",
    "play_frames = []\n",
    "for (genre,plays) in dict_shakespeare_plays_text.items():\n",
    "    for play in plays:\n",
    "        play_frames.append(get_play_text(genre,play))\n",
    "        \n",
    "#Create the big dataframe that contains everything\n",
    "df = pd.concat(play_frames)    "
   ]
  },
  {
   "cell_type": "code",
   "execution_count": 7,
   "metadata": {},
   "outputs": [
    {
     "data": {
      "text/html": [
       "<div>\n",
       "<style scoped>\n",
       "    .dataframe tbody tr th:only-of-type {\n",
       "        vertical-align: middle;\n",
       "    }\n",
       "\n",
       "    .dataframe tbody tr th {\n",
       "        vertical-align: top;\n",
       "    }\n",
       "\n",
       "    .dataframe thead th {\n",
       "        text-align: right;\n",
       "    }\n",
       "</style>\n",
       "<table border=\"1\" class=\"dataframe\">\n",
       "  <thead>\n",
       "    <tr style=\"text-align: right;\">\n",
       "      <th></th>\n",
       "      <th>Genre</th>\n",
       "      <th>Play</th>\n",
       "      <th>Character</th>\n",
       "      <th>Speech</th>\n",
       "    </tr>\n",
       "  </thead>\n",
       "  <tbody>\n",
       "    <tr>\n",
       "      <th>0</th>\n",
       "      <td>comedy</td>\n",
       "      <td>allswell</td>\n",
       "      <td>COUNTESS</td>\n",
       "      <td>In delivering my son from me, I bury a second ...</td>\n",
       "    </tr>\n",
       "    <tr>\n",
       "      <th>1</th>\n",
       "      <td>comedy</td>\n",
       "      <td>allswell</td>\n",
       "      <td>BERTRAM</td>\n",
       "      <td>And I in going, madam, weep o'er my father's d...</td>\n",
       "    </tr>\n",
       "    <tr>\n",
       "      <th>2</th>\n",
       "      <td>comedy</td>\n",
       "      <td>allswell</td>\n",
       "      <td>LAFEU</td>\n",
       "      <td>You shall find of the king a husband, madam; y...</td>\n",
       "    </tr>\n",
       "    <tr>\n",
       "      <th>3</th>\n",
       "      <td>comedy</td>\n",
       "      <td>allswell</td>\n",
       "      <td>COUNTESS</td>\n",
       "      <td>What hope is there of his majesty's amendment?</td>\n",
       "    </tr>\n",
       "    <tr>\n",
       "      <th>4</th>\n",
       "      <td>comedy</td>\n",
       "      <td>allswell</td>\n",
       "      <td>LAFEU</td>\n",
       "      <td>He hath abandoned his physicians, madam; under...</td>\n",
       "    </tr>\n",
       "  </tbody>\n",
       "</table>\n",
       "</div>"
      ],
      "text/plain": [
       "    Genre      Play Character  \\\n",
       "0  comedy  allswell  COUNTESS   \n",
       "1  comedy  allswell   BERTRAM   \n",
       "2  comedy  allswell     LAFEU   \n",
       "3  comedy  allswell  COUNTESS   \n",
       "4  comedy  allswell     LAFEU   \n",
       "\n",
       "                                              Speech  \n",
       "0  In delivering my son from me, I bury a second ...  \n",
       "1  And I in going, madam, weep o'er my father's d...  \n",
       "2  You shall find of the king a husband, madam; y...  \n",
       "3     What hope is there of his majesty's amendment?  \n",
       "4  He hath abandoned his physicians, madam; under...  "
      ]
     },
     "execution_count": 7,
     "metadata": {},
     "output_type": "execute_result"
    }
   ],
   "source": [
    "df.head()"
   ]
  },
  {
   "cell_type": "code",
   "execution_count": 8,
   "metadata": {},
   "outputs": [
    {
     "data": {
      "text/html": [
       "<div>\n",
       "<style scoped>\n",
       "    .dataframe tbody tr th:only-of-type {\n",
       "        vertical-align: middle;\n",
       "    }\n",
       "\n",
       "    .dataframe tbody tr th {\n",
       "        vertical-align: top;\n",
       "    }\n",
       "\n",
       "    .dataframe thead th {\n",
       "        text-align: right;\n",
       "    }\n",
       "</style>\n",
       "<table border=\"1\" class=\"dataframe\">\n",
       "  <thead>\n",
       "    <tr style=\"text-align: right;\">\n",
       "      <th></th>\n",
       "      <th>Genre</th>\n",
       "      <th>Play</th>\n",
       "      <th>Character</th>\n",
       "      <th>Speech</th>\n",
       "    </tr>\n",
       "  </thead>\n",
       "  <tbody>\n",
       "    <tr>\n",
       "      <th>561</th>\n",
       "      <td>tragedy</td>\n",
       "      <td>titus</td>\n",
       "      <td>Young LUCIUS</td>\n",
       "      <td>O grandsire, grandsire! even with all my heart...</td>\n",
       "    </tr>\n",
       "    <tr>\n",
       "      <th>562</th>\n",
       "      <td>tragedy</td>\n",
       "      <td>titus</td>\n",
       "      <td>AEMILIUS</td>\n",
       "      <td>You sad Andronici, have done with woes:\\nGive ...</td>\n",
       "    </tr>\n",
       "    <tr>\n",
       "      <th>563</th>\n",
       "      <td>tragedy</td>\n",
       "      <td>titus</td>\n",
       "      <td>LUCIUS</td>\n",
       "      <td>Set him breast-deep in earth, and famish him;\\...</td>\n",
       "    </tr>\n",
       "    <tr>\n",
       "      <th>564</th>\n",
       "      <td>tragedy</td>\n",
       "      <td>titus</td>\n",
       "      <td>AARON</td>\n",
       "      <td>O, why should wrath be mute, and fury dumb?\\nI...</td>\n",
       "    </tr>\n",
       "    <tr>\n",
       "      <th>565</th>\n",
       "      <td>tragedy</td>\n",
       "      <td>titus</td>\n",
       "      <td>LUCIUS</td>\n",
       "      <td>Some loving friends convey the emperor hence,\\...</td>\n",
       "    </tr>\n",
       "  </tbody>\n",
       "</table>\n",
       "</div>"
      ],
      "text/plain": [
       "       Genre   Play     Character  \\\n",
       "561  tragedy  titus  Young LUCIUS   \n",
       "562  tragedy  titus      AEMILIUS   \n",
       "563  tragedy  titus        LUCIUS   \n",
       "564  tragedy  titus         AARON   \n",
       "565  tragedy  titus        LUCIUS   \n",
       "\n",
       "                                                Speech  \n",
       "561  O grandsire, grandsire! even with all my heart...  \n",
       "562  You sad Andronici, have done with woes:\\nGive ...  \n",
       "563  Set him breast-deep in earth, and famish him;\\...  \n",
       "564  O, why should wrath be mute, and fury dumb?\\nI...  \n",
       "565  Some loving friends convey the emperor hence,\\...  "
      ]
     },
     "execution_count": 8,
     "metadata": {},
     "output_type": "execute_result"
    }
   ],
   "source": [
    "df.tail()"
   ]
  },
  {
   "cell_type": "markdown",
   "metadata": {},
   "source": [
    "** ii) Save dataframe as a pickle file **"
   ]
  },
  {
   "cell_type": "code",
   "execution_count": 9,
   "metadata": {},
   "outputs": [],
   "source": [
    "#Save the dataframe as pickle so that we do not have to make network calls\n",
    "df.to_pickle('shakespeare.pkl')"
   ]
  },
  {
   "cell_type": "code",
   "execution_count": 10,
   "metadata": {},
   "outputs": [],
   "source": [
    "#Load DataFrame from Pickle\n",
    "df_shakespeare = pd.read_pickle('shakespeare.pkl')"
   ]
  },
  {
   "cell_type": "code",
   "execution_count": 11,
   "metadata": {},
   "outputs": [
    {
     "data": {
      "text/html": [
       "<div>\n",
       "<style scoped>\n",
       "    .dataframe tbody tr th:only-of-type {\n",
       "        vertical-align: middle;\n",
       "    }\n",
       "\n",
       "    .dataframe tbody tr th {\n",
       "        vertical-align: top;\n",
       "    }\n",
       "\n",
       "    .dataframe thead th {\n",
       "        text-align: right;\n",
       "    }\n",
       "</style>\n",
       "<table border=\"1\" class=\"dataframe\">\n",
       "  <thead>\n",
       "    <tr style=\"text-align: right;\">\n",
       "      <th></th>\n",
       "      <th>Genre</th>\n",
       "      <th>Play</th>\n",
       "      <th>Character</th>\n",
       "      <th>Speech</th>\n",
       "    </tr>\n",
       "  </thead>\n",
       "  <tbody>\n",
       "    <tr>\n",
       "      <th>0</th>\n",
       "      <td>comedy</td>\n",
       "      <td>allswell</td>\n",
       "      <td>COUNTESS</td>\n",
       "      <td>In delivering my son from me, I bury a second ...</td>\n",
       "    </tr>\n",
       "  </tbody>\n",
       "</table>\n",
       "</div>"
      ],
      "text/plain": [
       "    Genre      Play Character  \\\n",
       "0  comedy  allswell  COUNTESS   \n",
       "\n",
       "                                              Speech  \n",
       "0  In delivering my son from me, I bury a second ...  "
      ]
     },
     "execution_count": 11,
     "metadata": {},
     "output_type": "execute_result"
    }
   ],
   "source": [
    "df_shakespeare.head(1)"
   ]
  },
  {
   "cell_type": "markdown",
   "metadata": {},
   "source": [
    "**iii) Case Folding: Convert text to lowercase**"
   ]
  },
  {
   "cell_type": "code",
   "execution_count": 12,
   "metadata": {},
   "outputs": [],
   "source": [
    "df_shakespeare.Speech = df_shakespeare.Speech.str.lower()\n",
    "df_shakespeare.Character = df_shakespeare.Character.str.lower()"
   ]
  },
  {
   "cell_type": "code",
   "execution_count": 13,
   "metadata": {},
   "outputs": [
    {
     "data": {
      "text/html": [
       "<div>\n",
       "<style scoped>\n",
       "    .dataframe tbody tr th:only-of-type {\n",
       "        vertical-align: middle;\n",
       "    }\n",
       "\n",
       "    .dataframe tbody tr th {\n",
       "        vertical-align: top;\n",
       "    }\n",
       "\n",
       "    .dataframe thead th {\n",
       "        text-align: right;\n",
       "    }\n",
       "</style>\n",
       "<table border=\"1\" class=\"dataframe\">\n",
       "  <thead>\n",
       "    <tr style=\"text-align: right;\">\n",
       "      <th></th>\n",
       "      <th>Genre</th>\n",
       "      <th>Play</th>\n",
       "      <th>Character</th>\n",
       "      <th>Speech</th>\n",
       "    </tr>\n",
       "  </thead>\n",
       "  <tbody>\n",
       "    <tr>\n",
       "      <th>561</th>\n",
       "      <td>tragedy</td>\n",
       "      <td>titus</td>\n",
       "      <td>young lucius</td>\n",
       "      <td>o grandsire, grandsire! even with all my heart...</td>\n",
       "    </tr>\n",
       "    <tr>\n",
       "      <th>562</th>\n",
       "      <td>tragedy</td>\n",
       "      <td>titus</td>\n",
       "      <td>aemilius</td>\n",
       "      <td>you sad andronici, have done with woes:\\ngive ...</td>\n",
       "    </tr>\n",
       "    <tr>\n",
       "      <th>563</th>\n",
       "      <td>tragedy</td>\n",
       "      <td>titus</td>\n",
       "      <td>lucius</td>\n",
       "      <td>set him breast-deep in earth, and famish him;\\...</td>\n",
       "    </tr>\n",
       "    <tr>\n",
       "      <th>564</th>\n",
       "      <td>tragedy</td>\n",
       "      <td>titus</td>\n",
       "      <td>aaron</td>\n",
       "      <td>o, why should wrath be mute, and fury dumb?\\ni...</td>\n",
       "    </tr>\n",
       "    <tr>\n",
       "      <th>565</th>\n",
       "      <td>tragedy</td>\n",
       "      <td>titus</td>\n",
       "      <td>lucius</td>\n",
       "      <td>some loving friends convey the emperor hence,\\...</td>\n",
       "    </tr>\n",
       "  </tbody>\n",
       "</table>\n",
       "</div>"
      ],
      "text/plain": [
       "       Genre   Play     Character  \\\n",
       "561  tragedy  titus  young lucius   \n",
       "562  tragedy  titus      aemilius   \n",
       "563  tragedy  titus        lucius   \n",
       "564  tragedy  titus         aaron   \n",
       "565  tragedy  titus        lucius   \n",
       "\n",
       "                                                Speech  \n",
       "561  o grandsire, grandsire! even with all my heart...  \n",
       "562  you sad andronici, have done with woes:\\ngive ...  \n",
       "563  set him breast-deep in earth, and famish him;\\...  \n",
       "564  o, why should wrath be mute, and fury dumb?\\ni...  \n",
       "565  some loving friends convey the emperor hence,\\...  "
      ]
     },
     "execution_count": 13,
     "metadata": {},
     "output_type": "execute_result"
    }
   ],
   "source": [
    "df_shakespeare.tail()"
   ]
  },
  {
   "cell_type": "markdown",
   "metadata": {},
   "source": [
    "** iv) Remove Punctuations and other unwanted characters **"
   ]
  },
  {
   "cell_type": "code",
   "execution_count": 14,
   "metadata": {},
   "outputs": [],
   "source": [
    "#Function to remove punctuation and other unwanted characters\n",
    "def remove_unwanted_characters(input_text):\n",
    "    \"\"\"\n",
    "    Description: Removes unwanted characters from the text\n",
    "    Arguments: \n",
    "            input_text : String with input text\n",
    "    Returns :\n",
    "            Text with unwanted characters removed\n",
    "    \"\"\"\n",
    "    prog = re.compile('[\\t\\n\\r\\f\\v\\d\\']', re.UNICODE)\n",
    "    output = re.sub(prog, ' ', input_text)\n",
    "    #Remove punctuations\n",
    "    prog = re.compile('[!\\\"#$%&\\'()*+\\,-./:;<=>?@[\\]^_`{|}~]', re.UNICODE)\n",
    "    output = re.sub(prog, ' ', output)\n",
    "    #Remove multiple spaces with a single space\n",
    "    output = re.sub(' +',' ',output)\n",
    "    return output\n",
    "    "
   ]
  },
  {
   "cell_type": "code",
   "execution_count": 15,
   "metadata": {},
   "outputs": [],
   "source": [
    "#Remove punctuations and unwanted characters\n",
    "df_shakespeare.Speech=df_shakespeare.Speech.apply(remove_unwanted_characters)"
   ]
  },
  {
   "cell_type": "code",
   "execution_count": 16,
   "metadata": {},
   "outputs": [
    {
     "data": {
      "text/html": [
       "<div>\n",
       "<style scoped>\n",
       "    .dataframe tbody tr th:only-of-type {\n",
       "        vertical-align: middle;\n",
       "    }\n",
       "\n",
       "    .dataframe tbody tr th {\n",
       "        vertical-align: top;\n",
       "    }\n",
       "\n",
       "    .dataframe thead th {\n",
       "        text-align: right;\n",
       "    }\n",
       "</style>\n",
       "<table border=\"1\" class=\"dataframe\">\n",
       "  <thead>\n",
       "    <tr style=\"text-align: right;\">\n",
       "      <th></th>\n",
       "      <th>Genre</th>\n",
       "      <th>Play</th>\n",
       "      <th>Character</th>\n",
       "      <th>Speech</th>\n",
       "    </tr>\n",
       "  </thead>\n",
       "  <tbody>\n",
       "    <tr>\n",
       "      <th>561</th>\n",
       "      <td>tragedy</td>\n",
       "      <td>titus</td>\n",
       "      <td>young lucius</td>\n",
       "      <td>o grandsire grandsire even with all my heart w...</td>\n",
       "    </tr>\n",
       "    <tr>\n",
       "      <th>562</th>\n",
       "      <td>tragedy</td>\n",
       "      <td>titus</td>\n",
       "      <td>aemilius</td>\n",
       "      <td>you sad andronici have done with woes give sen...</td>\n",
       "    </tr>\n",
       "    <tr>\n",
       "      <th>563</th>\n",
       "      <td>tragedy</td>\n",
       "      <td>titus</td>\n",
       "      <td>lucius</td>\n",
       "      <td>set him breast deep in earth and famish him th...</td>\n",
       "    </tr>\n",
       "    <tr>\n",
       "      <th>564</th>\n",
       "      <td>tragedy</td>\n",
       "      <td>titus</td>\n",
       "      <td>aaron</td>\n",
       "      <td>o why should wrath be mute and fury dumb i am ...</td>\n",
       "    </tr>\n",
       "    <tr>\n",
       "      <th>565</th>\n",
       "      <td>tragedy</td>\n",
       "      <td>titus</td>\n",
       "      <td>lucius</td>\n",
       "      <td>some loving friends convey the emperor hence a...</td>\n",
       "    </tr>\n",
       "  </tbody>\n",
       "</table>\n",
       "</div>"
      ],
      "text/plain": [
       "       Genre   Play     Character  \\\n",
       "561  tragedy  titus  young lucius   \n",
       "562  tragedy  titus      aemilius   \n",
       "563  tragedy  titus        lucius   \n",
       "564  tragedy  titus         aaron   \n",
       "565  tragedy  titus        lucius   \n",
       "\n",
       "                                                Speech  \n",
       "561  o grandsire grandsire even with all my heart w...  \n",
       "562  you sad andronici have done with woes give sen...  \n",
       "563  set him breast deep in earth and famish him th...  \n",
       "564  o why should wrath be mute and fury dumb i am ...  \n",
       "565  some loving friends convey the emperor hence a...  "
      ]
     },
     "execution_count": 16,
     "metadata": {},
     "output_type": "execute_result"
    }
   ],
   "source": [
    "df_shakespeare.tail()"
   ]
  },
  {
   "cell_type": "markdown",
   "metadata": {},
   "source": [
    "** v) Remove stop words **"
   ]
  },
  {
   "cell_type": "code",
   "execution_count": 17,
   "metadata": {},
   "outputs": [],
   "source": [
    "#Function to remove stop words\n",
    "from nltk.corpus import stopwords\n",
    "def remove_stopwords(input_text):\n",
    "    \"\"\"\n",
    "    Description : Removes stop words and words \n",
    "    Arguments:\n",
    "            input_text: String with input text\n",
    "        \n",
    "    Returns :\n",
    "            String with stop words removed\n",
    "    \"\"\"\n",
    "    output_text=[]\n",
    "    stopwords_ = stopwords.words('english')\n",
    "    output_text = ' '.join([word for word in input_text.split() if word not in stopwords_])\n",
    "    return output_text"
   ]
  },
  {
   "cell_type": "code",
   "execution_count": 18,
   "metadata": {},
   "outputs": [],
   "source": [
    "#Remove stop words\n",
    "# added the next 2 lines on 7/8/19. execute once only\n",
    "# import nltk\n",
    "# nltk.download('stopwords')\n",
    "df_shakespeare.Speech=df_shakespeare.Speech.apply(remove_stopwords)"
   ]
  },
  {
   "cell_type": "code",
   "execution_count": 19,
   "metadata": {},
   "outputs": [
    {
     "data": {
      "text/html": [
       "<div>\n",
       "<style scoped>\n",
       "    .dataframe tbody tr th:only-of-type {\n",
       "        vertical-align: middle;\n",
       "    }\n",
       "\n",
       "    .dataframe tbody tr th {\n",
       "        vertical-align: top;\n",
       "    }\n",
       "\n",
       "    .dataframe thead th {\n",
       "        text-align: right;\n",
       "    }\n",
       "</style>\n",
       "<table border=\"1\" class=\"dataframe\">\n",
       "  <thead>\n",
       "    <tr style=\"text-align: right;\">\n",
       "      <th></th>\n",
       "      <th>Genre</th>\n",
       "      <th>Play</th>\n",
       "      <th>Character</th>\n",
       "      <th>Speech</th>\n",
       "    </tr>\n",
       "  </thead>\n",
       "  <tbody>\n",
       "    <tr>\n",
       "      <th>561</th>\n",
       "      <td>tragedy</td>\n",
       "      <td>titus</td>\n",
       "      <td>young lucius</td>\n",
       "      <td>grandsire grandsire even heart would dead live...</td>\n",
       "    </tr>\n",
       "    <tr>\n",
       "      <th>562</th>\n",
       "      <td>tragedy</td>\n",
       "      <td>titus</td>\n",
       "      <td>aemilius</td>\n",
       "      <td>sad andronici done woes give sentence execrabl...</td>\n",
       "    </tr>\n",
       "    <tr>\n",
       "      <th>563</th>\n",
       "      <td>tragedy</td>\n",
       "      <td>titus</td>\n",
       "      <td>lucius</td>\n",
       "      <td>set breast deep earth famish let stand rave cr...</td>\n",
       "    </tr>\n",
       "    <tr>\n",
       "      <th>564</th>\n",
       "      <td>tragedy</td>\n",
       "      <td>titus</td>\n",
       "      <td>aaron</td>\n",
       "      <td>wrath mute fury dumb baby base prayers repent ...</td>\n",
       "    </tr>\n",
       "    <tr>\n",
       "      <th>565</th>\n",
       "      <td>tragedy</td>\n",
       "      <td>titus</td>\n",
       "      <td>lucius</td>\n",
       "      <td>loving friends convey emperor hence give buria...</td>\n",
       "    </tr>\n",
       "  </tbody>\n",
       "</table>\n",
       "</div>"
      ],
      "text/plain": [
       "       Genre   Play     Character  \\\n",
       "561  tragedy  titus  young lucius   \n",
       "562  tragedy  titus      aemilius   \n",
       "563  tragedy  titus        lucius   \n",
       "564  tragedy  titus         aaron   \n",
       "565  tragedy  titus        lucius   \n",
       "\n",
       "                                                Speech  \n",
       "561  grandsire grandsire even heart would dead live...  \n",
       "562  sad andronici done woes give sentence execrabl...  \n",
       "563  set breast deep earth famish let stand rave cr...  \n",
       "564  wrath mute fury dumb baby base prayers repent ...  \n",
       "565  loving friends convey emperor hence give buria...  "
      ]
     },
     "execution_count": 19,
     "metadata": {},
     "output_type": "execute_result"
    }
   ],
   "source": [
    "df_shakespeare.tail()"
   ]
  },
  {
   "cell_type": "markdown",
   "metadata": {},
   "source": [
    "** v) Stemming **\n",
    "<br/>Stemming reduces a word to its most basic form. It is useful to reduce the dimensionality of the text data."
   ]
  },
  {
   "cell_type": "code",
   "execution_count": 20,
   "metadata": {},
   "outputs": [],
   "source": [
    "#Function to perform Stemming\n",
    "from nltk.stem.porter import *\n",
    "\n",
    "def stem_text(input_text):\n",
    "    \"\"\"\n",
    "    Description : Stems the input text\n",
    "    \n",
    "    Arguments:\n",
    "         input_text : A string with input text\n",
    "    Returns :\n",
    "          A stemmed version of the input text\n",
    "    \"\"\"\n",
    "    stemmer = PorterStemmer()\n",
    "    output_text = ' '.join([stemmer.stem(word) for word in input_text.split()])\n",
    "    return output_text"
   ]
  },
  {
   "cell_type": "code",
   "execution_count": 21,
   "metadata": {},
   "outputs": [],
   "source": [
    "#Reduce words to most basic stems \n",
    "df_shakespeare.Speech=df_shakespeare.Speech.apply(stem_text)"
   ]
  },
  {
   "cell_type": "code",
   "execution_count": 22,
   "metadata": {},
   "outputs": [
    {
     "data": {
      "text/html": [
       "<div>\n",
       "<style scoped>\n",
       "    .dataframe tbody tr th:only-of-type {\n",
       "        vertical-align: middle;\n",
       "    }\n",
       "\n",
       "    .dataframe tbody tr th {\n",
       "        vertical-align: top;\n",
       "    }\n",
       "\n",
       "    .dataframe thead th {\n",
       "        text-align: right;\n",
       "    }\n",
       "</style>\n",
       "<table border=\"1\" class=\"dataframe\">\n",
       "  <thead>\n",
       "    <tr style=\"text-align: right;\">\n",
       "      <th></th>\n",
       "      <th>Genre</th>\n",
       "      <th>Play</th>\n",
       "      <th>Character</th>\n",
       "      <th>Speech</th>\n",
       "    </tr>\n",
       "  </thead>\n",
       "  <tbody>\n",
       "    <tr>\n",
       "      <th>561</th>\n",
       "      <td>tragedy</td>\n",
       "      <td>titus</td>\n",
       "      <td>young lucius</td>\n",
       "      <td>grandsir grandsir even heart would dead live l...</td>\n",
       "    </tr>\n",
       "    <tr>\n",
       "      <th>562</th>\n",
       "      <td>tragedy</td>\n",
       "      <td>titus</td>\n",
       "      <td>aemilius</td>\n",
       "      <td>sad andronici done woe give sentenc execr wret...</td>\n",
       "    </tr>\n",
       "    <tr>\n",
       "      <th>563</th>\n",
       "      <td>tragedy</td>\n",
       "      <td>titus</td>\n",
       "      <td>lucius</td>\n",
       "      <td>set breast deep earth famish let stand rave cr...</td>\n",
       "    </tr>\n",
       "    <tr>\n",
       "      <th>564</th>\n",
       "      <td>tragedy</td>\n",
       "      <td>titus</td>\n",
       "      <td>aaron</td>\n",
       "      <td>wrath mute furi dumb babi base prayer repent e...</td>\n",
       "    </tr>\n",
       "    <tr>\n",
       "      <th>565</th>\n",
       "      <td>tragedy</td>\n",
       "      <td>titus</td>\n",
       "      <td>lucius</td>\n",
       "      <td>love friend convey emperor henc give burial fa...</td>\n",
       "    </tr>\n",
       "  </tbody>\n",
       "</table>\n",
       "</div>"
      ],
      "text/plain": [
       "       Genre   Play     Character  \\\n",
       "561  tragedy  titus  young lucius   \n",
       "562  tragedy  titus      aemilius   \n",
       "563  tragedy  titus        lucius   \n",
       "564  tragedy  titus         aaron   \n",
       "565  tragedy  titus        lucius   \n",
       "\n",
       "                                                Speech  \n",
       "561  grandsir grandsir even heart would dead live l...  \n",
       "562  sad andronici done woe give sentenc execr wret...  \n",
       "563  set breast deep earth famish let stand rave cr...  \n",
       "564  wrath mute furi dumb babi base prayer repent e...  \n",
       "565  love friend convey emperor henc give burial fa...  "
      ]
     },
     "execution_count": 22,
     "metadata": {},
     "output_type": "execute_result"
    }
   ],
   "source": [
    "df_shakespeare.tail()"
   ]
  },
  {
   "cell_type": "code",
   "execution_count": 23,
   "metadata": {},
   "outputs": [
    {
     "data": {
      "text/html": [
       "<div>\n",
       "<style scoped>\n",
       "    .dataframe tbody tr th:only-of-type {\n",
       "        vertical-align: middle;\n",
       "    }\n",
       "\n",
       "    .dataframe tbody tr th {\n",
       "        vertical-align: top;\n",
       "    }\n",
       "\n",
       "    .dataframe thead th {\n",
       "        text-align: right;\n",
       "    }\n",
       "</style>\n",
       "<table border=\"1\" class=\"dataframe\">\n",
       "  <thead>\n",
       "    <tr style=\"text-align: right;\">\n",
       "      <th></th>\n",
       "      <th>Genre</th>\n",
       "      <th>Play</th>\n",
       "      <th>Character</th>\n",
       "      <th>Speech</th>\n",
       "    </tr>\n",
       "  </thead>\n",
       "  <tbody>\n",
       "    <tr>\n",
       "      <th>count</th>\n",
       "      <td>30967</td>\n",
       "      <td>30967</td>\n",
       "      <td>30967</td>\n",
       "      <td>30967</td>\n",
       "    </tr>\n",
       "    <tr>\n",
       "      <th>unique</th>\n",
       "      <td>3</td>\n",
       "      <td>37</td>\n",
       "      <td>953</td>\n",
       "      <td>29030</td>\n",
       "    </tr>\n",
       "    <tr>\n",
       "      <th>top</th>\n",
       "      <td>comedy</td>\n",
       "      <td>othello</td>\n",
       "      <td>gloucester</td>\n",
       "      <td></td>\n",
       "    </tr>\n",
       "    <tr>\n",
       "      <th>freq</th>\n",
       "      <td>14140</td>\n",
       "      <td>1182</td>\n",
       "      <td>480</td>\n",
       "      <td>397</td>\n",
       "    </tr>\n",
       "  </tbody>\n",
       "</table>\n",
       "</div>"
      ],
      "text/plain": [
       "         Genre     Play   Character Speech\n",
       "count    30967    30967       30967  30967\n",
       "unique       3       37         953  29030\n",
       "top     comedy  othello  gloucester       \n",
       "freq     14140     1182         480    397"
      ]
     },
     "execution_count": 23,
     "metadata": {},
     "output_type": "execute_result"
    }
   ],
   "source": [
    "df_shakespeare.describe()"
   ]
  },
  {
   "cell_type": "markdown",
   "metadata": {},
   "source": [
    "There are 953 unique characters with 29086 utterances in 37 plays."
   ]
  },
  {
   "cell_type": "markdown",
   "metadata": {},
   "source": [
    "** Can we distinguish between plays or characters by the utterance lengths ?**"
   ]
  },
  {
   "cell_type": "code",
   "execution_count": 24,
   "metadata": {},
   "outputs": [],
   "source": [
    "test = df_shakespeare.rank()"
   ]
  },
  {
   "cell_type": "code",
   "execution_count": 25,
   "metadata": {},
   "outputs": [
    {
     "data": {
      "text/html": [
       "<div>\n",
       "<style scoped>\n",
       "    .dataframe tbody tr th:only-of-type {\n",
       "        vertical-align: middle;\n",
       "    }\n",
       "\n",
       "    .dataframe tbody tr th {\n",
       "        vertical-align: top;\n",
       "    }\n",
       "\n",
       "    .dataframe thead th {\n",
       "        text-align: right;\n",
       "    }\n",
       "</style>\n",
       "<table border=\"1\" class=\"dataframe\">\n",
       "  <thead>\n",
       "    <tr style=\"text-align: right;\">\n",
       "      <th></th>\n",
       "      <th>Genre</th>\n",
       "      <th>Play</th>\n",
       "      <th>Character</th>\n",
       "      <th>Speech</th>\n",
       "    </tr>\n",
       "  </thead>\n",
       "  <tbody>\n",
       "    <tr>\n",
       "      <th>0</th>\n",
       "      <td>7070.5</td>\n",
       "      <td>4344.5</td>\n",
       "      <td>6551.0</td>\n",
       "      <td>5780.0</td>\n",
       "    </tr>\n",
       "    <tr>\n",
       "      <th>1</th>\n",
       "      <td>7070.5</td>\n",
       "      <td>4344.5</td>\n",
       "      <td>2667.5</td>\n",
       "      <td>9125.0</td>\n",
       "    </tr>\n",
       "    <tr>\n",
       "      <th>2</th>\n",
       "      <td>7070.5</td>\n",
       "      <td>4344.5</td>\n",
       "      <td>17121.5</td>\n",
       "      <td>22546.0</td>\n",
       "    </tr>\n",
       "    <tr>\n",
       "      <th>3</th>\n",
       "      <td>7070.5</td>\n",
       "      <td>4344.5</td>\n",
       "      <td>6551.0</td>\n",
       "      <td>11817.0</td>\n",
       "    </tr>\n",
       "    <tr>\n",
       "      <th>4</th>\n",
       "      <td>7070.5</td>\n",
       "      <td>4344.5</td>\n",
       "      <td>17121.5</td>\n",
       "      <td>10886.0</td>\n",
       "    </tr>\n",
       "  </tbody>\n",
       "</table>\n",
       "</div>"
      ],
      "text/plain": [
       "    Genre    Play  Character   Speech\n",
       "0  7070.5  4344.5     6551.0   5780.0\n",
       "1  7070.5  4344.5     2667.5   9125.0\n",
       "2  7070.5  4344.5    17121.5  22546.0\n",
       "3  7070.5  4344.5     6551.0  11817.0\n",
       "4  7070.5  4344.5    17121.5  10886.0"
      ]
     },
     "execution_count": 25,
     "metadata": {},
     "output_type": "execute_result"
    }
   ],
   "source": [
    "test.head()"
   ]
  },
  {
   "cell_type": "code",
   "execution_count": 26,
   "metadata": {},
   "outputs": [],
   "source": [
    "utterance_length = lambda x: len(x.split())\n",
    "df_shakespeare_lengths = df_shakespeare.copy()\n",
    "df_shakespeare_lengths['UtteranceLengths'] = df_shakespeare_lengths.Speech.apply(utterance_length)"
   ]
  },
  {
   "cell_type": "code",
   "execution_count": 27,
   "metadata": {},
   "outputs": [
    {
     "data": {
      "text/html": [
       "<div>\n",
       "<style scoped>\n",
       "    .dataframe tbody tr th:only-of-type {\n",
       "        vertical-align: middle;\n",
       "    }\n",
       "\n",
       "    .dataframe tbody tr th {\n",
       "        vertical-align: top;\n",
       "    }\n",
       "\n",
       "    .dataframe thead th {\n",
       "        text-align: right;\n",
       "    }\n",
       "</style>\n",
       "<table border=\"1\" class=\"dataframe\">\n",
       "  <thead>\n",
       "    <tr style=\"text-align: right;\">\n",
       "      <th></th>\n",
       "      <th>Genre</th>\n",
       "      <th>Play</th>\n",
       "      <th>Character</th>\n",
       "      <th>Speech</th>\n",
       "      <th>UtteranceLengths</th>\n",
       "    </tr>\n",
       "  </thead>\n",
       "  <tbody>\n",
       "    <tr>\n",
       "      <th>561</th>\n",
       "      <td>tragedy</td>\n",
       "      <td>titus</td>\n",
       "      <td>young lucius</td>\n",
       "      <td>grandsir grandsir even heart would dead live l...</td>\n",
       "      <td>18</td>\n",
       "    </tr>\n",
       "    <tr>\n",
       "      <th>562</th>\n",
       "      <td>tragedy</td>\n",
       "      <td>titus</td>\n",
       "      <td>aemilius</td>\n",
       "      <td>sad andronici done woe give sentenc execr wret...</td>\n",
       "      <td>12</td>\n",
       "    </tr>\n",
       "    <tr>\n",
       "      <th>563</th>\n",
       "      <td>tragedy</td>\n",
       "      <td>titus</td>\n",
       "      <td>lucius</td>\n",
       "      <td>set breast deep earth famish let stand rave cr...</td>\n",
       "      <td>20</td>\n",
       "    </tr>\n",
       "    <tr>\n",
       "      <th>564</th>\n",
       "      <td>tragedy</td>\n",
       "      <td>titus</td>\n",
       "      <td>aaron</td>\n",
       "      <td>wrath mute furi dumb babi base prayer repent e...</td>\n",
       "      <td>24</td>\n",
       "    </tr>\n",
       "    <tr>\n",
       "      <th>565</th>\n",
       "      <td>tragedy</td>\n",
       "      <td>titus</td>\n",
       "      <td>lucius</td>\n",
       "      <td>love friend convey emperor henc give burial fa...</td>\n",
       "      <td>63</td>\n",
       "    </tr>\n",
       "  </tbody>\n",
       "</table>\n",
       "</div>"
      ],
      "text/plain": [
       "       Genre   Play     Character  \\\n",
       "561  tragedy  titus  young lucius   \n",
       "562  tragedy  titus      aemilius   \n",
       "563  tragedy  titus        lucius   \n",
       "564  tragedy  titus         aaron   \n",
       "565  tragedy  titus        lucius   \n",
       "\n",
       "                                                Speech  UtteranceLengths  \n",
       "561  grandsir grandsir even heart would dead live l...                18  \n",
       "562  sad andronici done woe give sentenc execr wret...                12  \n",
       "563  set breast deep earth famish let stand rave cr...                20  \n",
       "564  wrath mute furi dumb babi base prayer repent e...                24  \n",
       "565  love friend convey emperor henc give burial fa...                63  "
      ]
     },
     "execution_count": 27,
     "metadata": {},
     "output_type": "execute_result"
    }
   ],
   "source": [
    "df_shakespeare_lengths.tail()"
   ]
  },
  {
   "cell_type": "code",
   "execution_count": 28,
   "metadata": {},
   "outputs": [
    {
     "data": {
      "image/png": "[encoded data removed]",
      "text/plain": [
       "<Figure size 432x288 with 1 Axes>"
      ]
     },
     "metadata": {
      "needs_background": "light"
     },
     "output_type": "display_data"
    }
   ],
   "source": [
    "fig = sns.distplot(df_shakespeare_lengths.UtteranceLengths)"
   ]
  },
  {
   "cell_type": "markdown",
   "metadata": {},
   "source": [
    "Looking at the distribution of the utterance lengths, it is clear that most of the sentences consist of 5 to 30 words and there are a handful of long sentences which probably are monologues."
   ]
  },
  {
   "cell_type": "code",
   "execution_count": 29,
   "metadata": {},
   "outputs": [
    {
     "data": {
      "text/plain": [
       "<matplotlib.axes._subplots.AxesSubplot at 0x24f55ebf9e8>"
      ]
     },
     "execution_count": 29,
     "metadata": {},
     "output_type": "execute_result"
    },
    {
     "data": {
      "image/png": "[encoded data removed]",
      "text/plain": [
       "<Figure size 720x720 with 1 Axes>"
      ]
     },
     "metadata": {
      "needs_background": "light"
     },
     "output_type": "display_data"
    }
   ],
   "source": [
    "fig, ax =plt.subplots(figsize=(10,10))\n",
    "sns.violinplot(x=\"UtteranceLengths\", y=\"Play\", data=df_shakespeare_lengths)\n"
   ]
  },
  {
   "cell_type": "markdown",
   "metadata": {
    "collapsed": true
   },
   "source": [
    "Looking at the violin plot, we can discern that comedies have longer utterance lengths than tragedies."
   ]
  },
  {
   "cell_type": "markdown",
   "metadata": {},
   "source": [
    "Can we distinguish between characters of a single play using distribution of utterance lengths?"
   ]
  },
  {
   "cell_type": "code",
   "execution_count": 30,
   "metadata": {},
   "outputs": [
    {
     "data": {
      "image/png": "[encoded data removed]",
      "text/plain": [
       "<Figure size 1440x1440 with 42 Axes>"
      ]
     },
     "metadata": {
      "needs_background": "light"
     },
     "output_type": "display_data"
    }
   ],
   "source": [
    "df_shakespeare_lengths[df_shakespeare_lengths['Play']=='macbeth'].hist(column='UtteranceLengths', by='Character',bins=50,figsize=(20,20));"
   ]
  },
  {
   "cell_type": "markdown",
   "metadata": {},
   "source": [
    "This looks promising as different characters have different distribution of utterance lengths."
   ]
  },
  {
   "cell_type": "markdown",
   "metadata": {},
   "source": [
    "** vi) Grouping Utterances by characters **"
   ]
  },
  {
   "cell_type": "code",
   "execution_count": 31,
   "metadata": {},
   "outputs": [
    {
     "data": {
      "text/html": [
       "<div>\n",
       "<style scoped>\n",
       "    .dataframe tbody tr th:only-of-type {\n",
       "        vertical-align: middle;\n",
       "    }\n",
       "\n",
       "    .dataframe tbody tr th {\n",
       "        vertical-align: top;\n",
       "    }\n",
       "\n",
       "    .dataframe thead th {\n",
       "        text-align: right;\n",
       "    }\n",
       "</style>\n",
       "<table border=\"1\" class=\"dataframe\">\n",
       "  <thead>\n",
       "    <tr style=\"text-align: right;\">\n",
       "      <th></th>\n",
       "      <th>Genre</th>\n",
       "      <th>Play</th>\n",
       "      <th>Character</th>\n",
       "      <th>Speech</th>\n",
       "      <th>UtteranceLengths</th>\n",
       "    </tr>\n",
       "  </thead>\n",
       "  <tbody>\n",
       "    <tr>\n",
       "      <th>0</th>\n",
       "      <td>comedy</td>\n",
       "      <td>allswell</td>\n",
       "      <td>countess</td>\n",
       "      <td>deliv son buri second husband</td>\n",
       "      <td>5</td>\n",
       "    </tr>\n",
       "    <tr>\n",
       "      <th>1</th>\n",
       "      <td>comedy</td>\n",
       "      <td>allswell</td>\n",
       "      <td>bertram</td>\n",
       "      <td>go madam weep er father death anew must attend...</td>\n",
       "      <td>14</td>\n",
       "    </tr>\n",
       "    <tr>\n",
       "      <th>2</th>\n",
       "      <td>comedy</td>\n",
       "      <td>allswell</td>\n",
       "      <td>lafeu</td>\n",
       "      <td>shall find king husband madam sir father gener...</td>\n",
       "      <td>22</td>\n",
       "    </tr>\n",
       "    <tr>\n",
       "      <th>3</th>\n",
       "      <td>comedy</td>\n",
       "      <td>allswell</td>\n",
       "      <td>countess</td>\n",
       "      <td>hope majesti amend</td>\n",
       "      <td>3</td>\n",
       "    </tr>\n",
       "    <tr>\n",
       "      <th>4</th>\n",
       "      <td>comedy</td>\n",
       "      <td>allswell</td>\n",
       "      <td>lafeu</td>\n",
       "      <td>hath abandon physician madam whose practis hat...</td>\n",
       "      <td>16</td>\n",
       "    </tr>\n",
       "  </tbody>\n",
       "</table>\n",
       "</div>"
      ],
      "text/plain": [
       "    Genre      Play Character  \\\n",
       "0  comedy  allswell  countess   \n",
       "1  comedy  allswell   bertram   \n",
       "2  comedy  allswell     lafeu   \n",
       "3  comedy  allswell  countess   \n",
       "4  comedy  allswell     lafeu   \n",
       "\n",
       "                                              Speech  UtteranceLengths  \n",
       "0                      deliv son buri second husband                 5  \n",
       "1  go madam weep er father death anew must attend...                14  \n",
       "2  shall find king husband madam sir father gener...                22  \n",
       "3                                 hope majesti amend                 3  \n",
       "4  hath abandon physician madam whose practis hat...                16  "
      ]
     },
     "execution_count": 31,
     "metadata": {},
     "output_type": "execute_result"
    }
   ],
   "source": [
    "df_shakespeare_lengths.head()"
   ]
  },
  {
   "cell_type": "code",
   "execution_count": 32,
   "metadata": {},
   "outputs": [],
   "source": [
    "#Create a copy of the original dataframe\n",
    "df_pregroup=df_shakespeare_lengths.copy()\n"
   ]
  },
  {
   "cell_type": "code",
   "execution_count": 33,
   "metadata": {},
   "outputs": [],
   "source": [
    "#Define utterance join lambda\n",
    "utterance_join = lambda x:\" \".join(x)\n",
    "df_grouped=df_pregroup.groupby(['Play','Character'],as_index=False).agg({'Speech':utterance_join,'UtteranceLengths':np.sum})"
   ]
  },
  {
   "cell_type": "code",
   "execution_count": 34,
   "metadata": {},
   "outputs": [
    {
     "data": {
      "text/html": [
       "<div>\n",
       "<style scoped>\n",
       "    .dataframe tbody tr th:only-of-type {\n",
       "        vertical-align: middle;\n",
       "    }\n",
       "\n",
       "    .dataframe tbody tr th {\n",
       "        vertical-align: top;\n",
       "    }\n",
       "\n",
       "    .dataframe thead th {\n",
       "        text-align: right;\n",
       "    }\n",
       "</style>\n",
       "<table border=\"1\" class=\"dataframe\">\n",
       "  <thead>\n",
       "    <tr style=\"text-align: right;\">\n",
       "      <th></th>\n",
       "      <th>Play</th>\n",
       "      <th>Character</th>\n",
       "      <th>Speech</th>\n",
       "      <th>UtteranceLengths</th>\n",
       "    </tr>\n",
       "  </thead>\n",
       "  <tbody>\n",
       "    <tr>\n",
       "      <th>1338</th>\n",
       "      <td>winters_tale</td>\n",
       "      <td>servant</td>\n",
       "      <td>pleas high post sent oracl come hour sinc cleo...</td>\n",
       "      <td>180</td>\n",
       "    </tr>\n",
       "    <tr>\n",
       "      <th>1339</th>\n",
       "      <td>winters_tale</td>\n",
       "      <td>shepard</td>\n",
       "      <td>ti said sir son marri shepherd daughter</td>\n",
       "      <td>7</td>\n",
       "    </tr>\n",
       "    <tr>\n",
       "      <th>1340</th>\n",
       "      <td>winters_tale</td>\n",
       "      <td>shepherd</td>\n",
       "      <td>would age sixteen three twenti youth would sle...</td>\n",
       "      <td>517</td>\n",
       "    </tr>\n",
       "    <tr>\n",
       "      <th>1341</th>\n",
       "      <td>winters_tale</td>\n",
       "      <td>third gentleman</td>\n",
       "      <td>true ever truth pregnant circumst hear swear s...</td>\n",
       "      <td>268</td>\n",
       "    </tr>\n",
       "    <tr>\n",
       "      <th>1342</th>\n",
       "      <td>winters_tale</td>\n",
       "      <td>time</td>\n",
       "      <td>pleas tri joy terror good bad make unfold erro...</td>\n",
       "      <td>127</td>\n",
       "    </tr>\n",
       "  </tbody>\n",
       "</table>\n",
       "</div>"
      ],
      "text/plain": [
       "              Play        Character  \\\n",
       "1338  winters_tale          servant   \n",
       "1339  winters_tale          shepard   \n",
       "1340  winters_tale         shepherd   \n",
       "1341  winters_tale  third gentleman   \n",
       "1342  winters_tale             time   \n",
       "\n",
       "                                                 Speech  UtteranceLengths  \n",
       "1338  pleas high post sent oracl come hour sinc cleo...               180  \n",
       "1339            ti said sir son marri shepherd daughter                 7  \n",
       "1340  would age sixteen three twenti youth would sle...               517  \n",
       "1341  true ever truth pregnant circumst hear swear s...               268  \n",
       "1342  pleas tri joy terror good bad make unfold erro...               127  "
      ]
     },
     "execution_count": 34,
     "metadata": {},
     "output_type": "execute_result"
    }
   ],
   "source": [
    "df_grouped.tail()"
   ]
  },
  {
   "cell_type": "markdown",
   "metadata": {},
   "source": [
    "**vii)Combine with Character Gender and Fool status**"
   ]
  },
  {
   "cell_type": "code",
   "execution_count": 35,
   "metadata": {},
   "outputs": [
    {
     "data": {
      "text/html": [
       "<div>\n",
       "<style scoped>\n",
       "    .dataframe tbody tr th:only-of-type {\n",
       "        vertical-align: middle;\n",
       "    }\n",
       "\n",
       "    .dataframe tbody tr th {\n",
       "        vertical-align: top;\n",
       "    }\n",
       "\n",
       "    .dataframe thead th {\n",
       "        text-align: right;\n",
       "    }\n",
       "</style>\n",
       "<table border=\"1\" class=\"dataframe\">\n",
       "  <thead>\n",
       "    <tr style=\"text-align: right;\">\n",
       "      <th></th>\n",
       "      <th>Speaker</th>\n",
       "      <th>Gender</th>\n",
       "      <th>Play</th>\n",
       "      <th>TopVillain</th>\n",
       "      <th>Fools</th>\n",
       "    </tr>\n",
       "  </thead>\n",
       "  <tbody>\n",
       "    <tr>\n",
       "      <th>0</th>\n",
       "      <td>Bottom</td>\n",
       "      <td>Male</td>\n",
       "      <td>A Midsummer Night's Dream</td>\n",
       "      <td>NaN</td>\n",
       "      <td>fool</td>\n",
       "    </tr>\n",
       "    <tr>\n",
       "      <th>1</th>\n",
       "      <td>Theseus</td>\n",
       "      <td>Male</td>\n",
       "      <td>A Midsummer Night's Dream</td>\n",
       "      <td>NaN</td>\n",
       "      <td>NaN</td>\n",
       "    </tr>\n",
       "    <tr>\n",
       "      <th>2</th>\n",
       "      <td>Helena</td>\n",
       "      <td>Female</td>\n",
       "      <td>A Midsummer Night's Dream</td>\n",
       "      <td>NaN</td>\n",
       "      <td>NaN</td>\n",
       "    </tr>\n",
       "    <tr>\n",
       "      <th>3</th>\n",
       "      <td>Oberon</td>\n",
       "      <td>Male</td>\n",
       "      <td>A Midsummer Night's Dream</td>\n",
       "      <td>NaN</td>\n",
       "      <td>NaN</td>\n",
       "    </tr>\n",
       "    <tr>\n",
       "      <th>4</th>\n",
       "      <td>Puck</td>\n",
       "      <td>Male</td>\n",
       "      <td>A Midsummer Night's Dream</td>\n",
       "      <td>NaN</td>\n",
       "      <td>fool</td>\n",
       "    </tr>\n",
       "  </tbody>\n",
       "</table>\n",
       "</div>"
      ],
      "text/plain": [
       "   Speaker  Gender                       Play TopVillain Fools\n",
       "0   Bottom    Male  A Midsummer Night's Dream        NaN  fool\n",
       "1  Theseus    Male  A Midsummer Night's Dream        NaN   NaN\n",
       "2   Helena  Female  A Midsummer Night's Dream        NaN   NaN\n",
       "3   Oberon    Male  A Midsummer Night's Dream        NaN   NaN\n",
       "4     Puck    Male  A Midsummer Night's Dream        NaN  fool"
      ]
     },
     "execution_count": 35,
     "metadata": {},
     "output_type": "execute_result"
    }
   ],
   "source": [
    "#Load additional information about characters\n",
    "df_characters = pd.read_csv('Shakespeare_characters.txt',sep='\\t', encoding='latin1')\n",
    "#Drop unwanted columns\n",
    "del df_characters['#Lines']\n",
    "del df_characters['Unnamed: 1']\n",
    "df_characters.head()"
   ]
  },
  {
   "cell_type": "code",
   "execution_count": 36,
   "metadata": {},
   "outputs": [
    {
     "name": "stdout",
     "output_type": "stream",
     "text": [
      "[\"a midsummer night's dream\" \"all's well that ends well\"\n",
      " 'antony and cleopatra' 'as you like it' 'coriolanus' 'cymbeline' 'hamlet'\n",
      " 'henry iv part 1' 'henry iv part 2' 'henry v' 'henry vi part 1'\n",
      " 'henry vi part 2' 'henry vi part 3' 'henry viii' 'julius caesar'\n",
      " 'king edward iii' 'king john' 'king lear' \"love's labour's lost\"\n",
      " 'macbeth' 'measure for measure' 'much ado about nothing' 'othello'\n",
      " 'pericles' 'richard ii' 'richard iii' 'romeo and juliet'\n",
      " 'the comedy of errors' 'the merchant of venice'\n",
      " 'the merry wives of windsor' 'the taming of the shrew' 'the tempest'\n",
      " 'the two gentlemen of verona' 'the two noble kinsmen' \"the winter's tale\"\n",
      " 'timon of athens' 'titus andronicus' 'troilus and cressida'\n",
      " 'twelfth night']\n",
      "['1henryiv' '1henryvi' '2henryiv' '2henryvi' '3henryvi' 'allswell'\n",
      " 'asyoulikeit' 'cleopatra' 'comedy_errors' 'coriolanus' 'cymbeline'\n",
      " 'hamlet' 'henryv' 'henryviii' 'john' 'julius_caesar' 'lear' 'lll'\n",
      " 'macbeth' 'measure' 'merchant' 'merry_wives' 'midsummer' 'much_ado'\n",
      " 'othello' 'pericles' 'richardii' 'richardiii' 'romeo_juliet'\n",
      " 'taming_shrew' 'tempest' 'timon' 'titus' 'troilus_cressida'\n",
      " 'twelfth_night' 'two_gentlemen' 'winters_tale']\n"
     ]
    }
   ],
   "source": [
    "#Clean the data for joining with grouped dataframe\n",
    "df_characters.Speaker=df_characters.Speaker.str.lower()\n",
    "df_characters.Play=df_characters.Play.str.lower()\n",
    "df_characters.Gender=df_characters.Gender.str.lower()\n",
    "fool2bool= lambda x: \"Yes\" if str(x).strip()==\"fool\" else \"No\"\n",
    "villain2bool = lambda x: \"Yes\" if str(x).strip()==\"yes\" else \"No\"\n",
    "df_characters.Fools = df_characters.Fools.apply(fool2bool)\n",
    "df_characters.TopVillain = df_characters.TopVillain.apply(villain2bool)\n",
    "print((df_characters.Play.unique()))\n",
    "print(df_grouped.Play.unique())"
   ]
  },
  {
   "cell_type": "markdown",
   "metadata": {},
   "source": [
    "** This is interesting as we cannot merge the data frames until the plays have same names, we therefore need to map the play names **\n"
   ]
  },
  {
   "cell_type": "code",
   "execution_count": 37,
   "metadata": {},
   "outputs": [],
   "source": [
    "#Change column name in the characters dataframe\n",
    "df_characters.rename(columns={'Speaker':'Character'},inplace=True)\n",
    "\n",
    "#Function to return full name of the play\n",
    "def get_full_playname(brief_name):\n",
    "    \"\"\"\n",
    "    Description : Returns full name given brief name\n",
    "    Argument:\n",
    "              brief_name: A String that contains brief name of the play\n",
    "    Returns :\n",
    "                full_name: A String with the full name\n",
    "    \"\"\"\n",
    "    df_playnames_map = pd.read_csv('playmap.csv')\n",
    "    index = 0\n",
    "    for character in df_playnames_map.Brief:\n",
    "        if(brief_name == character):\n",
    "            return df_playnames_map.Full[index]\n",
    "        else:\n",
    "            index = index + 1\n",
    "    return brief_name\n",
    "    \n",
    "#Change the Play names in the grouped data frame\n",
    "df_grouped.Play = df_grouped.Play.apply(get_full_playname)\n"
   ]
  },
  {
   "cell_type": "code",
   "execution_count": 38,
   "metadata": {},
   "outputs": [
    {
     "data": {
      "text/html": [
       "<div>\n",
       "<style scoped>\n",
       "    .dataframe tbody tr th:only-of-type {\n",
       "        vertical-align: middle;\n",
       "    }\n",
       "\n",
       "    .dataframe tbody tr th {\n",
       "        vertical-align: top;\n",
       "    }\n",
       "\n",
       "    .dataframe thead th {\n",
       "        text-align: right;\n",
       "    }\n",
       "</style>\n",
       "<table border=\"1\" class=\"dataframe\">\n",
       "  <thead>\n",
       "    <tr style=\"text-align: right;\">\n",
       "      <th></th>\n",
       "      <th>Play</th>\n",
       "      <th>Character</th>\n",
       "      <th>Speech</th>\n",
       "      <th>UtteranceLengths</th>\n",
       "    </tr>\n",
       "  </thead>\n",
       "  <tbody>\n",
       "    <tr>\n",
       "      <th>1338</th>\n",
       "      <td>the winter's tale</td>\n",
       "      <td>servant</td>\n",
       "      <td>pleas high post sent oracl come hour sinc cleo...</td>\n",
       "      <td>180</td>\n",
       "    </tr>\n",
       "    <tr>\n",
       "      <th>1339</th>\n",
       "      <td>the winter's tale</td>\n",
       "      <td>shepard</td>\n",
       "      <td>ti said sir son marri shepherd daughter</td>\n",
       "      <td>7</td>\n",
       "    </tr>\n",
       "    <tr>\n",
       "      <th>1340</th>\n",
       "      <td>the winter's tale</td>\n",
       "      <td>shepherd</td>\n",
       "      <td>would age sixteen three twenti youth would sle...</td>\n",
       "      <td>517</td>\n",
       "    </tr>\n",
       "    <tr>\n",
       "      <th>1341</th>\n",
       "      <td>the winter's tale</td>\n",
       "      <td>third gentleman</td>\n",
       "      <td>true ever truth pregnant circumst hear swear s...</td>\n",
       "      <td>268</td>\n",
       "    </tr>\n",
       "    <tr>\n",
       "      <th>1342</th>\n",
       "      <td>the winter's tale</td>\n",
       "      <td>time</td>\n",
       "      <td>pleas tri joy terror good bad make unfold erro...</td>\n",
       "      <td>127</td>\n",
       "    </tr>\n",
       "  </tbody>\n",
       "</table>\n",
       "</div>"
      ],
      "text/plain": [
       "                   Play        Character  \\\n",
       "1338  the winter's tale          servant   \n",
       "1339  the winter's tale          shepard   \n",
       "1340  the winter's tale         shepherd   \n",
       "1341  the winter's tale  third gentleman   \n",
       "1342  the winter's tale             time   \n",
       "\n",
       "                                                 Speech  UtteranceLengths  \n",
       "1338  pleas high post sent oracl come hour sinc cleo...               180  \n",
       "1339            ti said sir son marri shepherd daughter                 7  \n",
       "1340  would age sixteen three twenti youth would sle...               517  \n",
       "1341  true ever truth pregnant circumst hear swear s...               268  \n",
       "1342  pleas tri joy terror good bad make unfold erro...               127  "
      ]
     },
     "execution_count": 38,
     "metadata": {},
     "output_type": "execute_result"
    }
   ],
   "source": [
    "df_grouped.tail()"
   ]
  },
  {
   "cell_type": "code",
   "execution_count": 39,
   "metadata": {},
   "outputs": [
    {
     "data": {
      "text/html": [
       "<div>\n",
       "<style scoped>\n",
       "    .dataframe tbody tr th:only-of-type {\n",
       "        vertical-align: middle;\n",
       "    }\n",
       "\n",
       "    .dataframe tbody tr th {\n",
       "        vertical-align: top;\n",
       "    }\n",
       "\n",
       "    .dataframe thead th {\n",
       "        text-align: right;\n",
       "    }\n",
       "</style>\n",
       "<table border=\"1\" class=\"dataframe\">\n",
       "  <thead>\n",
       "    <tr style=\"text-align: right;\">\n",
       "      <th></th>\n",
       "      <th>Play</th>\n",
       "      <th>Character</th>\n",
       "      <th>Speech</th>\n",
       "      <th>UtteranceLengths</th>\n",
       "      <th>Gender</th>\n",
       "      <th>TopVillain</th>\n",
       "      <th>Fools</th>\n",
       "    </tr>\n",
       "  </thead>\n",
       "  <tbody>\n",
       "    <tr>\n",
       "      <th>0</th>\n",
       "      <td>henry iv part 1</td>\n",
       "      <td>archbishop of york</td>\n",
       "      <td>hie good sir michael bear seal brief wing hast...</td>\n",
       "      <td>140</td>\n",
       "      <td>NaN</td>\n",
       "      <td>NaN</td>\n",
       "      <td>NaN</td>\n",
       "    </tr>\n",
       "    <tr>\n",
       "      <th>1</th>\n",
       "      <td>henry iv part 1</td>\n",
       "      <td>bardolph</td>\n",
       "      <td>case ye case ye vizard money king come hill ti...</td>\n",
       "      <td>98</td>\n",
       "      <td>male</td>\n",
       "      <td>No</td>\n",
       "      <td>No</td>\n",
       "    </tr>\n",
       "    <tr>\n",
       "      <th>2</th>\n",
       "      <td>henry iv part 1</td>\n",
       "      <td>carrier</td>\n",
       "      <td>fat butter</td>\n",
       "      <td>2</td>\n",
       "      <td>NaN</td>\n",
       "      <td>NaN</td>\n",
       "      <td>NaN</td>\n",
       "    </tr>\n",
       "    <tr>\n",
       "      <th>3</th>\n",
       "      <td>henry iv part 1</td>\n",
       "      <td>chamberlain</td>\n",
       "      <td>within hand quoth pick purs good morrow master...</td>\n",
       "      <td>77</td>\n",
       "      <td>male</td>\n",
       "      <td>No</td>\n",
       "      <td>No</td>\n",
       "    </tr>\n",
       "    <tr>\n",
       "      <th>4</th>\n",
       "      <td>henry iv part 1</td>\n",
       "      <td>earl of douglas</td>\n",
       "      <td>thou art king honour man potent breath upon gr...</td>\n",
       "      <td>191</td>\n",
       "      <td>NaN</td>\n",
       "      <td>NaN</td>\n",
       "      <td>NaN</td>\n",
       "    </tr>\n",
       "  </tbody>\n",
       "</table>\n",
       "</div>"
      ],
      "text/plain": [
       "              Play           Character  \\\n",
       "0  henry iv part 1  archbishop of york   \n",
       "1  henry iv part 1            bardolph   \n",
       "2  henry iv part 1             carrier   \n",
       "3  henry iv part 1         chamberlain   \n",
       "4  henry iv part 1     earl of douglas   \n",
       "\n",
       "                                              Speech  UtteranceLengths Gender  \\\n",
       "0  hie good sir michael bear seal brief wing hast...               140    NaN   \n",
       "1  case ye case ye vizard money king come hill ti...                98   male   \n",
       "2                                         fat butter                 2    NaN   \n",
       "3  within hand quoth pick purs good morrow master...                77   male   \n",
       "4  thou art king honour man potent breath upon gr...               191    NaN   \n",
       "\n",
       "  TopVillain Fools  \n",
       "0        NaN   NaN  \n",
       "1         No    No  \n",
       "2        NaN   NaN  \n",
       "3         No    No  \n",
       "4        NaN   NaN  "
      ]
     },
     "execution_count": 39,
     "metadata": {},
     "output_type": "execute_result"
    }
   ],
   "source": [
    "#Merge the data frames based on play and character\n",
    "df_combined = pd.merge(df_grouped,df_characters, how='left',on=['Play','Character'])\n",
    "df_combined.head()"
   ]
  },
  {
   "cell_type": "markdown",
   "metadata": {},
   "source": [
    "**Drop the rows that do have NaNs so that we can do clustering based on Gender, Villain status and Fool status**"
   ]
  },
  {
   "cell_type": "code",
   "execution_count": 40,
   "metadata": {},
   "outputs": [
    {
     "name": "stdout",
     "output_type": "stream",
     "text": [
      "9408\n",
      "5999\n"
     ]
    }
   ],
   "source": [
    "print(df_combined.size)\n",
    "df_combined = df_combined.dropna()\n",
    "print(df_combined.size)"
   ]
  },
  {
   "cell_type": "markdown",
   "metadata": {},
   "source": [
    "Looking at the difference in records after dropping NAN, we can conclude that there is no significant loss in loosing records with missing values."
   ]
  },
  {
   "cell_type": "code",
   "execution_count": 41,
   "metadata": {},
   "outputs": [
    {
     "data": {
      "text/html": [
       "<div>\n",
       "<style scoped>\n",
       "    .dataframe tbody tr th:only-of-type {\n",
       "        vertical-align: middle;\n",
       "    }\n",
       "\n",
       "    .dataframe tbody tr th {\n",
       "        vertical-align: top;\n",
       "    }\n",
       "\n",
       "    .dataframe thead th {\n",
       "        text-align: right;\n",
       "    }\n",
       "</style>\n",
       "<table border=\"1\" class=\"dataframe\">\n",
       "  <thead>\n",
       "    <tr style=\"text-align: right;\">\n",
       "      <th></th>\n",
       "      <th>Play</th>\n",
       "      <th>Character</th>\n",
       "      <th>Speech</th>\n",
       "      <th>UtteranceLengths</th>\n",
       "      <th>Gender</th>\n",
       "      <th>TopVillain</th>\n",
       "      <th>Fools</th>\n",
       "    </tr>\n",
       "  </thead>\n",
       "  <tbody>\n",
       "    <tr>\n",
       "      <th>1</th>\n",
       "      <td>henry iv part 1</td>\n",
       "      <td>bardolph</td>\n",
       "      <td>case ye case ye vizard money king come hill ti...</td>\n",
       "      <td>98</td>\n",
       "      <td>male</td>\n",
       "      <td>No</td>\n",
       "      <td>No</td>\n",
       "    </tr>\n",
       "    <tr>\n",
       "      <th>3</th>\n",
       "      <td>henry iv part 1</td>\n",
       "      <td>chamberlain</td>\n",
       "      <td>within hand quoth pick purs good morrow master...</td>\n",
       "      <td>77</td>\n",
       "      <td>male</td>\n",
       "      <td>No</td>\n",
       "      <td>No</td>\n",
       "    </tr>\n",
       "    <tr>\n",
       "      <th>6</th>\n",
       "      <td>henry iv part 1</td>\n",
       "      <td>falstaff</td>\n",
       "      <td>hal time day lad inde come near hal take purs ...</td>\n",
       "      <td>2844</td>\n",
       "      <td>male</td>\n",
       "      <td>No</td>\n",
       "      <td>Yes</td>\n",
       "    </tr>\n",
       "    <tr>\n",
       "      <th>7</th>\n",
       "      <td>henry iv part 1</td>\n",
       "      <td>first carrier</td>\n",
       "      <td>heigh ho four day hang charl wain new chimney ...</td>\n",
       "      <td>99</td>\n",
       "      <td>male</td>\n",
       "      <td>No</td>\n",
       "      <td>No</td>\n",
       "    </tr>\n",
       "    <tr>\n",
       "      <th>8</th>\n",
       "      <td>henry iv part 1</td>\n",
       "      <td>first traveller</td>\n",
       "      <td>come neighbour boy shall lead hors hill walk a...</td>\n",
       "      <td>12</td>\n",
       "      <td>male</td>\n",
       "      <td>No</td>\n",
       "      <td>No</td>\n",
       "    </tr>\n",
       "  </tbody>\n",
       "</table>\n",
       "</div>"
      ],
      "text/plain": [
       "              Play        Character  \\\n",
       "1  henry iv part 1         bardolph   \n",
       "3  henry iv part 1      chamberlain   \n",
       "6  henry iv part 1         falstaff   \n",
       "7  henry iv part 1    first carrier   \n",
       "8  henry iv part 1  first traveller   \n",
       "\n",
       "                                              Speech  UtteranceLengths Gender  \\\n",
       "1  case ye case ye vizard money king come hill ti...                98   male   \n",
       "3  within hand quoth pick purs good morrow master...                77   male   \n",
       "6  hal time day lad inde come near hal take purs ...              2844   male   \n",
       "7  heigh ho four day hang charl wain new chimney ...                99   male   \n",
       "8  come neighbour boy shall lead hors hill walk a...                12   male   \n",
       "\n",
       "  TopVillain Fools  \n",
       "1         No    No  \n",
       "3         No    No  \n",
       "6         No   Yes  \n",
       "7         No    No  \n",
       "8         No    No  "
      ]
     },
     "execution_count": 41,
     "metadata": {},
     "output_type": "execute_result"
    }
   ],
   "source": [
    "#Display the structure of the final dataset that is to be used for clustering.\n",
    "df_combined.head()"
   ]
  },
  {
   "cell_type": "markdown",
   "metadata": {},
   "source": [
    "**viii) Convert Text to Features using TF-IDF**"
   ]
  },
  {
   "cell_type": "code",
   "execution_count": 42,
   "metadata": {},
   "outputs": [],
   "source": [
    "\n",
    "vectorizer = TfidfVectorizer(max_df=0.8,\n",
    "                                 use_idf=True)\n",
    "X = df_combined.Speech.values \n",
    "X = vectorizer.fit_transform(X)\n"
   ]
  },
  {
   "cell_type": "code",
   "execution_count": 43,
   "metadata": {},
   "outputs": [
    {
     "data": {
      "text/plain": [
       "<857x11751 sparse matrix of type '<class 'numpy.float64'>'\n",
       "\twith 154913 stored elements in Compressed Sparse Row format>"
      ]
     },
     "execution_count": 43,
     "metadata": {},
     "output_type": "execute_result"
    }
   ],
   "source": [
    "X"
   ]
  },
  {
   "cell_type": "code",
   "execution_count": 44,
   "metadata": {},
   "outputs": [
    {
     "name": "stdout",
     "output_type": "stream",
     "text": [
      "11751\n",
      "(857, 11751)\n"
     ]
    }
   ],
   "source": [
    "vocabulary = vectorizer.get_feature_names()\n",
    "print(len(vocabulary))\n",
    "print(X.shape)"
   ]
  },
  {
   "cell_type": "markdown",
   "metadata": {},
   "source": [
    "## Q2) Clustering"
   ]
  },
  {
   "cell_type": "markdown",
   "metadata": {},
   "source": [
    "** i) Normalize the vectorized data before passing on to Clustering Algorithms **"
   ]
  },
  {
   "cell_type": "code",
   "execution_count": 45,
   "metadata": {},
   "outputs": [],
   "source": [
    "#Normalize the vectorized data\n",
    "from sklearn.preprocessing import Normalizer\n",
    "normalizer = Normalizer()\n",
    "X = normalizer.fit_transform(X)"
   ]
  },
  {
   "cell_type": "markdown",
   "metadata": {},
   "source": [
    "** ii) A generic function to prepare and compute metrics for clustering **"
   ]
  },
  {
   "cell_type": "markdown",
   "metadata": {},
   "source": [
    "We have selected following metrics for clustering evaluation:\n",
    " <br/>**homogeneity :** Which is a bounded score from 0 to 1 indicating that each cluster contains only members of a single   class \n",
    " <br/>**completeness :** A bounded score from 0 to 1 indicating that all members of a given class are asigned to the same cluster.\n",
    " <br/>**adjusted rand index:** A bounded score from -1 to 1, it measures the similarity of the cluster assignments"
   ]
  },
  {
   "cell_type": "code",
   "execution_count": 54,
   "metadata": {},
   "outputs": [],
   "source": [
    "#Define a function that prepares clustering model, clusters vectorized data and computes metrics\n",
    "def compute_clustering_metrics(clustering_alg_,X,labels):\n",
    "    \"\"\"\n",
    "    Description : Given a clustering algorithm, number of clusters and actual labels\n",
    "                  this function returns clustering metrics (homogeneity score, etc)\n",
    "    Arguments:\n",
    "                clustering_alg: A string that has clustering method name\n",
    "                X : vectorized data\n",
    "                labels: A  Pandas dataframe Series object\n",
    "    Returns : \n",
    "              A tuple of tuple with homogeneity, completeness and adjusted rand scores\n",
    "              and the cluster centroid objects              \n",
    "    \"\"\"\n",
    "    number_of_clusters = len(labels.unique())\n",
    "    clustering_alg = None\n",
    "    centroids = None\n",
    "    if (clustering_alg_ == 'k-means'):\n",
    "        clustering_alg = KMeans(n_clusters=number_of_clusters, init='k-means++', max_iter=10000,n_init=10)\n",
    "        clustering_alg.fit(X)\n",
    "        centroids = clustering_alg.cluster_centers_.argsort()[:, ::-1]\n",
    "        clustering_alg_labels = pairwise_distances_argmin(X, (np.sort(clustering_alg.cluster_centers_,axis=0)))\n",
    "    else:\n",
    "        clustering_alg = AgglomerativeClustering(n_clusters=number_of_clusters, affinity='euclidean',linkage='ward')\n",
    "        clustering_alg.fit(X)\n",
    "        clustering_alg_labels = clustering_alg.labels_\n",
    "    \n",
    "    homogeneity = metrics.homogeneity_score(labels, clustering_alg_labels)\n",
    "    completeness = metrics.completeness_score(labels,clustering_alg_labels)\n",
    "    adjusted_rand = metrics.adjusted_rand_score(labels,clustering_alg_labels)\n",
    "    \n",
    "    return (centroids,(homogeneity,completeness,adjusted_rand),number_of_clusters)\n",
    "    "
   ]
  },
  {
   "cell_type": "markdown",
   "metadata": {},
   "source": [
    "**ii) Conduct K-Means clustering (without optimization)**"
   ]
  },
  {
   "cell_type": "code",
   "execution_count": 56,
   "metadata": {},
   "outputs": [
    {
     "name": "stdout",
     "output_type": "stream",
     "text": [
      "Play\n",
      "---------\n",
      "Number of Clusters: 30\n",
      "Homogeneity Score: 0.17063906059742376\n",
      "Completeness Score: 0.18235123131373915\n",
      "Adjusted Rand Index: 0.008605923008744366\n",
      "\n",
      "\n",
      "Character\n",
      "---------\n",
      "Number of Clusters: 632\n",
      "Homogeneity Score: 0.6763874650451489\n",
      "Completeness Score: 0.9064892456573491\n",
      "Adjusted Rand Index: 0.00988597578408102\n",
      "\n",
      "\n",
      "Gender\n",
      "---------\n",
      "Number of Clusters: 2\n",
      "Homogeneity Score: 0.042085646362510006\n",
      "Completeness Score: 0.023847094680667164\n",
      "Adjusted Rand Index: 0.08036032633293887\n",
      "\n",
      "\n",
      "TopVillain\n",
      "---------\n",
      "Number of Clusters: 2\n",
      "Homogeneity Score: 0.10160854691712656\n",
      "Completeness Score: 0.00689558035489655\n",
      "Adjusted Rand Index: 0.01363228999514355\n",
      "\n",
      "\n",
      "Fools\n",
      "---------\n",
      "Number of Clusters: 2\n",
      "Homogeneity Score: 0.1348842173734055\n",
      "Completeness Score: 0.019867903271973724\n",
      "Adjusted Rand Index: 0.03322183114672655\n",
      "\n",
      "\n"
     ]
    }
   ],
   "source": [
    "#Conduct K-Means clustering with different number of clusters\n",
    "# to check hypothesis\n",
    "criteria = ['Play','Character','Gender','TopVillain','Fools']\n",
    "\n",
    "for criterion in criteria:\n",
    "    kmeans = compute_clustering_metrics('k-means',X,df_combined[criterion])\n",
    "    kmeans_centroids = kmeans[0]\n",
    "    kmeans_metrics = kmeans[1]\n",
    "    n_clusters = kmeans[2]\n",
    "    print(criterion)\n",
    "    print('---------')\n",
    "    print('Number of Clusters: %s' %n_clusters)\n",
    "    print('Homogeneity Score: %s' % kmeans_metrics[0])\n",
    "    print('Completeness Score: %s' %kmeans_metrics[1])\n",
    "    print('Adjusted Rand Index: %s' %kmeans_metrics[2])\n",
    "    print('\\n')"
   ]
  },
  {
   "cell_type": "markdown",
   "metadata": {},
   "source": [
    "** First of all it is important to note that when number of clusters are large (>10) ARI is a better assessment metric than completeness and homogeneity. Now if we look at the scores above it is clear that Gender is not distinguishable by language but the language used by fools is different from non fool characters.Furthermore a better cluster separation is done for Plays as opposed to the Characters using ARI index ** "
   ]
  },
  {
   "cell_type": "code",
   "execution_count": null,
   "metadata": {},
   "outputs": [],
   "source": [
    "#Conduct K-Means Clustering using Genre as label for testing the accuracy\n",
    "vectorizer_genre = TfidfVectorizer(max_df=0.8,\n",
    "                                 use_idf=True)\n",
    "X_genre = df_shakespeare_lengths.Speech.values\n",
    "X_genre = vectorizer_genre.fit_transform(X_genre)\n",
    "\n",
    "kmeans = compute_clustering_metrics('k-means',X_genre,df_shakespeare_lengths['Genre'])\n",
    "kmeans_centroids = kmeans[0]\n",
    "kmeans_metrics = kmeans[1]\n",
    "n_clusters = kmeans[2]\n",
    "print('Genre')\n",
    "print('---------')\n",
    "print('Number of Clusters: %s' %n_clusters)\n",
    "print('Homogeneity Score: %s' % kmeans_metrics[0])\n",
    "print('Completeness Score: %s' %kmeans_metrics[1])\n",
    "print('Adjusted Rand Index: %s' %kmeans_metrics[2])\n",
    "print('\\n')"
   ]
  },
  {
   "cell_type": "code",
   "execution_count": null,
   "metadata": {},
   "outputs": [],
   "source": [
    "X_genre"
   ]
  },
  {
   "cell_type": "markdown",
   "metadata": {},
   "source": [
    "**iii) Conduct K-Means Clustering (With Optimization)**"
   ]
  },
  {
   "cell_type": "code",
   "execution_count": null,
   "metadata": {},
   "outputs": [],
   "source": [
    "# We shall use Silhouette analysis to find optimal number of clusters\n",
    "clusters = np.arange(2,50)\n",
    "max_silhouette_score = 0\n",
    "optimal_number_of_clusters = 2\n",
    "for number_of_clusters in clusters:\n",
    "    clusterer = KMeans(n_clusters=number_of_clusters, random_state=10)\n",
    "    cluster_labels = clusterer.fit_predict(X)\n",
    "    #Compute average silhouette score\n",
    "    silhouette_avg = metrics.silhouette_score(X, cluster_labels)\n",
    "    if(silhouette_avg>max_silhouette_score):\n",
    "        max_silhouette_score = silhouette_avg\n",
    "        optimal_number_of_clusters = number_of_clusters\n",
    "print('Maximum Silhouette score is: ',max_silhouette_score)\n",
    "print('Optimal number of clusters are: ',optimal_number_of_clusters)\n",
    "    "
   ]
  },
  {
   "cell_type": "code",
   "execution_count": null,
   "metadata": {},
   "outputs": [],
   "source": [
    "#A generic function to print terms closes to cluster center\n",
    "def closest_terms(cluster, vectorizer,number_of_clusters):  \n",
    "    ordered_centroids = cluster.cluster_centers_.argsort()[:, ::-1]\n",
    "    terms = vectorizer.get_feature_names()\n",
    "    all_terms = []\n",
    "    for i in range(number_of_clusters):\n",
    "        cluster_terms=[]\n",
    "        for ind in ordered_centroids[i, :200]:\n",
    "            cluster_terms.append(terms[ind])\n",
    "        all_terms.append(cluster_terms)\n",
    "    return all_terms   "
   ]
  },
  {
   "cell_type": "code",
   "execution_count": null,
   "metadata": {},
   "outputs": [],
   "source": [
    "#Print top ten terms for every cluster\n",
    "clusterer = KMeans(n_clusters=48, random_state=10)\n",
    "clusterer.fit(X)\n",
    "cterms = closest_terms(clusterer, vectorizer,48)"
   ]
  },
  {
   "cell_type": "code",
   "execution_count": null,
   "metadata": {},
   "outputs": [],
   "source": [
    "#Print the first 20 terms to get an idea of separation\n",
    "for terms in cterms:\n",
    "    print(terms[:10])\n"
   ]
  },
  {
   "cell_type": "markdown",
   "metadata": {},
   "source": [
    "**iv) Conduct Hierarchical clustering**"
   ]
  },
  {
   "cell_type": "code",
   "execution_count": 57,
   "metadata": {},
   "outputs": [
    {
     "name": "stdout",
     "output_type": "stream",
     "text": [
      "Play\n",
      "---------\n",
      "Homogeneity Score: 0.38368341154748536\n",
      "Completeness Score: 0.4732462546531268\n",
      "Adjusted Rand Index: 0.08389515648354742\n",
      "\n",
      "\n",
      "Character\n",
      "---------\n",
      "Homogeneity Score: 0.9297661487019443\n",
      "Completeness Score: 0.9234251038051411\n",
      "Adjusted Rand Index: 0.009023114622729134\n",
      "\n",
      "\n",
      "Gender\n",
      "---------\n",
      "Homogeneity Score: 0.051151605545232896\n",
      "Completeness Score: 0.03649293401343301\n",
      "Adjusted Rand Index: 0.1403850394293181\n",
      "\n",
      "\n",
      "TopVillain\n",
      "---------\n",
      "Homogeneity Score: 0.040619667858835584\n",
      "Completeness Score: 0.0034707632355914157\n",
      "Adjusted Rand Index: 0.016798517750239196\n",
      "\n",
      "\n",
      "Fools\n",
      "---------\n",
      "Homogeneity Score: 0.04943110875821279\n",
      "Completeness Score: 0.009397847845458456\n",
      "Adjusted Rand Index: 0.04308603202913207\n",
      "\n",
      "\n"
     ]
    }
   ],
   "source": [
    "from sklearn.cluster import AgglomerativeClustering\n",
    "#Conduct Hierarchical clustering with different number of clusters\n",
    "criteria = ['Play','Character','Gender','TopVillain','Fools']\n",
    "\n",
    "\n",
    "for criterion in criteria:\n",
    "    aggl = compute_clustering_metrics('Agglomerative',X.toarray(),df_combined[criterion])\n",
    "    aggl_metrics = aggl[1]\n",
    "    print(criterion)\n",
    "    print('---------')\n",
    "    print('Homogeneity Score: %s' % aggl_metrics[0])\n",
    "    print('Completeness Score: %s' %aggl_metrics[1])\n",
    "    print('Adjusted Rand Index: %s' %aggl_metrics[2])\n",
    "    print('\\n')"
   ]
  },
  {
   "cell_type": "markdown",
   "metadata": {},
   "source": [
    "**Looking at the results confirm that the language used between Characters is significantly different and hence forms clusters with better scores.**"
   ]
  },
  {
   "cell_type": "markdown",
   "metadata": {},
   "source": [
    "## Q3) Visualizations to interpret clusters"
   ]
  },
  {
   "cell_type": "markdown",
   "metadata": {},
   "source": [
    "** i) Multidimensional Scaling **"
   ]
  },
  {
   "cell_type": "code",
   "execution_count": 58,
   "metadata": {},
   "outputs": [],
   "source": [
    "#Following code is adapted from http://brandonrose.org/clustering\n",
    "#Compute the distance matrix using cosine similarity\n",
    "distance_matrix = 1 - cosine_similarity(X.A)\n",
    "# Reduce the feature dimensions using MDS\n",
    "mds_text = MDS(n_components=2, dissimilarity=\"precomputed\", random_state=10)\n",
    "mds_shakespeare = mds_text.fit_transform(distance_matrix)\n",
    "xs, ys = mds_shakespeare[:, 0], mds_shakespeare[:, 1]\n"
   ]
  },
  {
   "cell_type": "code",
   "execution_count": 59,
   "metadata": {},
   "outputs": [],
   "source": [
    "km = KMeans(n_clusters=4, random_state=10)\n",
    "cluster_labels = km.fit(X)\n",
    "clusters = km.labels_.tolist()\n",
    "#set up colors per clusters using a dict\n",
    "cluster_colors = {0: '#1b9e77', 1: '#d95f02', 2: '#7570b3', 3: '#e7298a'}\n",
    "#set up cluster names using a dict\n",
    "cluster_names = {0: 'Cluster 0', 1: 'Cluster 1', 2: 'Cluster 2', 3: 'Cluster 3'}"
   ]
  },
  {
   "cell_type": "code",
   "execution_count": 62,
   "metadata": {},
   "outputs": [
    {
     "name": "stderr",
     "output_type": "stream",
     "text": [
      "C:\\Users\\atharp\\AppData\\Local\\Continuum\\anaconda3\\lib\\site-packages\\matplotlib\\cbook\\__init__.py:424: MatplotlibDeprecationWarning: \n",
      "Passing one of 'on', 'true', 'off', 'false' as a boolean is deprecated; use an actual boolean (True/False) instead.\n",
      "  warn_deprecated(\"2.2\", \"Passing one of 'on', 'true', 'off', 'false' as a \"\n",
      "C:\\Users\\atharp\\AppData\\Local\\Continuum\\anaconda3\\lib\\site-packages\\matplotlib\\cbook\\__init__.py:424: MatplotlibDeprecationWarning: \n",
      "Passing one of 'on', 'true', 'off', 'false' as a boolean is deprecated; use an actual boolean (True/False) instead.\n",
      "  warn_deprecated(\"2.2\", \"Passing one of 'on', 'true', 'off', 'false' as a \"\n",
      "C:\\Users\\atharp\\AppData\\Local\\Continuum\\anaconda3\\lib\\site-packages\\matplotlib\\cbook\\__init__.py:424: MatplotlibDeprecationWarning: \n",
      "Passing one of 'on', 'true', 'off', 'false' as a boolean is deprecated; use an actual boolean (True/False) instead.\n",
      "  warn_deprecated(\"2.2\", \"Passing one of 'on', 'true', 'off', 'false' as a \"\n",
      "C:\\Users\\atharp\\AppData\\Local\\Continuum\\anaconda3\\lib\\site-packages\\matplotlib\\cbook\\__init__.py:424: MatplotlibDeprecationWarning: \n",
      "Passing one of 'on', 'true', 'off', 'false' as a boolean is deprecated; use an actual boolean (True/False) instead.\n",
      "  warn_deprecated(\"2.2\", \"Passing one of 'on', 'true', 'off', 'false' as a \"\n",
      "C:\\Users\\atharp\\AppData\\Local\\Continuum\\anaconda3\\lib\\site-packages\\matplotlib\\cbook\\__init__.py:424: MatplotlibDeprecationWarning: \n",
      "Passing one of 'on', 'true', 'off', 'false' as a boolean is deprecated; use an actual boolean (True/False) instead.\n",
      "  warn_deprecated(\"2.2\", \"Passing one of 'on', 'true', 'off', 'false' as a \"\n",
      "C:\\Users\\atharp\\AppData\\Local\\Continuum\\anaconda3\\lib\\site-packages\\matplotlib\\cbook\\__init__.py:424: MatplotlibDeprecationWarning: \n",
      "Passing one of 'on', 'true', 'off', 'false' as a boolean is deprecated; use an actual boolean (True/False) instead.\n",
      "  warn_deprecated(\"2.2\", \"Passing one of 'on', 'true', 'off', 'false' as a \"\n",
      "C:\\Users\\atharp\\AppData\\Local\\Continuum\\anaconda3\\lib\\site-packages\\matplotlib\\cbook\\__init__.py:424: MatplotlibDeprecationWarning: \n",
      "Passing one of 'on', 'true', 'off', 'false' as a boolean is deprecated; use an actual boolean (True/False) instead.\n",
      "  warn_deprecated(\"2.2\", \"Passing one of 'on', 'true', 'off', 'false' as a \"\n",
      "C:\\Users\\atharp\\AppData\\Local\\Continuum\\anaconda3\\lib\\site-packages\\matplotlib\\cbook\\__init__.py:424: MatplotlibDeprecationWarning: \n",
      "Passing one of 'on', 'true', 'off', 'false' as a boolean is deprecated; use an actual boolean (True/False) instead.\n",
      "  warn_deprecated(\"2.2\", \"Passing one of 'on', 'true', 'off', 'false' as a \"\n",
      "C:\\Users\\atharp\\AppData\\Local\\Continuum\\anaconda3\\lib\\site-packages\\matplotlib\\cbook\\__init__.py:424: MatplotlibDeprecationWarning: \n",
      "Passing one of 'on', 'true', 'off', 'false' as a boolean is deprecated; use an actual boolean (True/False) instead.\n",
      "  warn_deprecated(\"2.2\", \"Passing one of 'on', 'true', 'off', 'false' as a \"\n",
      "C:\\Users\\atharp\\AppData\\Local\\Continuum\\anaconda3\\lib\\site-packages\\matplotlib\\cbook\\__init__.py:424: MatplotlibDeprecationWarning: \n",
      "Passing one of 'on', 'true', 'off', 'false' as a boolean is deprecated; use an actual boolean (True/False) instead.\n",
      "  warn_deprecated(\"2.2\", \"Passing one of 'on', 'true', 'off', 'false' as a \"\n",
      "C:\\Users\\atharp\\AppData\\Local\\Continuum\\anaconda3\\lib\\site-packages\\matplotlib\\cbook\\__init__.py:424: MatplotlibDeprecationWarning: \n",
      "Passing one of 'on', 'true', 'off', 'false' as a boolean is deprecated; use an actual boolean (True/False) instead.\n",
      "  warn_deprecated(\"2.2\", \"Passing one of 'on', 'true', 'off', 'false' as a \"\n",
      "C:\\Users\\atharp\\AppData\\Local\\Continuum\\anaconda3\\lib\\site-packages\\matplotlib\\cbook\\__init__.py:424: MatplotlibDeprecationWarning: \n",
      "Passing one of 'on', 'true', 'off', 'false' as a boolean is deprecated; use an actual boolean (True/False) instead.\n",
      "  warn_deprecated(\"2.2\", \"Passing one of 'on', 'true', 'off', 'false' as a \"\n",
      "C:\\Users\\atharp\\AppData\\Local\\Continuum\\anaconda3\\lib\\site-packages\\matplotlib\\cbook\\__init__.py:424: MatplotlibDeprecationWarning: \n",
      "Passing one of 'on', 'true', 'off', 'false' as a boolean is deprecated; use an actual boolean (True/False) instead.\n",
      "  warn_deprecated(\"2.2\", \"Passing one of 'on', 'true', 'off', 'false' as a \"\n",
      "C:\\Users\\atharp\\AppData\\Local\\Continuum\\anaconda3\\lib\\site-packages\\matplotlib\\cbook\\__init__.py:424: MatplotlibDeprecationWarning: \n",
      "Passing one of 'on', 'true', 'off', 'false' as a boolean is deprecated; use an actual boolean (True/False) instead.\n",
      "  warn_deprecated(\"2.2\", \"Passing one of 'on', 'true', 'off', 'false' as a \"\n",
      "C:\\Users\\atharp\\AppData\\Local\\Continuum\\anaconda3\\lib\\site-packages\\matplotlib\\cbook\\__init__.py:424: MatplotlibDeprecationWarning: \n",
      "Passing one of 'on', 'true', 'off', 'false' as a boolean is deprecated; use an actual boolean (True/False) instead.\n",
      "  warn_deprecated(\"2.2\", \"Passing one of 'on', 'true', 'off', 'false' as a \"\n",
      "C:\\Users\\atharp\\AppData\\Local\\Continuum\\anaconda3\\lib\\site-packages\\matplotlib\\cbook\\__init__.py:424: MatplotlibDeprecationWarning: \n",
      "Passing one of 'on', 'true', 'off', 'false' as a boolean is deprecated; use an actual boolean (True/False) instead.\n",
      "  warn_deprecated(\"2.2\", \"Passing one of 'on', 'true', 'off', 'false' as a \"\n",
      "C:\\Users\\atharp\\AppData\\Local\\Continuum\\anaconda3\\lib\\site-packages\\matplotlib\\cbook\\__init__.py:424: MatplotlibDeprecationWarning: \n",
      "Passing one of 'on', 'true', 'off', 'false' as a boolean is deprecated; use an actual boolean (True/False) instead.\n",
      "  warn_deprecated(\"2.2\", \"Passing one of 'on', 'true', 'off', 'false' as a \"\n",
      "C:\\Users\\atharp\\AppData\\Local\\Continuum\\anaconda3\\lib\\site-packages\\matplotlib\\cbook\\__init__.py:424: MatplotlibDeprecationWarning: \n",
      "Passing one of 'on', 'true', 'off', 'false' as a boolean is deprecated; use an actual boolean (True/False) instead.\n",
      "  warn_deprecated(\"2.2\", \"Passing one of 'on', 'true', 'off', 'false' as a \"\n",
      "C:\\Users\\atharp\\AppData\\Local\\Continuum\\anaconda3\\lib\\site-packages\\matplotlib\\cbook\\__init__.py:424: MatplotlibDeprecationWarning: \n",
      "Passing one of 'on', 'true', 'off', 'false' as a boolean is deprecated; use an actual boolean (True/False) instead.\n",
      "  warn_deprecated(\"2.2\", \"Passing one of 'on', 'true', 'off', 'false' as a \"\n",
      "C:\\Users\\atharp\\AppData\\Local\\Continuum\\anaconda3\\lib\\site-packages\\matplotlib\\cbook\\__init__.py:424: MatplotlibDeprecationWarning: \n",
      "Passing one of 'on', 'true', 'off', 'false' as a boolean is deprecated; use an actual boolean (True/False) instead.\n",
      "  warn_deprecated(\"2.2\", \"Passing one of 'on', 'true', 'off', 'false' as a \"\n",
      "C:\\Users\\atharp\\AppData\\Local\\Continuum\\anaconda3\\lib\\site-packages\\ipykernel_launcher.py:16: DeprecationWarning: \n",
      ".ix is deprecated. Please use\n",
      ".loc for label based indexing or\n",
      ".iloc for positional indexing\n",
      "\n",
      "See the documentation here:\n",
      "http://pandas.pydata.org/pandas-docs/stable/indexing.html#ix-indexer-is-deprecated\n",
      "  app.launch_new_instance()\n"
     ]
    },
    {
     "data": {
      "image/png": "[encoded data removed]",
      "text/plain": [
       "<Figure size 576x576 with 1 Axes>"
      ]
     },
     "metadata": {},
     "output_type": "display_data"
    }
   ],
   "source": [
    "df_mds = pd.DataFrame(dict(x=xs, y=ys, label=clusters)) \n",
    "#group by cluster\n",
    "groups = df_mds.groupby('label')\n",
    "fig, ax = plt.subplots(figsize=(8, 8)) \n",
    "ax.margins(0.06)\n",
    "for name, group in groups:\n",
    "    ax.plot(group.x, group.y, marker='o', linestyle='', ms=12, \n",
    "            label=cluster_names[name], color=cluster_colors[name], mec='none')\n",
    "    ax.set_aspect('auto')\n",
    "    ax.tick_params(axis= 'x',which='both',bottom='off',top='off',labelbottom='off')\n",
    "    ax.tick_params(axis= 'y',which='both',left='off',top='off',labelleft='off')\n",
    "ax.legend(numpoints=1)  \n",
    "\n",
    "\n",
    "for i in range(len(df_mds)): \n",
    "    ax.text(df_mds.ix[i]['x'], df_mds.ix[i]['y'],'', size=8)    \n",
    "plt.show() "
   ]
  },
  {
   "cell_type": "code",
   "execution_count": 68,
   "metadata": {},
   "outputs": [
    {
     "data": {
      "text/plain": [
       "<pandas.core.groupby.generic.DataFrameGroupBy object at 0x0000024F5667C198>"
      ]
     },
     "execution_count": 68,
     "metadata": {},
     "output_type": "execute_result"
    }
   ],
   "source": [
    "##athar addition for test\n",
    "groups"
   ]
  },
  {
   "cell_type": "markdown",
   "metadata": {},
   "source": [
    "** ii) PCA **"
   ]
  },
  {
   "cell_type": "code",
   "execution_count": 61,
   "metadata": {},
   "outputs": [
    {
     "data": {
      "image/png": "[encoded data removed]",
      "text/plain": [
       "<Figure size 1296x720 with 1 Axes>"
      ]
     },
     "metadata": {
      "needs_background": "light"
     },
     "output_type": "display_data"
    }
   ],
   "source": [
    "#Convert the feature matrix from sparse to dense format\n",
    "X_dense = X.todense()\n",
    "#Convert data into two dimensions\n",
    "data2d = PCA(n_components=2).fit_transform(X_dense)\n",
    "#Plot PCA \n",
    "fig, ax = plt.subplots(figsize=(18, 10))\n",
    "plt.ylabel('2nd Principal component' )\n",
    "plt.xlabel('1st Principal component' )\n",
    "plt.title('PC2 vs. PC1')\n",
    "ax.scatter(data2d[:,0], data2d[:,1],s = 70)\n",
    "\n",
    "plt.show()"
   ]
  },
  {
   "cell_type": "markdown",
   "metadata": {},
   "source": [
    "## Q4) Exploratory Data Points"
   ]
  },
  {
   "cell_type": "markdown",
   "metadata": {},
   "source": [
    "We wish to find out if by using simple valence based sentiment analysis we can distinguish comedies from tragedies. We shall use the concept of Average Word Valence from the paper \"Extracting Sentiment Networks from Shakespeare’s Plays\" by Eric T. Nalisnick and Henry S. Baird for thus analysis. \n"
   ]
  },
  {
   "cell_type": "markdown",
   "metadata": {},
   "source": [
    "** i) Read AFFIN word list **"
   ]
  },
  {
   "cell_type": "code",
   "execution_count": null,
   "metadata": {},
   "outputs": [],
   "source": [
    "afinn = dict(map(lambda kv: (kv[0],int(kv[1])),[line.split('\\t') for line in open(\"afinn.txt\")]))"
   ]
  },
  {
   "cell_type": "markdown",
   "metadata": {},
   "source": [
    "** ii) Read Shakespeare Pickle file**"
   ]
  },
  {
   "cell_type": "code",
   "execution_count": null,
   "metadata": {},
   "outputs": [],
   "source": [
    "#Load DataFrame from Pickle\n",
    "df_shakespeare = pd.read_pickle('shakespeare.pkl')\n",
    "df_shakespeare.head()"
   ]
  },
  {
   "cell_type": "markdown",
   "metadata": {},
   "source": [
    "**iv) Compute Average Word Valence for every utterance **"
   ]
  },
  {
   "cell_type": "code",
   "execution_count": null,
   "metadata": {},
   "outputs": [],
   "source": [
    "#Function to compute valence\n",
    "def compute_utterance_valence(utterance):\n",
    "    utterance = remove_unwanted_characters(utterance)\n",
    "    utterance = remove_stopwords(utterance)\n",
    "    utterance = utterance.lower()\n",
    "    number_of_valence_words_found = 0\n",
    "    aggregated_valence = 0\n",
    "    for word in utterance.split():\n",
    "        if word in afinn:\n",
    "            number_of_valence_words_found = number_of_valence_words_found + 1\n",
    "            aggregated_valence = aggregated_valence + afinn[word]\n",
    "    if(number_of_valence_words_found == 0):\n",
    "        average_valence = 0\n",
    "    else:\n",
    "        average_valence = aggregated_valence/number_of_valence_words_found\n",
    "    return average_valence"
   ]
  },
  {
   "cell_type": "code",
   "execution_count": null,
   "metadata": {},
   "outputs": [],
   "source": [
    "df_valence = df_shakespeare.copy()\n",
    "df_valence['Valence'] = df_valence.Speech.apply(compute_utterance_valence)"
   ]
  },
  {
   "cell_type": "code",
   "execution_count": null,
   "metadata": {},
   "outputs": [],
   "source": [
    "df_valence.head()"
   ]
  },
  {
   "cell_type": "markdown",
   "metadata": {},
   "source": [
    "** v) Plot valence sums for different plays, characters and genre **"
   ]
  },
  {
   "cell_type": "code",
   "execution_count": null,
   "metadata": {},
   "outputs": [],
   "source": [
    "df_g_genre= df_valence.groupby(['Genre'],as_index=False).agg({'Valence':np.sum})"
   ]
  },
  {
   "cell_type": "code",
   "execution_count": null,
   "metadata": {},
   "outputs": [],
   "source": [
    "df_g_genre.plot('Genre','Valence',kind='bar')"
   ]
  },
  {
   "cell_type": "code",
   "execution_count": null,
   "metadata": {},
   "outputs": [],
   "source": [
    "df_g_play = df_valence.groupby(['Play'],as_index=False).agg({'Valence':np.sum})\n",
    "df_g_play.plot('Play','Valence',kind='barh',figsize=(15,15),fontsize=12, title='Cumulative Valence Score');\n",
    "plt.axvline(0,color='green')"
   ]
  },
  {
   "cell_type": "markdown",
   "metadata": {},
   "source": [
    "** Looking at the plots above we can conclude that valence words can distinguish between tragedies and comedies quite accurately. When cumulative valence is plotted for the plays, we find an anomaly in _Comedy of Errors_ which was found by the original authors of the paper as well. The anomaly is due to the fact that in _Comedy of Errors_ there are some dark features such as infidelity, theft and madness.**"
   ]
  },
  {
   "cell_type": "markdown",
   "metadata": {},
   "source": [
    "**v) Cluster Cumulative Valences for Characters **"
   ]
  },
  {
   "cell_type": "code",
   "execution_count": null,
   "metadata": {},
   "outputs": [],
   "source": [
    "df_g_characters = df_valence.groupby(['Play','Character'],as_index=False).agg({'Valence':np.sum})\n",
    "X_v = df_g_characters.Valence.values.reshape(-1,1)"
   ]
  },
  {
   "cell_type": "code",
   "execution_count": null,
   "metadata": {},
   "outputs": [],
   "source": [
    "#Find the optimal number of clusters using Silhouette Analysis\n",
    "clusters = np.arange(2,10)\n",
    "max_silhouette_score = 0\n",
    "optimal_number_of_clusters = 2\n",
    "for number_of_clusters in clusters:\n",
    "    clusterer = KMeans(n_clusters=number_of_clusters, random_state=10)\n",
    "    cluster_labels = clusterer.fit_predict(X_v)\n",
    "    #Compute average silhouette score\n",
    "    \n",
    "    silhouette_avg = metrics.silhouette_score(X_v, cluster_labels)\n",
    "    if(silhouette_avg>max_silhouette_score):\n",
    "        max_silhouette_score = silhouette_avg\n",
    "        optimal_number_of_clusters = number_of_clusters\n",
    "print('Maximum Silhouette score is: ',max_silhouette_score)\n",
    "print('Optimal number of clusters are: ',optimal_number_of_clusters)\n",
    "    "
   ]
  },
  {
   "cell_type": "markdown",
   "metadata": {},
   "source": [
    "**vi) Insight from Clustering **"
   ]
  },
  {
   "cell_type": "code",
   "execution_count": null,
   "metadata": {},
   "outputs": [],
   "source": [
    "km = KMeans(n_clusters=2, random_state=10)\n",
    "kmcluster_labels = km.fit(X_v)\n",
    "clusters = km.labels_.tolist()\n",
    "ordered_centroids = km.cluster_centers_.argsort()[:, ::-1]"
   ]
  },
  {
   "cell_type": "code",
   "execution_count": null,
   "metadata": {},
   "outputs": [],
   "source": [
    "print(km.cluster_centers_)\n",
    "sns.countplot(km.labels_)"
   ]
  },
  {
   "cell_type": "markdown",
   "metadata": {},
   "source": [
    "**Looking at the plot, it is clear that there are some characters that are overwhelmingly positive **"
   ]
  },
  {
   "cell_type": "markdown",
   "metadata": {},
   "source": [
    "**vi) Who are these positive characters?**"
   ]
  },
  {
   "cell_type": "code",
   "execution_count": null,
   "metadata": {},
   "outputs": [],
   "source": [
    "positive = df_g_characters[km.labels_==1]"
   ]
  },
  {
   "cell_type": "code",
   "execution_count": null,
   "metadata": {},
   "outputs": [],
   "source": [
    "print(positive)"
   ]
  }
 ],
 "metadata": {
  "anaconda-cloud": {},
  "kernelspec": {
   "display_name": "Python 3",
   "language": "python",
   "name": "python3"
  },
  "language_info": {
   "codemirror_mode": {
    "name": "ipython",
    "version": 3
   },
   "file_extension": ".py",
   "mimetype": "text/x-python",
   "name": "python",
   "nbconvert_exporter": "python",
   "pygments_lexer": "ipython3",
   "version": "3.7.6"
  }
 },
 "nbformat": 4,
 "nbformat_minor": 1
}
