{
 "cells": [
  {
   "cell_type": "markdown",
   "metadata": {
    "colab_type": "text",
    "id": "kR-4eNdK6lYS"
   },
   "source": [
    "# Homework 4"
   ]
  },
  {
   "cell_type": "code",
   "execution_count": 1,
   "metadata": {
    "cellView": "both",
    "colab": {
     "autoexec": {
      "startup": false,
      "wait_interval": 0
     }
    },
    "colab_type": "code",
    "id": "JLpLa8Jt7Vu4"
   },
   "outputs": [
    {
     "name": "stderr",
     "output_type": "stream",
     "text": [
      "C:\\ProgramData\\Anaconda3\\lib\\site-packages\\h5py\\__init__.py:34: FutureWarning: Conversion of the second argument of issubdtype from `float` to `np.floating` is deprecated. In future, it will be treated as `np.float64 == np.dtype(float).type`.\n",
      "  from ._conv import register_converters as _register_converters\n"
     ]
    }
   ],
   "source": [
    "from __future__ import print_function\n",
    "import matplotlib.pyplot as plt\n",
    "import numpy as np\n",
    "from IPython.display import display, Image\n",
    "from sklearn.linear_model import LogisticRegression\n",
    "from sklearn.preprocessing import LabelBinarizer\n",
    "from sklearn.preprocessing import MinMaxScaler\n",
    "from sklearn.metrics import roc_curve, auc\n",
    "from six.moves import cPickle as pickle\n",
    "from six.moves import range\n",
    "import matplotlib.image as mpimg\n",
    "import warnings\n",
    "import time\n",
    "# Config the matplotlib backend as plotting inline in IPython\n",
    "%matplotlib inline\n",
    "\n",
    "import tensorflow as tf"
   ]
  },
  {
   "cell_type": "markdown",
   "metadata": {},
   "source": [
    "# 1) Download CIFAR Dataset"
   ]
  },
  {
   "cell_type": "markdown",
   "metadata": {},
   "source": [
    "CIFAR10 dataset was downloaded from the following URL:\n",
    "https://www.cs.toronto.edu/~kriz/cifar.html."
   ]
  },
  {
   "cell_type": "code",
   "execution_count": 2,
   "metadata": {
    "collapsed": true
   },
   "outputs": [],
   "source": [
    "#Function to unpickle the file\n",
    "#Adapted from the original given at the following URL\n",
    "#https://www.cs.toronto.edu/~kriz/cifar.html\n",
    "def unpickle(file):\n",
    "    fo=open(file,'rb')\n",
    "    dict=pickle.load(fo,encoding = 'latin1')\n",
    "    fo.close()\n",
    "    return dict\n"
   ]
  },
  {
   "cell_type": "code",
   "execution_count": 3,
   "metadata": {
    "collapsed": true
   },
   "outputs": [],
   "source": [
    "  batch_1=unpickle('data_batch_1')"
   ]
  },
  {
   "cell_type": "markdown",
   "metadata": {},
   "source": [
    "## Data Preprocessing"
   ]
  },
  {
   "cell_type": "markdown",
   "metadata": {},
   "source": [
    "Neural Networks expect feature scaling for input features or else if we use Gradient Descent the weights update step is affected based on the value of the input and hence can lead to unwanted results. The following function therefore returns normalized datasets."
   ]
  },
  {
   "cell_type": "code",
   "execution_count": 9,
   "metadata": {
    "collapsed": true
   },
   "outputs": [],
   "source": [
    "#Function to convert data into training, validation and testing\n",
    "def get_datasets():\n",
    "    \"\"\"\n",
    "    Description : Returns normalized training, testing and validation datasets along with labels\n",
    "    Returns : A list containing following tuples\n",
    "          training_data,training_labels : A tuple with data and labels for training\n",
    "          validation_data, validation_labels : A tuple with data and labels for validation\n",
    "          testing_data : A tuple with data and labels for testing data\n",
    "          label_names : A list containing label names\n",
    "          minmaxscale : Feature Scaling object\n",
    "    \"\"\"\n",
    "\n",
    "    batch_1=unpickle('data_batch_1')\n",
    "    batch_2=unpickle('data_batch_2')\n",
    "    batch_3=unpickle('data_batch_3')\n",
    "    batch_4=unpickle('data_batch_4')\n",
    "    validation_batch=unpickle('data_batch_5')\n",
    "    test_batch = unpickle('test_batch')\n",
    "     \n",
    "    train_dataset_1 = batch_1['data']\n",
    "    train_dataset_2 = batch_2['data']\n",
    "    train_dataset_3 = batch_3['data']\n",
    "    train_dataset_4 = batch_4['data']\n",
    "   \n",
    "    \n",
    "    training_data = np.vstack((train_dataset_1,train_dataset_2,train_dataset_3,train_dataset_4))\n",
    "    #Normalize the training data\n",
    "    normalizer = MinMaxScaler().fit(training_data*1.)\n",
    "    \n",
    "    training_data = np.float32(normalizer.transform(training_data))\n",
    "    #Combine individual training datasets\n",
    "    training_data_labels = np.hstack((batch_1['labels'],batch_2['labels'],batch_3['labels'],batch_4['labels']))\n",
    "    \n",
    "    validation_data = validation_batch['data']\n",
    "    validation_data = np.float32(normalizer.transform(validation_data*1.))\n",
    "    validation_data_labels = np.asarray(validation_batch['labels'])\n",
    "\n",
    "    test_data = test_batch['data']\n",
    "    test_data = np.float32(normalizer.transform(test_data*1.))\n",
    "    test_data_labels = np.asarray(test_batch['labels'])\n",
    "    \n",
    "    label_names = unpickle('batches.meta')\n",
    "    \n",
    "    return [(training_data,training_data_labels),(validation_data,validation_data_labels),(test_data,test_data_labels),label_names,normalizer]\n",
    "\n"
   ]
  },
  {
   "cell_type": "code",
   "execution_count": null,
   "metadata": {
    "collapsed": true
   },
   "outputs": [],
   "source": []
  },
  {
   "cell_type": "markdown",
   "metadata": {},
   "source": [
    "## Visualization ##\n"
   ]
  },
  {
   "cell_type": "code",
   "execution_count": 10,
   "metadata": {
    "cellView": "both",
    "colab": {
     "autoexec": {
      "startup": false,
      "wait_interval": 0
     },
     "output_extras": [
      {
       "item_id": 1
      }
     ]
    },
    "colab_type": "code",
    "executionInfo": {
     "elapsed": 19456,
     "status": "ok",
     "timestamp": 1449847956073,
     "user": {
      "color": "",
      "displayName": "",
      "isAnonymous": false,
      "isMe": true,
      "permissionId": "",
      "photoUrl": "",
      "sessionId": "0",
      "userId": ""
     },
     "user_tz": 480
    },
    "id": "y3-cj1bpmuxc",
    "outputId": "0ddb1607-1fc4-4ddb-de28-6c7ab7fb0c33"
   },
   "outputs": [
    {
     "data": {
      "image/png": "[encoded data removed]",
      "text/plain": [
       "<matplotlib.figure.Figure at 0x1bbee0b8>"
      ]
     },
     "metadata": {},
     "output_type": "display_data"
    }
   ],
   "source": [
    "# Plot One image each from training, testing and validation datasets\n",
    "datasets = get_datasets()\n",
    "training_tuple = datasets[0]\n",
    "validation_tuple = datasets[1]\n",
    "testing_tuple = datasets[2]\n",
    "label_names = datasets[3]\n",
    "index = 10\n",
    "#Get RGB data as numpy arrays\n",
    "training_images = training_tuple[0].reshape((training_tuple[0].shape[0],32,32,3),order='f')\n",
    "test_images = testing_tuple[0].reshape((testing_tuple[0].shape[0],32,32,3),order='f')\n",
    "validation_images = validation_tuple[0].reshape((validation_tuple[0].shape[0],32,32,3),order='f')\n",
    "\n",
    "f, axs = plt.subplots(1, 9, sharex=True,figsize=(10,1))\n",
    "\n",
    "for i in range(7):\n",
    "    index = index +i\n",
    "    training_image=training_images[index,:,:,:]\n",
    "    validation_image = validation_images[index,:,:,:]\n",
    "    test_image = test_images[index,:,:,:]\n",
    "    axs[i].imshow(np.rot90(training_image,3))\n",
    "    axs[i].set_title(label_names['label_names'][training_tuple[1][index]])\n",
    "    axs[i].axis('off')\n",
    "    axs[i+1].imshow(np.rot90(validation_image,3))\n",
    "    axs[i+1].set_title(label_names['label_names'][validation_tuple[1][index]])\n",
    "    axs[i+1].axis('off')\n",
    "    axs[i+2].imshow(np.rot90(test_image,3))\n",
    "    axs[i+2].set_title(label_names['label_names'][testing_tuple[1][index]])\n",
    "    axs[i+2].axis('off')"
   ]
  },
  {
   "cell_type": "markdown",
   "metadata": {},
   "source": [
    "## One hot encoding of labels ##"
   ]
  },
  {
   "cell_type": "code",
   "execution_count": 6,
   "metadata": {},
   "outputs": [
    {
     "name": "stdout",
     "output_type": "stream",
     "text": [
      "Label: 9\n",
      "Class: truck\n",
      "One hot encoded representation: [0. 0. 0. 0. 0. 0. 0. 0. 0. 1.]\n"
     ]
    }
   ],
   "source": [
    "#One hot encoding of Labels\n",
    "training_labels = training_tuple[1]\n",
    "print('Label:',training_labels[15])\n",
    "print('Class:',label_names['label_names'][9])\n",
    "training_labels_enc = (np.arange(10) == training_labels[:,None]).astype(np.float32)\n",
    "training_labels_encf = training_labels_enc\n",
    "training_images_f=training_images\n",
    "print('One hot encoded representation:',training_labels_enc[15])\n",
    "validation_labels = validation_tuple[1]\n",
    "validation_labels_enc = (np.arange(10) == validation_labels[:,None]).astype(np.float32)\n",
    "testing_labels = testing_tuple[1]\n",
    "testing_labels_enc = (np.arange(10) == testing_labels[:,None]).astype(np.float32)\n",
    "testing_labels_encf = testing_labels_enc"
   ]
  },
  {
   "cell_type": "markdown",
   "metadata": {},
   "source": [
    "_The example output given above verifies that one hot encoding is correct._"
   ]
  },
  {
   "cell_type": "markdown",
   "metadata": {},
   "source": [
    "# 2) Select a Deep Learning Package"
   ]
  },
  {
   "cell_type": "markdown",
   "metadata": {},
   "source": [
    "We shall use TensorFlow for this homework."
   ]
  },
  {
   "cell_type": "markdown",
   "metadata": {},
   "source": [
    "# 3) Establish Baseline Runs"
   ]
  },
  {
   "cell_type": "markdown",
   "metadata": {},
   "source": [
    "### 3a) Train and Test a Generic Deep Neural Network and record the training time and the accuracy on the test set"
   ]
  },
  {
   "cell_type": "markdown",
   "metadata": {},
   "source": [
    "We are using a model with 2 hidden layers."
   ]
  },
  {
   "cell_type": "code",
   "execution_count": 7,
   "metadata": {
    "collapsed": true
   },
   "outputs": [],
   "source": [
    "#The following code is taken from Section 7 notebook\n",
    "#Some utility functions to be used for computation graph building and execution\n",
    "def accuracy(predictions, labels):\n",
    "    return (100.0 * np.sum(np.argmax(predictions, 1) == np.argmax(labels, 1))\n",
    "            / predictions.shape[0])\n",
    "\n",
    "def weight_variable(shape):\n",
    "    initial = tf.truncated_normal(shape, stddev=tf.sqrt(2.0/shape[0]))\n",
    "    return tf.Variable(initial)\n",
    "\n",
    "def bias_variable(shape):\n",
    "    initial = tf.zeros(shape)\n",
    "    return tf.Variable(initial)\n",
    "\n",
    "split_by_half = lambda x,k : int(x/2**k)"
   ]
  },
  {
   "cell_type": "code",
   "execution_count": 8,
   "metadata": {},
   "outputs": [
    {
     "ename": "ValueError",
     "evalue": "Only call `softmax_cross_entropy_with_logits` with named arguments (labels=..., logits=..., ...)",
     "output_type": "error",
     "traceback": [
      "\u001b[1;31m---------------------------------------------------------------------------\u001b[0m",
      "\u001b[1;31mValueError\u001b[0m                                Traceback (most recent call last)",
      "\u001b[1;32m<ipython-input-8-3d01e1d4ad79>\u001b[0m in \u001b[0;36m<module>\u001b[1;34m()\u001b[0m\n\u001b[0;32m     49\u001b[0m     \u001b[1;31m# Training computation.\u001b[0m\u001b[1;33m\u001b[0m\u001b[1;33m\u001b[0m\u001b[0m\n\u001b[0;32m     50\u001b[0m     \u001b[0mlogits\u001b[0m \u001b[1;33m=\u001b[0m \u001b[0mmodel\u001b[0m\u001b[1;33m(\u001b[0m\u001b[0mtf_train_dataset\u001b[0m\u001b[1;33m)\u001b[0m\u001b[1;33m\u001b[0m\u001b[0m\n\u001b[1;32m---> 51\u001b[1;33m     \u001b[0mloss\u001b[0m \u001b[1;33m=\u001b[0m \u001b[0mtf\u001b[0m\u001b[1;33m.\u001b[0m\u001b[0mreduce_mean\u001b[0m\u001b[1;33m(\u001b[0m\u001b[0mtf\u001b[0m\u001b[1;33m.\u001b[0m\u001b[0mnn\u001b[0m\u001b[1;33m.\u001b[0m\u001b[0msoftmax_cross_entropy_with_logits\u001b[0m\u001b[1;33m(\u001b[0m\u001b[0mlogits\u001b[0m\u001b[1;33m,\u001b[0m \u001b[0mtf_train_labels\u001b[0m\u001b[1;33m)\u001b[0m\u001b[1;33m)\u001b[0m\u001b[1;33m\u001b[0m\u001b[0m\n\u001b[0m\u001b[0;32m     52\u001b[0m     \u001b[0mregularizers\u001b[0m \u001b[1;33m=\u001b[0m \u001b[1;33m(\u001b[0m\u001b[0mtf\u001b[0m\u001b[1;33m.\u001b[0m\u001b[0mnn\u001b[0m\u001b[1;33m.\u001b[0m\u001b[0ml2_loss\u001b[0m\u001b[1;33m(\u001b[0m\u001b[0mlayer1_weights\u001b[0m\u001b[1;33m)\u001b[0m \u001b[1;33m+\u001b[0m \u001b[0mtf\u001b[0m\u001b[1;33m.\u001b[0m\u001b[0mnn\u001b[0m\u001b[1;33m.\u001b[0m\u001b[0ml2_loss\u001b[0m\u001b[1;33m(\u001b[0m\u001b[0mlayer1_biases\u001b[0m\u001b[1;33m)\u001b[0m \u001b[1;33m+\u001b[0m                     \u001b[0mtf\u001b[0m\u001b[1;33m.\u001b[0m\u001b[0mnn\u001b[0m\u001b[1;33m.\u001b[0m\u001b[0ml2_loss\u001b[0m\u001b[1;33m(\u001b[0m\u001b[0mlayer2_weights\u001b[0m\u001b[1;33m)\u001b[0m \u001b[1;33m+\u001b[0m \u001b[0mtf\u001b[0m\u001b[1;33m.\u001b[0m\u001b[0mnn\u001b[0m\u001b[1;33m.\u001b[0m\u001b[0ml2_loss\u001b[0m\u001b[1;33m(\u001b[0m\u001b[0mlayer2_biases\u001b[0m\u001b[1;33m)\u001b[0m \u001b[1;33m+\u001b[0m                     \u001b[0mtf\u001b[0m\u001b[1;33m.\u001b[0m\u001b[0mnn\u001b[0m\u001b[1;33m.\u001b[0m\u001b[0ml2_loss\u001b[0m\u001b[1;33m(\u001b[0m\u001b[0mlayer3_weights\u001b[0m\u001b[1;33m)\u001b[0m \u001b[1;33m+\u001b[0m \u001b[0mtf\u001b[0m\u001b[1;33m.\u001b[0m\u001b[0mnn\u001b[0m\u001b[1;33m.\u001b[0m\u001b[0ml2_loss\u001b[0m\u001b[1;33m(\u001b[0m\u001b[0mlayer3_biases\u001b[0m\u001b[1;33m)\u001b[0m \u001b[1;33m)\u001b[0m\u001b[1;33m\u001b[0m\u001b[0m\n\u001b[0;32m     53\u001b[0m \u001b[1;33m\u001b[0m\u001b[0m\n",
      "\u001b[1;32mC:\\ProgramData\\Anaconda3\\lib\\site-packages\\tensorflow\\python\\ops\\nn_ops.py\u001b[0m in \u001b[0;36msoftmax_cross_entropy_with_logits\u001b[1;34m(_sentinel, labels, logits, dim, name)\u001b[0m\n\u001b[0;32m   1742\u001b[0m   \"\"\"\n\u001b[0;32m   1743\u001b[0m   _ensure_xent_args(\"softmax_cross_entropy_with_logits\", _sentinel,\n\u001b[1;32m-> 1744\u001b[1;33m                     labels, logits)\n\u001b[0m\u001b[0;32m   1745\u001b[0m \u001b[1;33m\u001b[0m\u001b[0m\n\u001b[0;32m   1746\u001b[0m   \u001b[1;31m# TODO(pcmurray) Raise an error when the labels do not sum to 1. Note: This\u001b[0m\u001b[1;33m\u001b[0m\u001b[1;33m\u001b[0m\u001b[0m\n",
      "\u001b[1;32mC:\\ProgramData\\Anaconda3\\lib\\site-packages\\tensorflow\\python\\ops\\nn_ops.py\u001b[0m in \u001b[0;36m_ensure_xent_args\u001b[1;34m(name, sentinel, labels, logits)\u001b[0m\n\u001b[0;32m   1696\u001b[0m   \u001b[1;32mif\u001b[0m \u001b[0msentinel\u001b[0m \u001b[1;32mis\u001b[0m \u001b[1;32mnot\u001b[0m \u001b[1;32mNone\u001b[0m\u001b[1;33m:\u001b[0m\u001b[1;33m\u001b[0m\u001b[0m\n\u001b[0;32m   1697\u001b[0m     raise ValueError(\"Only call `%s` with \"\n\u001b[1;32m-> 1698\u001b[1;33m                      \"named arguments (labels=..., logits=..., ...)\" % name)\n\u001b[0m\u001b[0;32m   1699\u001b[0m   \u001b[1;32mif\u001b[0m \u001b[0mlabels\u001b[0m \u001b[1;32mis\u001b[0m \u001b[1;32mNone\u001b[0m \u001b[1;32mor\u001b[0m \u001b[0mlogits\u001b[0m \u001b[1;32mis\u001b[0m \u001b[1;32mNone\u001b[0m\u001b[1;33m:\u001b[0m\u001b[1;33m\u001b[0m\u001b[0m\n\u001b[0;32m   1700\u001b[0m     \u001b[1;32mraise\u001b[0m \u001b[0mValueError\u001b[0m\u001b[1;33m(\u001b[0m\u001b[1;34m\"Both labels and logits must be provided.\"\u001b[0m\u001b[1;33m)\u001b[0m\u001b[1;33m\u001b[0m\u001b[0m\n",
      "\u001b[1;31mValueError\u001b[0m: Only call `softmax_cross_entropy_with_logits` with named arguments (labels=..., logits=..., ...)"
     ]
    }
   ],
   "source": [
    "#Save training, testing and validation datasets \n",
    "#in corresponding variables\n",
    "training_data = training_tuple[0]\n",
    "testing_data = testing_tuple[0]\n",
    "validation_data = validation_tuple[0]\n",
    "#Constants\n",
    "hidden_nodes = 2000\n",
    "batch_size = 256\n",
    "image_width = 32\n",
    "image_height = 32\n",
    "number_of_channels = 3\n",
    "num_of_pixels = image_width*image_height*number_of_channels\n",
    "#Dictionary to save prediction results\n",
    "test_preds={}\n",
    "#Regularization penalty\n",
    "regularization_constant = 0.01\n",
    "#The following code is adapted from Section 7 notebook\n",
    "#This portion will construct the computation Graph\n",
    "graph = tf.Graph()\n",
    "with graph.as_default():\n",
    "\n",
    "    # Input data\n",
    "    tf_train_dataset = tf.placeholder(tf.float32, shape=(batch_size, num_of_pixels))\n",
    "    tf_train_labels = tf.placeholder(tf.float32, shape=(batch_size, 10))\n",
    "    \n",
    "    #Constants\n",
    "    tf_valid_dataset = tf.constant(validation_tuple[0])\n",
    "    tf_test_dataset = tf.constant(testing_tuple[0])\n",
    "\n",
    "    # Variables.\n",
    "    layer1_weights = weight_variable([num_of_pixels, hidden_nodes])\n",
    "    layer1_biases = bias_variable([hidden_nodes])\n",
    "    layer2_weights = weight_variable([hidden_nodes, split_by_half(hidden_nodes,1)])\n",
    "    layer2_biases = bias_variable([split_by_half(hidden_nodes,1)])   \n",
    "    layer3_weights = weight_variable([split_by_half(hidden_nodes,1), 10])\n",
    "    layer3_biases = bias_variable([10])\n",
    "    \n",
    "    keep_prob = tf.placeholder(\"float\")\n",
    "    \n",
    "    # Model with dropout\n",
    "    def model(data):\n",
    "        layer1 = tf.matmul(data, layer1_weights) + layer1_biases\n",
    "        hidden1 = tf.nn.relu(layer1)  \n",
    "        layer2 = tf.matmul(hidden1, layer2_weights) + layer2_biases  # a new hidden layer\n",
    "        hidden2 = tf.nn.relu(layer2)\n",
    "        \n",
    "        return tf.matmul(hidden2, layer3_weights) + layer3_biases\n",
    "    \n",
    "    # Training computation.\n",
    "    logits = model(tf_train_dataset)\n",
    "    loss = tf.reduce_mean(tf.nn.softmax_cross_entropy_with_logits(logits, tf_train_labels))\n",
    "    regularizers = (tf.nn.l2_loss(layer1_weights) + tf.nn.l2_loss(layer1_biases) + \\\n",
    "                    tf.nn.l2_loss(layer2_weights) + tf.nn.l2_loss(layer2_biases) + \\\n",
    "                    tf.nn.l2_loss(layer3_weights) + tf.nn.l2_loss(layer3_biases) )\n",
    "\n",
    "    # Add the regularization term to the loss.\n",
    "    #loss += lamb_reg * regularizers\n",
    "    loss = tf.reduce_mean(loss + regularization_constant * regularizers)\n",
    "\n",
    "    # Optimizer.\n",
    "    # learning rate decay\n",
    "    global_step = tf.Variable(0)  # count  number of steps taken.\n",
    "    start_learning_rate = 0.1\n",
    "    learning_rate = tf.train.exponential_decay(start_learning_rate, global_step, 100000, 0.96, staircase=True)\n",
    "    optimizer = tf.train.GradientDescentOptimizer(learning_rate).minimize(loss, global_step=global_step)\n",
    "\n",
    "    # Predictions for the training, validation, and test data.\n",
    "    train_prediction = tf.nn.softmax(logits)\n",
    "    valid_prediction = tf.nn.softmax(model(tf_valid_dataset))\n",
    "    test_prediction = tf.nn.softmax(model(tf_test_dataset))"
   ]
  },
  {
   "cell_type": "code",
   "execution_count": null,
   "metadata": {
    "collapsed": true
   },
   "outputs": [],
   "source": [
    "#The following code is adapted from Section 7 notebook\n",
    "def run_session(num_epochs, name):\n",
    "\n",
    "    with tf.Session(graph=graph) as session:\n",
    "        merged = tf.merge_all_summaries()  \n",
    "        writer = tf.train.SummaryWriter(\"/tmp/HW4Q3Logs\", session.graph)\n",
    "        tf.initialize_all_variables().run()\n",
    "        print(\"Initialized\")\n",
    "        start_time = time.time()\n",
    "        for epoch in range(num_epochs):\n",
    "            offset = (epoch * batch_size) % (training_labels_enc.shape[0] - batch_size)\n",
    "            batch_data = training_data[offset:(offset + batch_size), :]\n",
    "            batch_labels = training_labels_enc[offset:(offset + batch_size), :]\n",
    "            feed_dict = {tf_train_dataset : batch_data, tf_train_labels : batch_labels}\n",
    "            _, l, predictions = session.run([optimizer, loss, train_prediction], feed_dict=feed_dict)\n",
    "            if (epoch % 500 == 0):\n",
    "                print(\"Minibatch accuracy: {:.1f} %\".format(accuracy(predictions, batch_labels)))\n",
    "                print(\"Validation accuracy: {:.1f} %\".format(accuracy(valid_prediction.eval(), validation_labels_enc)))\n",
    "        model_time = time.time() - start_time\n",
    "        print(\"Time Taken for Training: {:.1f} seconds\".format(model_time))\n",
    "        print(\"Test accuracy: {:.1f} %\".format(accuracy(test_prediction.eval(), testing_labels_enc)))\n",
    "        test_preds[name] = test_prediction.eval().ravel()\n",
    "\n",
    "run_session(2000, \"Q3A\")"
   ]
  },
  {
   "cell_type": "markdown",
   "metadata": {},
   "source": [
    "## Visualize the model using Tensorboard"
   ]
  },
  {
   "cell_type": "markdown",
   "metadata": {},
   "source": [
    "In this step we visualized the model by using Tensorboard.\n",
    "\n",
    "**python /Applications/anaconda/envs/tensorflow/bin/tensorboard --logdir=/tmp/HW4Q3Logs**"
   ]
  },
  {
   "cell_type": "markdown",
   "metadata": {},
   "source": [
    "The graph showed different pieces of the model and allowed us to see the values passed on to different stage. We think that Tensorboard can be invaluable tool, once we become more well versed in TensorFlow"
   ]
  },
  {
   "cell_type": "markdown",
   "metadata": {},
   "source": [
    "### 3b) Train and test a generic convolutional network on the data. Record the training time (your choice of approaches) and the accuracy on the test set.\n"
   ]
  },
  {
   "cell_type": "code",
   "execution_count": null,
   "metadata": {
    "collapsed": true
   },
   "outputs": [],
   "source": [
    "#This code is taken from Section 7\n",
    "def accuracy(predictions, labels):\n",
    "    return (100.0 * np.sum(np.argmax(predictions, 1) == np.argmax(labels, 1))\n",
    "            / predictions.shape[0])\n",
    "\n",
    "def weight_variable(shape):\n",
    "    initial = tf.truncated_normal(shape, stddev=0.01)\n",
    "    return tf.Variable(initial)\n",
    "\n",
    "def bias_variable(shape):\n",
    "    initial = tf.constant(0.1, shape=shape)\n",
    "    return tf.Variable(initial)"
   ]
  },
  {
   "cell_type": "code",
   "execution_count": null,
   "metadata": {
    "collapsed": true
   },
   "outputs": [],
   "source": [
    "#The following code is adapted from the code given in Section 7\n",
    "image_width = 32\n",
    "image_height = 32\n",
    "number_of_channels = 3\n",
    "num_of_pixels = image_width*image_height*number_of_channels\n",
    "num_labels = 10\n",
    "batch_size = 16\n",
    "patch_size = 5\n",
    "depth1 = 32\n",
    "depth2 = 64\n",
    "num_hidden = 1024\n",
    "\n",
    "graph = tf.Graph()\n",
    "\n",
    "with graph.as_default():\n",
    "\n",
    "    # Input data.\n",
    "    tf_train_dataset = tf.placeholder(tf.float32, shape=(batch_size, image_width, image_height, number_of_channels))\n",
    "    tf_train_labels = tf.placeholder(tf.float32, shape=(batch_size, num_labels))\n",
    "    validation_data = validation_tuple[0].reshape(-1,32,32,3)\n",
    "    testing_data = testing_tuple[0].reshape(-1,32,32,3)\n",
    "    tf_valid_dataset = tf.constant(validation_data)\n",
    "    tf_test_dataset = tf.constant(testing_data)\n",
    "\n",
    "    # Variables.\n",
    "    layer1_weights = weight_variable([patch_size, patch_size, number_of_channels, depth1])\n",
    "    layer1_biases = bias_variable([depth1])\n",
    "    layer2_weights = weight_variable([patch_size, patch_size, depth1, depth2])\n",
    "    layer2_biases = bias_variable([depth2])\n",
    "    layer3_weights = weight_variable([image_width // 4 * image_width // 4 * depth2, num_hidden])\n",
    "    layer3_biases = bias_variable([num_hidden])\n",
    "    layer4_weights = weight_variable([num_hidden, num_labels])\n",
    "    layer4_biases = bias_variable([num_labels])\n",
    "\n",
    "    keep_prob = tf.placeholder(tf.float32)\n",
    "    # Model with dropout\n",
    "    def model(data, proba=keep_prob):\n",
    "        # Convolution\n",
    "        conv1 = tf.nn.conv2d(data, layer1_weights, [1, 1, 1, 1], padding='SAME') + layer1_biases\n",
    "        pooled1 = tf.nn.max_pool(tf.nn.relu(conv1), ksize=[1, 2, 2, 1],\n",
    "                        strides=[1, 2, 2, 1], padding='SAME')\n",
    "        # Convolution\n",
    "        conv2 = tf.nn.conv2d(pooled1, layer2_weights, [1, 1, 1, 1], padding='SAME') + layer2_biases\n",
    "        pooled2 = tf.nn.max_pool(tf.nn.relu(conv2), ksize=[1, 2, 2, 1],\n",
    "                        strides=[1, 2, 2, 1], padding='SAME')\n",
    "        # Fully Connected Layer\n",
    "        shape = pooled2.get_shape().as_list()\n",
    "        reshape = tf.reshape(pooled2, [shape[0], shape[1] * shape[2] * shape[3]])\n",
    "        full3 = tf.nn.relu(tf.matmul(reshape, layer3_weights) + layer3_biases)\n",
    "        # Dropout\n",
    "        full3 = tf.nn.dropout(full3, proba)\n",
    "        return tf.matmul(full3, layer4_weights) + layer4_biases\n",
    "  \n",
    "    # Training computation.\n",
    "    #Reshape tf_train_dataset\n",
    "    logits = model(tf_train_dataset, keep_prob)\n",
    "    loss = tf.reduce_mean(tf.nn.softmax_cross_entropy_with_logits(logits, tf_train_labels))\n",
    "\n",
    "    # Optimizer.\n",
    "    optimizer = tf.train.AdamOptimizer(1e-4).minimize(loss)\n",
    "\n",
    "    # Predictions for the training, validation, and test data.\n",
    "    train_prediction = tf.nn.softmax(logits)\n",
    "    \n",
    "    valid_prediction = tf.nn.softmax(model(tf_valid_dataset,1.0))\n",
    "    test_prediction = tf.nn.softmax(model(tf_test_dataset,1.0))"
   ]
  },
  {
   "cell_type": "code",
   "execution_count": null,
   "metadata": {
    "collapsed": true
   },
   "outputs": [],
   "source": [
    "# Re-define the function to include the keep probability\n",
    "def run_session(num_epochs, name, k_prob=1.0):\n",
    "\n",
    "    with tf.Session(graph=graph) as session:\n",
    "        merged = tf.merge_all_summaries()  \n",
    "        writer = tf.train.SummaryWriter(\"/tmp/HW4Q3blogs\", session.graph)\n",
    "        tf.initialize_all_variables().run()\n",
    "        print(\"Initialized\")\n",
    "        start_time = time.time()\n",
    "        for epoch in range(num_epochs):\n",
    "            offset = (epoch * batch_size) % (training_labels_enc.shape[0] - batch_size)\n",
    "            batch_data = training_data[offset:(offset + batch_size), :]\n",
    "            batch_data = batch_data.reshape(-1,32,32,3)\n",
    "            batch_labels = training_labels_enc[offset:(offset + batch_size), :]\n",
    "            feed_dict = {tf_train_dataset : batch_data, tf_train_labels : batch_labels, keep_prob : k_prob}\n",
    "            _, l, predictions = session.run([optimizer, loss, train_prediction], feed_dict=feed_dict)\n",
    "            if (epoch % 500 == 0):\n",
    "                print(\"Minibatch loss at epoch {}: {}\".format(epoch, l))\n",
    "                print(\"Minibatch accuracy: {:.1f}\".format(accuracy(predictions, batch_labels)))\n",
    "                print(\"Validation accuracy: {:.1f}\".format(accuracy(valid_prediction.eval(), validation_labels_enc)))\n",
    "        model_time = time.time() - start_time\n",
    "        print(\"Time Taken for Training: {:.1f} seconds\".format(model_time))\n",
    "        print(\"Test accuracy: {:.1f}\".format(accuracy(test_prediction.eval(), testing_labels_enc)))\n",
    "        test_preds[name] = test_prediction.eval().ravel()"
   ]
  },
  {
   "cell_type": "code",
   "execution_count": null,
   "metadata": {
    "collapsed": true
   },
   "outputs": [],
   "source": [
    "run_session(2000,\"CNN\", 0.5)"
   ]
  },
  {
   "cell_type": "markdown",
   "metadata": {},
   "source": [
    "### 3c) Train and test a non-NN algorithm with reasonable performance on the data."
   ]
  },
  {
   "cell_type": "markdown",
   "metadata": {},
   "source": [
    "We have selected Logistic Regression with Stochastic Gradient Descent as our non NN algorithm"
   ]
  },
  {
   "cell_type": "code",
   "execution_count": null,
   "metadata": {
    "cellView": "both",
    "colab": {
     "autoexec": {
      "startup": false,
      "wait_interval": 0
     }
    },
    "colab_type": "code",
    "collapsed": true,
    "id": "qhPMzWYRGrzM"
   },
   "outputs": [],
   "source": [
    "#The following code is adapted from the code given in Section 7\n",
    "batch_size = 256\n",
    "\n",
    "graph = tf.Graph()\n",
    "with graph.as_default():\n",
    "\n",
    "    # Input data, with a placeholder to feed the training data at run time.\n",
    "    tf_train_dataset = tf.placeholder(tf.float32, shape=(batch_size, 3072))\n",
    "    tf_train_labels = tf.placeholder(tf.float32, shape=(batch_size, 10))\n",
    "    tf_valid_dataset = tf.constant(validation_tuple[0])\n",
    "    tf_test_dataset = tf.constant(testing_tuple[0])\n",
    "\n",
    "    # Variables.\n",
    "    weights = tf.Variable(tf.truncated_normal([3072, 10]))\n",
    "    biases = tf.Variable(tf.zeros([10]))\n",
    "\n",
    "    # Training computation.\n",
    "    logits = tf.matmul(tf_train_dataset, weights) + biases\n",
    "    loss = tf.reduce_mean(tf.nn.softmax_cross_entropy_with_logits(logits, tf_train_labels))\n",
    "\n",
    "    # Optimizer.\n",
    "    optimizer = tf.train.GradientDescentOptimizer(0.5).minimize(loss)\n",
    "\n",
    "    # Predictions for the training, validation, and test data.\n",
    "    train_prediction = tf.nn.softmax(logits)\n",
    "    valid_prediction = tf.nn.softmax(tf.matmul(tf_valid_dataset, weights) + biases)\n",
    "    test_prediction = tf.nn.softmax(tf.matmul(tf_test_dataset, weights) + biases)"
   ]
  },
  {
   "cell_type": "code",
   "execution_count": null,
   "metadata": {
    "cellView": "both",
    "colab": {
     "autoexec": {
      "startup": false,
      "wait_interval": 0
     },
     "output_extras": [
      {
       "item_id": 6
      }
     ]
    },
    "colab_type": "code",
    "collapsed": true,
    "executionInfo": {
     "elapsed": 66292,
     "status": "ok",
     "timestamp": 1449848003013,
     "user": {
      "color": "",
      "displayName": "",
      "isAnonymous": false,
      "isMe": true,
      "permissionId": "",
      "photoUrl": "",
      "sessionId": "0",
      "userId": ""
     },
     "user_tz": 480
    },
    "id": "FoF91pknG_YW",
    "outputId": "d255c80e-954d-4183-ca1c-c7333ce91d0a"
   },
   "outputs": [],
   "source": [
    "num_epochs = 3001\n",
    "l_array = []\n",
    "with tf.Session(graph=graph) as session:\n",
    "    tf.initialize_all_variables().run()\n",
    "    merged = tf.merge_all_summaries()  \n",
    "    writer = tf.train.SummaryWriter(\"/tmp/HW4Q3cLogs\", session.graph)\n",
    "    print(\"Initialized\")\n",
    "    start_time = time.time()\n",
    "    for epoch in range(num_epochs):\n",
    "        \n",
    "        offset = (epoch * batch_size) % (training_labels_enc.shape[0] - batch_size)\n",
    "\n",
    "        batch_data = training_data[offset:(offset + batch_size), :]\n",
    "        batch_labels = training_labels_enc[offset:(offset + batch_size), :]\n",
    "\n",
    "        feed_dict = {tf_train_dataset : batch_data, tf_train_labels : batch_labels}\n",
    "        _, l, predictions = session.run([optimizer, loss, train_prediction], feed_dict=feed_dict)\n",
    "        l_array.append(l)\n",
    "        if (epoch % 500 == 0):\n",
    "            print(\"Minibatch loss at epoch %d: %f\" % (epoch, l))\n",
    "            print(\"Minibatch accuracy: %.1f%%\" % accuracy(predictions, batch_labels))\n",
    "            print(\"Validation accuracy: %.1f%%\" % accuracy(valid_prediction.eval(), validation_labels_enc))\n",
    "    model_time = time.time() - start_time\n",
    "    print(\"Time Taken for Training: {:.1f} seconds\".format(model_time))\n",
    "    print(\"Test accuracy: %.1f%%\" % accuracy(test_prediction.eval(), testing_labels_enc))\n",
    "    test_preds['SGD'] = test_prediction.eval().ravel()"
   ]
  },
  {
   "cell_type": "markdown",
   "metadata": {},
   "source": [
    "### 3d) Compare the three methods"
   ]
  },
  {
   "cell_type": "markdown",
   "metadata": {},
   "source": [
    "**Compare Training Times**"
   ]
  },
  {
   "cell_type": "code",
   "execution_count": null,
   "metadata": {
    "collapsed": true
   },
   "outputs": [],
   "source": [
    "#Compare Training Time\n",
    "methods = ['NN','CNN','SGD']\n",
    "training_times = [1738,182.4,8.8]\n",
    "plt.bar(np.arange(len(training_times)),training_times, align='center', alpha=0.5, color={'b','g','r'})\n",
    "plt.xticks(np.arange(len(training_times)), methods)\n",
    "plt.yticks( training_times)\n",
    "plt.xlabel('Method')\n",
    "plt.ylabel('Training Time (s)')"
   ]
  },
  {
   "cell_type": "markdown",
   "metadata": {},
   "source": [
    "**Compare Accuracy**"
   ]
  },
  {
   "cell_type": "code",
   "execution_count": null,
   "metadata": {
    "collapsed": true
   },
   "outputs": [],
   "source": [
    "#Compare Accuracy\n",
    "methods = ['NN','CNN','SGD']\n",
    "accuracy = [42.9,35.2,29.2]\n",
    "plt.bar(np.arange(len(accuracy)),accuracy, align='center', alpha=0.5, color={'c','m','y'})\n",
    "plt.xticks(np.arange(len(accuracy)), methods)\n",
    "plt.xlabel('Method')\n",
    "plt.ylabel('Accuracy (%)')"
   ]
  },
  {
   "cell_type": "markdown",
   "metadata": {},
   "source": [
    "Looking at the plots given above, we can see that Neural Network with 2 hidden layers took the most time to train. The reason it took more time than Convolutional Neural Network is because it was a fully connected network and we have not used dropouts. Convolutional Neural Network on the other hand took half as much time as MLP based NN as the algorithm took advantage of reduced number of weights calculations in backpropagation step. SGD was quick but the accuracy was low compared to the Neural Network based algorithms."
   ]
  },
  {
   "cell_type": "markdown",
   "metadata": {},
   "source": [
    "## 4) Assess the sensitivity of the test set to training data size"
   ]
  },
  {
   "cell_type": "markdown",
   "metadata": {},
   "source": [
    "### 4a) Randomly divide the training data into at least 3 pieces (like cross-validation): A, B, C, ... but do so in a way that preserves the an equal fraction of the 10 categories of images across sets. That is, each set {A,B, etc.} should have the same number of category 1, 2,...10 images within it."
   ]
  },
  {
   "cell_type": "code",
   "execution_count": null,
   "metadata": {
    "collapsed": true
   },
   "outputs": [],
   "source": [
    "import pandas as pd\n",
    "labels = training_tuple[1].reshape(training_tuple[1].shape[0],1)\n",
    "combined = np.hstack((training_tuple[0],labels))\n",
    "df_training = pd.DataFrame(combined)\n",
    "df_training[3072].value_counts()\n",
    "classes= {}\n",
    "for index in range(10):\n",
    "    classes[index] = (pd.DataFrame(df_training.loc[df_training[3072] == index])).iloc[0:3900,:]\n",
    "\n",
    "x_A=np.vstack((classes[0].iloc[0:1300],classes[1].iloc[0:1300],classes[2].iloc[0:1300],classes[3].iloc[0:1300],classes[4].iloc[0:1300],classes[5].iloc[0:1300],classes[6].iloc[0:1300],classes[7].iloc[0:1300],classes[8].iloc[0:1300],classes[9].iloc[0:1300]))\n",
    "x_B=np.vstack((classes[0].iloc[1300:2600],classes[1].iloc[1300:2600],classes[2].iloc[1300:2600],classes[3].iloc[1300:2600],classes[4].iloc[1300:2600],classes[5].iloc[1300:2600],classes[6].iloc[1300:2600],classes[7].iloc[1300:2600],classes[8].iloc[1300:2600],classes[9].iloc[1300:2600]))\n",
    "x_C=np.vstack((classes[0].iloc[2600:3900],classes[1].iloc[2600:3900],classes[2].iloc[2600:3900],classes[3].iloc[2600:3900],classes[4].iloc[2600:3900],classes[5].iloc[2600:3900],classes[6].iloc[2600:3900],classes[7].iloc[2600:3900],classes[8].iloc[2600:3900],classes[9].iloc[2600:3900]))\n",
    "np.random.shuffle(x_A)\n",
    "np.random.shuffle(x_B)\n",
    "np.random.shuffle(x_C)\n",
    "x_A_B=np.vstack((x_A,x_B))\n",
    "df_A = pd.DataFrame(x_A)\n",
    "df_B = pd.DataFrame(x_B)\n",
    "df_C = pd.DataFrame(x_C)\n",
    "df_A_B =pd.DataFrame(x_A_B)\n",
    "\n",
    "df_label_A = df_A[df_A.columns[[3072]]]\n",
    "df_label_B = df_B[df_B.columns[[3072]]]\n",
    "df_label_C = df_C[df_C.columns[[3072]]]\n",
    "df_label_A_B=df_A_B[df_A_B.columns[[3072]]]\n",
    "training_A=df_A.as_matrix\n",
    "\n",
    "df_A.drop(df_A.columns[[3072]],axis=1,inplace=True)\n",
    "df_B.drop(df_B.columns[[3072]],axis=1,inplace=True)\n",
    "df_C.drop(df_C.columns[[3072]],axis=1,inplace=True)\n",
    "df_A_B.drop(df_A_B.columns[[3072]],axis=1,inplace=True)\n",
    "\n",
    "\n",
    "training_A=df_A.as_matrix()\n",
    "label_A=df_label_A.as_matrix()[:,0]\n",
    "training_B=df_B.as_matrix()\n",
    "label_B=df_label_B.as_matrix()[:,0]\n",
    "training_A_B=df_A_B.as_matrix()\n",
    "label_A_B=df_label_A_B.as_matrix()[:,0]\n",
    "label_A_B.shape\n",
    "training_A.shape"
   ]
  },
  {
   "cell_type": "markdown",
   "metadata": {},
   "source": [
    "### 4b) Train your classifiers in part 3 on each of the following, A, AB, etc. and test on the full test set"
   ]
  },
  {
   "cell_type": "markdown",
   "metadata": {},
   "source": [
    "** Using the first dataset (i.e A) on Q3 **"
   ]
  },
  {
   "cell_type": "code",
   "execution_count": null,
   "metadata": {
    "collapsed": true
   },
   "outputs": [],
   "source": [
    "#One hot encoding of Labels\n",
    "#training_labels = training_tuple[1]\n",
    "training_labels = label_A\n",
    "training_labels_enc = (np.arange(10) == training_labels[:,None]).astype(np.float32)\n",
    "validation_labels = validation_tuple[1]\n",
    "validation_labels_enc = (np.arange(10) == validation_labels[:,None]).astype(np.float32)\n",
    "testing_labels = testing_tuple[1]\n",
    "testing_labels_enc = (np.arange(10) == testing_labels[:,None]).astype(np.float32)\n",
    "#The following code is taken from Section 7 notebook\n",
    "#Some utility functions to be used for computation graph building and execution\n",
    "def accuracy(predictions, labels):\n",
    "    return (100.0 * np.sum(np.argmax(predictions, 1) == np.argmax(labels, 1))\n",
    "            / predictions.shape[0])\n",
    "\n",
    "def weight_variable(shape):\n",
    "    initial = tf.truncated_normal(shape, stddev=tf.sqrt(2.0/shape[0]))\n",
    "    return tf.Variable(initial)\n",
    "\n",
    "def bias_variable(shape):\n",
    "    initial = tf.zeros(shape)\n",
    "    return tf.Variable(initial)\n",
    "\n",
    "split_by_half = lambda x,k : int(x/2**k)\n",
    "#Save training, testing and validation datasets \n",
    "#in corresponding variables\n",
    "#training_data = training_tuple[0]\n",
    "training_data = training_A\n",
    "testing_data = testing_tuple[0]\n",
    "validation_data = validation_tuple[0]\n",
    "#Constants\n",
    "hidden_nodes = 2000\n",
    "batch_size = 256\n",
    "image_width = 32\n",
    "image_height = 32\n",
    "number_of_channels = 3\n",
    "num_of_pixels = image_width*image_height*number_of_channels\n",
    "#Dictionary to save prediction results\n",
    "test_preds={}\n",
    "#Regularization penalty\n",
    "regularization_constant = 0.01\n",
    "#The following code is adapted from Section 7 notebook\n",
    "#This portion will construct the computation Graph\n",
    "graph = tf.Graph()\n",
    "with graph.as_default():\n",
    "\n",
    "    # Input data\n",
    "    tf_train_dataset = tf.placeholder(tf.float32, shape=(batch_size, num_of_pixels))\n",
    "    tf_train_labels = tf.placeholder(tf.float32, shape=(batch_size, 10))\n",
    "    \n",
    "    #Constants\n",
    "    tf_valid_dataset = tf.constant(validation_tuple[0])\n",
    "    tf_test_dataset = tf.constant(testing_tuple[0])\n",
    "\n",
    "    # Variables.\n",
    "    layer1_weights = weight_variable([num_of_pixels, hidden_nodes])\n",
    "    layer1_biases = bias_variable([hidden_nodes])\n",
    "    layer2_weights = weight_variable([hidden_nodes, split_by_half(hidden_nodes,1)])\n",
    "    layer2_biases = bias_variable([split_by_half(hidden_nodes,1)])   \n",
    "    layer3_weights = weight_variable([split_by_half(hidden_nodes,1), 10])\n",
    "    layer3_biases = bias_variable([10])\n",
    "    \n",
    "    keep_prob = tf.placeholder(\"float\")\n",
    "    \n",
    "    # Model with dropout\n",
    "    def model(data):\n",
    "        layer1 = tf.matmul(data, layer1_weights) + layer1_biases\n",
    "        hidden1 = tf.nn.relu(layer1)  \n",
    "        layer2 = tf.matmul(hidden1, layer2_weights) + layer2_biases  # a new hidden layer\n",
    "        hidden2 = tf.nn.relu(layer2)\n",
    "        \n",
    "        return tf.matmul(hidden2, layer3_weights) + layer3_biases\n",
    "    \n",
    "    # Training computation.\n",
    "    logits = model(tf_train_dataset)\n",
    "    loss = tf.reduce_mean(tf.nn.softmax_cross_entropy_with_logits(logits, tf_train_labels))\n",
    "    regularizers = (tf.nn.l2_loss(layer1_weights) + tf.nn.l2_loss(layer1_biases) + \\\n",
    "                    tf.nn.l2_loss(layer2_weights) + tf.nn.l2_loss(layer2_biases) + \\\n",
    "                    tf.nn.l2_loss(layer3_weights) + tf.nn.l2_loss(layer3_biases) )\n",
    "\n",
    "    # Add the regularization term to the loss.\n",
    "    #loss += lamb_reg * regularizers\n",
    "    loss = tf.reduce_mean(loss + regularization_constant * regularizers)\n",
    "\n",
    "    # Optimizer.\n",
    "    # learning rate decay\n",
    "    global_step = tf.Variable(0)  # count  number of steps taken.\n",
    "    start_learning_rate = 0.1\n",
    "    learning_rate = tf.train.exponential_decay(start_learning_rate, global_step, 100000, 0.96, staircase=True)\n",
    "    optimizer = tf.train.GradientDescentOptimizer(learning_rate).minimize(loss, global_step=global_step)\n",
    "\n",
    "    # Predictions for the training, validation, and test data.\n",
    "    train_prediction = tf.nn.softmax(logits)\n",
    "    valid_prediction = tf.nn.softmax(model(tf_valid_dataset))\n",
    "    test_prediction = tf.nn.softmax(model(tf_test_dataset))\n",
    "    #The following code is adapted from Section 7 notebook\n",
    "def run_session(num_epochs, name):\n",
    "\n",
    "    with tf.Session(graph=graph) as session:\n",
    "        merged = tf.merge_all_summaries()  \n",
    "        writer = tf.train.SummaryWriter(\"/tmp/HW4Q3Logs\", session.graph)\n",
    "        tf.initialize_all_variables().run()\n",
    "        print(\"Initialized\")\n",
    "        start_time = time.time()\n",
    "        for epoch in range(num_epochs):\n",
    "            offset = (epoch * batch_size) % (training_labels_enc.shape[0] - batch_size)\n",
    "            batch_data = training_data[offset:(offset + batch_size), :]\n",
    "            batch_labels = training_labels_enc[offset:(offset + batch_size), :]\n",
    "            feed_dict = {tf_train_dataset : batch_data, tf_train_labels : batch_labels}\n",
    "            _, l, predictions = session.run([optimizer, loss, train_prediction], feed_dict=feed_dict)\n",
    "            if (epoch % 500 == 0):\n",
    "                print(\"Minibatch accuracy: {:.1f} %\".format(accuracy(predictions, batch_labels)))\n",
    "                print(\"Validation accuracy: {:.1f} %\".format(accuracy(valid_prediction.eval(), validation_labels_enc)))\n",
    "        model_time = time.time() - start_time\n",
    "        print(\"Time Taken for Training: {:.1f} seconds\".format(model_time))\n",
    "        print(\"Test accuracy: {:.1f} %\".format(accuracy(test_prediction.eval(), testing_labels_enc)))\n",
    "        test_preds[name] = test_prediction.eval().ravel()\n",
    "\n",
    "run_session(2000, \"Q4a/A\")"
   ]
  },
  {
   "cell_type": "markdown",
   "metadata": {},
   "source": [
    "**Train and test a generic convolutional network using A**."
   ]
  },
  {
   "cell_type": "code",
   "execution_count": null,
   "metadata": {
    "collapsed": true
   },
   "outputs": [],
   "source": [
    "#This code is taken from Section 7\n",
    "def accuracy(predictions, labels):\n",
    "    return (100.0 * np.sum(np.argmax(predictions, 1) == np.argmax(labels, 1))\n",
    "            / predictions.shape[0])\n",
    "\n",
    "def weight_variable(shape):\n",
    "    initial = tf.truncated_normal(shape, stddev=0.01)\n",
    "    return tf.Variable(initial)\n",
    "\n",
    "def bias_variable(shape):\n",
    "    initial = tf.constant(0.1, shape=shape)\n",
    "    return tf.Variable(initial)\n",
    "#The following code is adapted from the code given in Section 7\n",
    "image_width = 32\n",
    "image_height = 32\n",
    "number_of_channels = 3\n",
    "num_of_pixels = image_width*image_height*number_of_channels\n",
    "num_labels = 10\n",
    "batch_size = 16\n",
    "patch_size = 5\n",
    "depth1 = 32\n",
    "depth2 = 64\n",
    "num_hidden = 1024\n",
    "\n",
    "graph = tf.Graph()\n",
    "\n",
    "with graph.as_default():\n",
    "\n",
    "    # Input data.\n",
    "    tf_train_dataset = tf.placeholder(tf.float32, shape=(batch_size, image_width, image_height, number_of_channels))\n",
    "    tf_train_labels = tf.placeholder(tf.float32, shape=(batch_size, num_labels))\n",
    "    validation_data = validation_tuple[0].reshape(-1,32,32,3)\n",
    "    testing_data = testing_tuple[0].reshape(-1,32,32,3)\n",
    "    tf_valid_dataset = tf.constant(validation_data)\n",
    "    tf_test_dataset = tf.constant(testing_data)\n",
    "\n",
    "    # Variables.\n",
    "    layer1_weights = weight_variable([patch_size, patch_size, number_of_channels, depth1])\n",
    "    layer1_biases = bias_variable([depth1])\n",
    "    layer2_weights = weight_variable([patch_size, patch_size, depth1, depth2])\n",
    "    layer2_biases = bias_variable([depth2])\n",
    "    layer3_weights = weight_variable([image_width // 4 * image_width // 4 * depth2, num_hidden])\n",
    "    layer3_biases = bias_variable([num_hidden])\n",
    "    layer4_weights = weight_variable([num_hidden, num_labels])\n",
    "    layer4_biases = bias_variable([num_labels])\n",
    "\n",
    "    keep_prob = tf.placeholder(tf.float32)\n",
    "    # Model with dropout\n",
    "    def model(data, proba=keep_prob):\n",
    "        # Convolution\n",
    "        conv1 = tf.nn.conv2d(data, layer1_weights, [1, 1, 1, 1], padding='SAME') + layer1_biases\n",
    "        pooled1 = tf.nn.max_pool(tf.nn.relu(conv1), ksize=[1, 2, 2, 1],\n",
    "                        strides=[1, 2, 2, 1], padding='SAME')\n",
    "        # Convolution\n",
    "        conv2 = tf.nn.conv2d(pooled1, layer2_weights, [1, 1, 1, 1], padding='SAME') + layer2_biases\n",
    "        pooled2 = tf.nn.max_pool(tf.nn.relu(conv2), ksize=[1, 2, 2, 1],\n",
    "                        strides=[1, 2, 2, 1], padding='SAME')\n",
    "        # Fully Connected Layer\n",
    "        shape = pooled2.get_shape().as_list()\n",
    "        reshape = tf.reshape(pooled2, [shape[0], shape[1] * shape[2] * shape[3]])\n",
    "        full3 = tf.nn.relu(tf.matmul(reshape, layer3_weights) + layer3_biases)\n",
    "        # Dropout\n",
    "        full3 = tf.nn.dropout(full3, proba)\n",
    "        return tf.matmul(full3, layer4_weights) + layer4_biases\n",
    "  \n",
    "    # Training computation.\n",
    "    #Reshape tf_train_dataset\n",
    "    logits = model(tf_train_dataset, keep_prob)\n",
    "    loss = tf.reduce_mean(tf.nn.softmax_cross_entropy_with_logits(logits, tf_train_labels))\n",
    "\n",
    "    # Optimizer.\n",
    "    optimizer = tf.train.AdamOptimizer(1e-4).minimize(loss)\n",
    "\n",
    "    # Predictions for the training, validation, and test data.\n",
    "    train_prediction = tf.nn.softmax(logits)\n",
    "    \n",
    "    valid_prediction = tf.nn.softmax(model(tf_valid_dataset,1.0))\n",
    "    test_prediction = tf.nn.softmax(model(tf_test_dataset,1.0))\n",
    "# Re-define the function to include the keep probability\n",
    "def run_session(num_epochs, name, k_prob=1.0):\n",
    "\n",
    "    with tf.Session(graph=graph) as session:\n",
    "        merged = tf.merge_all_summaries()  \n",
    "        writer = tf.train.SummaryWriter(\"/tmp/HW4Q3blogs\", session.graph)\n",
    "        tf.initialize_all_variables().run()\n",
    "        print(\"Initialized\")\n",
    "        start_time = time.time()\n",
    "        for epoch in range(num_epochs):\n",
    "            offset = (epoch * batch_size) % (training_labels_enc.shape[0] - batch_size)\n",
    "            batch_data = training_data[offset:(offset + batch_size), :]\n",
    "            batch_data = batch_data.reshape(-1,32,32,3)\n",
    "            batch_labels = training_labels_enc[offset:(offset + batch_size), :]\n",
    "            feed_dict = {tf_train_dataset : batch_data, tf_train_labels : batch_labels, keep_prob : k_prob}\n",
    "            _, l, predictions = session.run([optimizer, loss, train_prediction], feed_dict=feed_dict)\n",
    "            if (epoch % 500 == 0):\n",
    "                print(\"Minibatch loss at epoch {}: {}\".format(epoch, l))\n",
    "                print(\"Minibatch accuracy: {:.1f}\".format(accuracy(predictions, batch_labels)))\n",
    "                print(\"Validation accuracy: {:.1f}\".format(accuracy(valid_prediction.eval(), validation_labels_enc)))\n",
    "        model_time = time.time() - start_time\n",
    "        print(\"Time Taken for Training: {:.1f} seconds\".format(model_time))\n",
    "        print(\"Test accuracy: {:.1f}\".format(accuracy(test_prediction.eval(), testing_labels_enc)))\n",
    "        test_preds[name] = test_prediction.eval().ravel()\n",
    "run_session(2000,\"CNN\", 0.5)"
   ]
  },
  {
   "cell_type": "markdown",
   "metadata": {},
   "source": [
    "**Train and test a non NN network using A**."
   ]
  },
  {
   "cell_type": "code",
   "execution_count": null,
   "metadata": {
    "collapsed": true
   },
   "outputs": [],
   "source": [
    "batch_size = 256\n",
    "\n",
    "graph = tf.Graph()\n",
    "with graph.as_default():\n",
    "\n",
    "    # Input data, with a placeholder to feed the training data at run time.\n",
    "    tf_train_dataset = tf.placeholder(tf.float32, shape=(batch_size, 3072))\n",
    "    tf_train_labels = tf.placeholder(tf.float32, shape=(batch_size, 10))\n",
    "    tf_valid_dataset = tf.constant(validation_tuple[0])\n",
    "    tf_test_dataset = tf.constant(testing_tuple[0])\n",
    "\n",
    "    # Variables.\n",
    "    weights = tf.Variable(tf.truncated_normal([3072, 10]))\n",
    "    biases = tf.Variable(tf.zeros([10]))\n",
    "\n",
    "    # Training computation.\n",
    "    logits = tf.matmul(tf_train_dataset, weights) + biases\n",
    "    loss = tf.reduce_mean(tf.nn.softmax_cross_entropy_with_logits(logits, tf_train_labels))\n",
    "\n",
    "    # Optimizer.\n",
    "    optimizer = tf.train.GradientDescentOptimizer(0.5).minimize(loss)\n",
    "\n",
    "    # Predictions for the training, validation, and test data.\n",
    "    train_prediction = tf.nn.softmax(logits)\n",
    "    valid_prediction = tf.nn.softmax(tf.matmul(tf_valid_dataset, weights) + biases)\n",
    "    test_prediction = tf.nn.softmax(tf.matmul(tf_test_dataset, weights) + biases)\n",
    "num_epochs = 3001\n",
    "l_array = []\n",
    "with tf.Session(graph=graph) as session:\n",
    "    tf.initialize_all_variables().run()\n",
    "    merged = tf.merge_all_summaries()  \n",
    "    writer = tf.train.SummaryWriter(\"/tmp/HW4Q3cLogs\", session.graph)\n",
    "    print(\"Initialized\")\n",
    "    start_time = time.time()\n",
    "    for epoch in range(num_epochs):\n",
    "        \n",
    "        offset = (epoch * batch_size) % (training_labels_enc.shape[0] - batch_size)\n",
    "\n",
    "        batch_data = training_data[offset:(offset + batch_size), :]\n",
    "        batch_labels = training_labels_enc[offset:(offset + batch_size), :]\n",
    "\n",
    "        feed_dict = {tf_train_dataset : batch_data, tf_train_labels : batch_labels}\n",
    "        _, l, predictions = session.run([optimizer, loss, train_prediction], feed_dict=feed_dict)\n",
    "        l_array.append(l)\n",
    "        if (epoch % 500 == 0):\n",
    "            print(\"Minibatch loss at epoch %d: %f\" % (epoch, l))\n",
    "            print(\"Minibatch accuracy: %.1f%%\" % accuracy(predictions, batch_labels))\n",
    "            print(\"Validation accuracy: %.1f%%\" % accuracy(valid_prediction.eval(), validation_labels_enc))\n",
    "    model_time = time.time() - start_time\n",
    "    print(\"Time Taken for Training: {:.1f} seconds\".format(model_time))\n",
    "    print(\"Test accuracy: %.1f%%\" % accuracy(test_prediction.eval(), testing_labels_enc))\n",
    "    test_preds['SGD'] = test_prediction.eval().ravel()"
   ]
  },
  {
   "cell_type": "markdown",
   "metadata": {},
   "source": [
    "** Using the A+B on Q3 **"
   ]
  },
  {
   "cell_type": "code",
   "execution_count": null,
   "metadata": {
    "collapsed": true
   },
   "outputs": [],
   "source": [
    "#One hot encoding of Labels\n",
    "#training_labels = training_tuple[1]\n",
    "training_labels = label_A_B\n",
    "training_labels_enc = (np.arange(10) == training_labels[:,None]).astype(np.float32)\n",
    "validation_labels = validation_tuple[1]\n",
    "validation_labels_enc = (np.arange(10) == validation_labels[:,None]).astype(np.float32)\n",
    "testing_labels = testing_tuple[1]\n",
    "testing_labels_enc = (np.arange(10) == testing_labels[:,None]).astype(np.float32)\n",
    "#The following code is taken from Section 7 notebook\n",
    "#Some utility functions to be used for computation graph building and execution\n",
    "def accuracy(predictions, labels):\n",
    "    return (100.0 * np.sum(np.argmax(predictions, 1) == np.argmax(labels, 1))\n",
    "            / predictions.shape[0])\n",
    "\n",
    "def weight_variable(shape):\n",
    "    initial = tf.truncated_normal(shape, stddev=tf.sqrt(2.0/shape[0]))\n",
    "    return tf.Variable(initial)\n",
    "\n",
    "def bias_variable(shape):\n",
    "    initial = tf.zeros(shape)\n",
    "    return tf.Variable(initial)\n",
    "\n",
    "split_by_half = lambda x,k : int(x/2**k)\n",
    "#Save training, testing and validation datasets \n",
    "#in corresponding variables\n",
    "#training_data = training_tuple[0]\n",
    "training_data = training_A_B\n",
    "testing_data = testing_tuple[0]\n",
    "validation_data = validation_tuple[0]\n",
    "#Constants\n",
    "hidden_nodes = 2000\n",
    "batch_size = 256\n",
    "image_width = 32\n",
    "image_height = 32\n",
    "number_of_channels = 3\n",
    "num_of_pixels = image_width*image_height*number_of_channels\n",
    "#Dictionary to save prediction results\n",
    "test_preds={}\n",
    "#Regularization penalty\n",
    "regularization_constant = 0.01\n",
    "#The following code is adapted from Section 7 notebook\n",
    "#This portion will construct the computation Graph\n",
    "graph = tf.Graph()\n",
    "with graph.as_default():\n",
    "\n",
    "    # Input data\n",
    "    tf_train_dataset = tf.placeholder(tf.float32, shape=(batch_size, num_of_pixels))\n",
    "    tf_train_labels = tf.placeholder(tf.float32, shape=(batch_size, 10))\n",
    "    \n",
    "    #Constants\n",
    "    tf_valid_dataset = tf.constant(validation_tuple[0])\n",
    "    tf_test_dataset = tf.constant(testing_tuple[0])\n",
    "\n",
    "    # Variables.\n",
    "    layer1_weights = weight_variable([num_of_pixels, hidden_nodes])\n",
    "    layer1_biases = bias_variable([hidden_nodes])\n",
    "    layer2_weights = weight_variable([hidden_nodes, split_by_half(hidden_nodes,1)])\n",
    "    layer2_biases = bias_variable([split_by_half(hidden_nodes,1)])   \n",
    "    layer3_weights = weight_variable([split_by_half(hidden_nodes,1), 10])\n",
    "    layer3_biases = bias_variable([10])\n",
    "    \n",
    "    keep_prob = tf.placeholder(\"float\")\n",
    "    \n",
    "    # Model with dropout\n",
    "    def model(data):\n",
    "        layer1 = tf.matmul(data, layer1_weights) + layer1_biases\n",
    "        hidden1 = tf.nn.relu(layer1)  \n",
    "        layer2 = tf.matmul(hidden1, layer2_weights) + layer2_biases  # a new hidden layer\n",
    "        hidden2 = tf.nn.relu(layer2)\n",
    "        \n",
    "        return tf.matmul(hidden2, layer3_weights) + layer3_biases\n",
    "    \n",
    "    # Training computation.\n",
    "    logits = model(tf_train_dataset)\n",
    "    loss = tf.reduce_mean(tf.nn.softmax_cross_entropy_with_logits(logits, tf_train_labels))\n",
    "    regularizers = (tf.nn.l2_loss(layer1_weights) + tf.nn.l2_loss(layer1_biases) + \\\n",
    "                    tf.nn.l2_loss(layer2_weights) + tf.nn.l2_loss(layer2_biases) + \\\n",
    "                    tf.nn.l2_loss(layer3_weights) + tf.nn.l2_loss(layer3_biases) )\n",
    "\n",
    "    # Add the regularization term to the loss.\n",
    "    #loss += lamb_reg * regularizers\n",
    "    loss = tf.reduce_mean(loss + regularization_constant * regularizers)\n",
    "\n",
    "    # Optimizer.\n",
    "    # learning rate decay\n",
    "    global_step = tf.Variable(0)  # count  number of steps taken.\n",
    "    start_learning_rate = 0.1\n",
    "    learning_rate = tf.train.exponential_decay(start_learning_rate, global_step, 100000, 0.96, staircase=True)\n",
    "    optimizer = tf.train.GradientDescentOptimizer(learning_rate).minimize(loss, global_step=global_step)\n",
    "\n",
    "    # Predictions for the training, validation, and test data.\n",
    "    train_prediction = tf.nn.softmax(logits)\n",
    "    valid_prediction = tf.nn.softmax(model(tf_valid_dataset))\n",
    "    test_prediction = tf.nn.softmax(model(tf_test_dataset))\n",
    "    #The following code is adapted from Section 7 notebook\n",
    "def run_session(num_epochs, name):\n",
    "\n",
    "    with tf.Session(graph=graph) as session:\n",
    "        merged = tf.merge_all_summaries()  \n",
    "        writer = tf.train.SummaryWriter(\"/tmp/HW4Q3Logs\", session.graph)\n",
    "        tf.initialize_all_variables().run()\n",
    "        print(\"Initialized\")\n",
    "        start_time = time.time()\n",
    "        for epoch in range(num_epochs):\n",
    "            offset = (epoch * batch_size) % (training_labels_enc.shape[0] - batch_size)\n",
    "            batch_data = training_data[offset:(offset + batch_size), :]\n",
    "            batch_labels = training_labels_enc[offset:(offset + batch_size), :]\n",
    "            feed_dict = {tf_train_dataset : batch_data, tf_train_labels : batch_labels}\n",
    "            _, l, predictions = session.run([optimizer, loss, train_prediction], feed_dict=feed_dict)\n",
    "            if (epoch % 500 == 0):\n",
    "                print(\"Minibatch accuracy: {:.1f} %\".format(accuracy(predictions, batch_labels)))\n",
    "                print(\"Validation accuracy: {:.1f} %\".format(accuracy(valid_prediction.eval(), validation_labels_enc)))\n",
    "        model_time = time.time() - start_time\n",
    "        print(\"Time Taken for Training: {:.1f} seconds\".format(model_time))\n",
    "        print(\"Test accuracy: {:.1f} %\".format(accuracy(test_prediction.eval(), testing_labels_enc)))\n",
    "        test_preds[name] = test_prediction.eval().ravel()\n",
    "\n",
    "run_session(2000, \"Q4aAandB\")"
   ]
  },
  {
   "cell_type": "markdown",
   "metadata": {},
   "source": [
    "**Train and test a generic convolutional network using A+B**."
   ]
  },
  {
   "cell_type": "code",
   "execution_count": null,
   "metadata": {
    "collapsed": true
   },
   "outputs": [],
   "source": [
    "### 4b with A: Train and test a generic convolutional network on the data. \n",
    "#This code is taken from Section 7\n",
    "def accuracy(predictions, labels):\n",
    "    return (100.0 * np.sum(np.argmax(predictions, 1) == np.argmax(labels, 1))\n",
    "            / predictions.shape[0])\n",
    "\n",
    "def weight_variable(shape):\n",
    "    initial = tf.truncated_normal(shape, stddev=0.01)\n",
    "    return tf.Variable(initial)\n",
    "\n",
    "def bias_variable(shape):\n",
    "    initial = tf.constant(0.1, shape=shape)\n",
    "    return tf.Variable(initial)\n",
    "#The following code is adapted from the code given in Section 7\n",
    "image_width = 32\n",
    "image_height = 32\n",
    "number_of_channels = 3\n",
    "num_of_pixels = image_width*image_height*number_of_channels\n",
    "num_labels = 10\n",
    "batch_size = 16\n",
    "patch_size = 5\n",
    "depth1 = 32\n",
    "depth2 = 64\n",
    "num_hidden = 1024\n",
    "\n",
    "graph = tf.Graph()\n",
    "\n",
    "with graph.as_default():\n",
    "\n",
    "    # Input data.\n",
    "    tf_train_dataset = tf.placeholder(tf.float32, shape=(batch_size, image_width, image_height, number_of_channels))\n",
    "    tf_train_labels = tf.placeholder(tf.float32, shape=(batch_size, num_labels))\n",
    "    validation_data = validation_tuple[0].reshape(-1,32,32,3)\n",
    "    testing_data = testing_tuple[0].reshape(-1,32,32,3)\n",
    "    tf_valid_dataset = tf.constant(validation_data)\n",
    "    tf_test_dataset = tf.constant(testing_data)\n",
    "\n",
    "    # Variables.\n",
    "    layer1_weights = weight_variable([patch_size, patch_size, number_of_channels, depth1])\n",
    "    layer1_biases = bias_variable([depth1])\n",
    "    layer2_weights = weight_variable([patch_size, patch_size, depth1, depth2])\n",
    "    layer2_biases = bias_variable([depth2])\n",
    "    layer3_weights = weight_variable([image_width // 4 * image_width // 4 * depth2, num_hidden])\n",
    "    layer3_biases = bias_variable([num_hidden])\n",
    "    layer4_weights = weight_variable([num_hidden, num_labels])\n",
    "    layer4_biases = bias_variable([num_labels])\n",
    "\n",
    "    keep_prob = tf.placeholder(tf.float32)\n",
    "    # Model with dropout\n",
    "    def model(data, proba=keep_prob):\n",
    "        # Convolution\n",
    "        conv1 = tf.nn.conv2d(data, layer1_weights, [1, 1, 1, 1], padding='SAME') + layer1_biases\n",
    "        pooled1 = tf.nn.max_pool(tf.nn.relu(conv1), ksize=[1, 2, 2, 1],\n",
    "                        strides=[1, 2, 2, 1], padding='SAME')\n",
    "        # Convolution\n",
    "        conv2 = tf.nn.conv2d(pooled1, layer2_weights, [1, 1, 1, 1], padding='SAME') + layer2_biases\n",
    "        pooled2 = tf.nn.max_pool(tf.nn.relu(conv2), ksize=[1, 2, 2, 1],\n",
    "                        strides=[1, 2, 2, 1], padding='SAME')\n",
    "        # Fully Connected Layer\n",
    "        shape = pooled2.get_shape().as_list()\n",
    "        reshape = tf.reshape(pooled2, [shape[0], shape[1] * shape[2] * shape[3]])\n",
    "        full3 = tf.nn.relu(tf.matmul(reshape, layer3_weights) + layer3_biases)\n",
    "        # Dropout\n",
    "        full3 = tf.nn.dropout(full3, proba)\n",
    "        return tf.matmul(full3, layer4_weights) + layer4_biases\n",
    "  \n",
    "    # Training computation.\n",
    "    #Reshape tf_train_dataset\n",
    "    logits = model(tf_train_dataset, keep_prob)\n",
    "    loss = tf.reduce_mean(tf.nn.softmax_cross_entropy_with_logits(logits, tf_train_labels))\n",
    "\n",
    "    # Optimizer.\n",
    "    optimizer = tf.train.AdamOptimizer(1e-4).minimize(loss)\n",
    "\n",
    "    # Predictions for the training, validation, and test data.\n",
    "    train_prediction = tf.nn.softmax(logits)\n",
    "    \n",
    "    valid_prediction = tf.nn.softmax(model(tf_valid_dataset,1.0))\n",
    "    test_prediction = tf.nn.softmax(model(tf_test_dataset,1.0))\n",
    "# Re-define the function to include the keep probability\n",
    "def run_session(num_epochs, name, k_prob=1.0):\n",
    "\n",
    "    with tf.Session(graph=graph) as session:\n",
    "        merged = tf.merge_all_summaries()  \n",
    "        writer = tf.train.SummaryWriter(\"/tmp/HW4Q3blogs\", session.graph)\n",
    "        tf.initialize_all_variables().run()\n",
    "        print(\"Initialized\")\n",
    "        start_time = time.time()\n",
    "        for epoch in range(num_epochs):\n",
    "            offset = (epoch * batch_size) % (training_labels_enc.shape[0] - batch_size)\n",
    "            batch_data = training_data[offset:(offset + batch_size), :]\n",
    "            batch_data = batch_data.reshape(-1,32,32,3)\n",
    "            batch_labels = training_labels_enc[offset:(offset + batch_size), :]\n",
    "            feed_dict = {tf_train_dataset : batch_data, tf_train_labels : batch_labels, keep_prob : k_prob}\n",
    "            _, l, predictions = session.run([optimizer, loss, train_prediction], feed_dict=feed_dict)\n",
    "            if (epoch % 500 == 0):\n",
    "                print(\"Minibatch loss at epoch {}: {}\".format(epoch, l))\n",
    "                print(\"Minibatch accuracy: {:.1f}\".format(accuracy(predictions, batch_labels)))\n",
    "                print(\"Validation accuracy: {:.1f}\".format(accuracy(valid_prediction.eval(), validation_labels_enc)))\n",
    "        model_time = time.time() - start_time\n",
    "        print(\"Time Taken for Training: {:.1f} seconds\".format(model_time))\n",
    "        print(\"Test accuracy: {:.1f}\".format(accuracy(test_prediction.eval(), testing_labels_enc)))\n",
    "        test_preds[name] = test_prediction.eval().ravel()\n",
    "run_session(2000,\"CNN_AandB\", 0.5)"
   ]
  },
  {
   "cell_type": "markdown",
   "metadata": {},
   "source": [
    "**Train and test a non NN network using A**."
   ]
  },
  {
   "cell_type": "code",
   "execution_count": null,
   "metadata": {
    "collapsed": true
   },
   "outputs": [],
   "source": [
    "### 4b  with A:  Train and test a non-NN algorithm with reasonable performance on the data.\n",
    "#The following code is adapted from the code given in Section 7\n",
    "batch_size = 256\n",
    "\n",
    "graph = tf.Graph()\n",
    "with graph.as_default():\n",
    "\n",
    "    # Input data, with a placeholder to feed the training data at run time.\n",
    "    tf_train_dataset = tf.placeholder(tf.float32, shape=(batch_size, 3072))\n",
    "    tf_train_labels = tf.placeholder(tf.float32, shape=(batch_size, 10))\n",
    "    tf_valid_dataset = tf.constant(validation_tuple[0])\n",
    "    tf_test_dataset = tf.constant(testing_tuple[0])\n",
    "\n",
    "    # Variables.\n",
    "    weights = tf.Variable(tf.truncated_normal([3072, 10]))\n",
    "    biases = tf.Variable(tf.zeros([10]))\n",
    "\n",
    "    # Training computation.\n",
    "    logits = tf.matmul(tf_train_dataset, weights) + biases\n",
    "    loss = tf.reduce_mean(tf.nn.softmax_cross_entropy_with_logits(logits, tf_train_labels))\n",
    "\n",
    "    # Optimizer.\n",
    "    optimizer = tf.train.GradientDescentOptimizer(0.5).minimize(loss)\n",
    "\n",
    "    # Predictions for the training, validation, and test data.\n",
    "    train_prediction = tf.nn.softmax(logits)\n",
    "    valid_prediction = tf.nn.softmax(tf.matmul(tf_valid_dataset, weights) + biases)\n",
    "    test_prediction = tf.nn.softmax(tf.matmul(tf_test_dataset, weights) + biases)\n",
    "num_epochs = 3001\n",
    "l_array = []\n",
    "with tf.Session(graph=graph) as session:\n",
    "    tf.initialize_all_variables().run()\n",
    "    merged = tf.merge_all_summaries()  \n",
    "    writer = tf.train.SummaryWriter(\"/tmp/HW4Q3cLogs\", session.graph)\n",
    "    print(\"Initialized\")\n",
    "    start_time = time.time()\n",
    "    for epoch in range(num_epochs):\n",
    "        \n",
    "        offset = (epoch * batch_size) % (training_labels_enc.shape[0] - batch_size)\n",
    "\n",
    "        batch_data = training_data[offset:(offset + batch_size), :]\n",
    "        batch_labels = training_labels_enc[offset:(offset + batch_size), :]\n",
    "\n",
    "        feed_dict = {tf_train_dataset : batch_data, tf_train_labels : batch_labels}\n",
    "        _, l, predictions = session.run([optimizer, loss, train_prediction], feed_dict=feed_dict)\n",
    "        l_array.append(l)\n",
    "        if (epoch % 500 == 0):\n",
    "            print(\"Minibatch loss at epoch %d: %f\" % (epoch, l))\n",
    "            print(\"Minibatch accuracy: %.1f%%\" % accuracy(predictions, batch_labels))\n",
    "            print(\"Validation accuracy: %.1f%%\" % accuracy(valid_prediction.eval(), validation_labels_enc))\n",
    "    model_time = time.time() - start_time\n",
    "    print(\"Time Taken for Training: {:.1f} seconds\".format(model_time))\n",
    "    print(\"Test accuracy: %.1f%%\" % accuracy(test_prediction.eval(), testing_labels_enc))\n",
    "    test_preds['SGD'] = test_prediction.eval().ravel()"
   ]
  },
  {
   "cell_type": "markdown",
   "metadata": {},
   "source": [
    "### 4c) Plot and comment on how quickly the classifiers learn as compared to 3) using the full data set"
   ]
  },
  {
   "cell_type": "code",
   "execution_count": null,
   "metadata": {
    "collapsed": true
   },
   "outputs": [],
   "source": [
    "#Comparing the training accuracy\n",
    "NN_times = (400.6,393.2,1738)\n",
    "CNN_times = (201.6,173.5,182.4)\n",
    "Non_NN_times = (13.3,10.7,8.8)\n",
    "\n",
    "fig, ax = plt.subplots()\n",
    "index = np.arange(3)\n",
    "\n",
    "#Set bar width\n",
    "width = 0.2\n",
    "NN_plot = plt.bar(index, NN_times, width,\n",
    "                 alpha=0.7,\n",
    "                 color='c',\n",
    "                 label='Deep NN')\n",
    " \n",
    "CNN_plot = plt.bar(index + width, CNN_times, width,\n",
    "                 alpha=0.7,\n",
    "                 color='g',\n",
    "                 label='CNN')\n",
    "NonNN_plot = plt.bar(index + 2*width, Non_NN_times, width,\n",
    "                 alpha=0.7,\n",
    "                 color='r',\n",
    "                 label='Non NN')\n",
    " \n",
    "plt.xlabel('Training Data')\n",
    "plt.ylabel('Training Time')\n",
    "plt.title('Training Time comparison for different datasets')\n",
    "plt.xticks(index + width, ('A only', 'A+B', 'All'))\n",
    "plt.legend()\n",
    " \n",
    "plt.tight_layout()\n",
    "plt.show()\n"
   ]
  },
  {
   "cell_type": "markdown",
   "metadata": {},
   "source": [
    "It appears that the change in training data (splitting in A, A+B and full) did not have huge impact on training time. However it is evident that Deep NN is taking most time for training and Non Neural network is fastest.This speed ofcourse comes at the price of accuracy."
   ]
  },
  {
   "cell_type": "markdown",
   "metadata": {},
   "source": [
    " The reason Deep NN  took more time than Convolutional Neural Network is because it was a fully connected network and we have not used dropouts. Convolutional Neural Network on the other hand took half as much time as MLP based NN as the algorithm took advantage of reduced number of weights calculations in backpropagation step. SGD was quick but the accuracy was low compared to the Neural Network based algorithms."
   ]
  },
  {
   "cell_type": "markdown",
   "metadata": {
    "collapsed": true
   },
   "source": [
    "# 5) Assess the sensitivity of the test set to distortions"
   ]
  },
  {
   "cell_type": "markdown",
   "metadata": {},
   "source": [
    "## 5a) Create at least one additional test sets by distorting the test set in one manner"
   ]
  },
  {
   "cell_type": "markdown",
   "metadata": {},
   "source": [
    "Check modifying saturation of a single image first."
   ]
  },
  {
   "cell_type": "code",
   "execution_count": null,
   "metadata": {
    "collapsed": true
   },
   "outputs": [],
   "source": [
    "figure = plt.figure(figsize=(1,1))\n",
    "plt.imshow(np.rot90(training_image,3))\n",
    "plt.axis('off')"
   ]
  },
  {
   "cell_type": "code",
   "execution_count": null,
   "metadata": {
    "collapsed": true
   },
   "outputs": [],
   "source": [
    "#Distort a single image using TensorFlow Image\n",
    "graph = tf.Graph()\n",
    "with tf.Session(graph=graph) as session:\n",
    "# Input data, with a placeholder to feed the training data at run time.\n",
    "    input_image = tf.placeholder(tf.float32, shape=training_image.shape)\n",
    "    output = tf.image.random_contrast(input_image, 0.3, 1.8, seed=None)\n",
    "    transposed = session.run([output], feed_dict={input_image:training_image})\n",
    "\n",
    "data = np.asarray(transposed)\n",
    "figure = plt.figure(figsize=(1,1))\n",
    "plt.imshow(np.rot90(data[0],3))   \n",
    "plt.axis('off')"
   ]
  },
  {
   "cell_type": "code",
   "execution_count": null,
   "metadata": {
    "collapsed": true
   },
   "outputs": [],
   "source": [
    "#Randomly modify contrast of all the testing images\n",
    "testing_dataset = testing_tuple[0]\n",
    "modified_testing_dataset = testing_dataset.copy()\n",
    "\n",
    "graph = tf.Graph()\n",
    "#Build computaion graph\n",
    "with tf.Session(graph=graph) as session:\n",
    "    input_image = tf.placeholder(tf.float32, shape=training_image.shape)\n",
    "    output = tf.image.random_contrast(input_image, 0.3, 1.8, seed=None)\n",
    "    for i,j in enumerate(modified_testing_dataset):\n",
    "        output_image = session.run([output], feed_dict={input_image:j.reshape(32,32,3)})\n",
    "        modified_testing_dataset[i] = np.asarray(output_image).reshape(3072)"
   ]
  },
  {
   "cell_type": "markdown",
   "metadata": {},
   "source": [
    "## 5b) Repeat the baseline run analysis in 3) on the distorted images"
   ]
  },
  {
   "cell_type": "code",
   "execution_count": null,
   "metadata": {
    "collapsed": true
   },
   "outputs": [],
   "source": [
    "#The following code is taken from Section 7 notebook\n",
    "#Some utility functions to be used for computation graph building and execution\n",
    "def accuracy(predictions, labels):\n",
    "    return (100.0 * np.sum(np.argmax(predictions, 1) == np.argmax(labels, 1))\n",
    "            / predictions.shape[0])\n",
    "\n",
    "def weight_variable(shape):\n",
    "    initial = tf.truncated_normal(shape, stddev=tf.sqrt(2.0/shape[0]))\n",
    "    return tf.Variable(initial)\n",
    "\n",
    "def bias_variable(shape):\n",
    "    initial = tf.zeros(shape)\n",
    "    return tf.Variable(initial)\n",
    "\n",
    "split_by_half = lambda x,k : int(x/2**k)"
   ]
  },
  {
   "cell_type": "code",
   "execution_count": null,
   "metadata": {
    "collapsed": true
   },
   "outputs": [],
   "source": [
    "#Save training, testing and validation datasets \n",
    "#in corresponding variables\n",
    "training_data = training_tuple[0]\n",
    "testing_data = modified_testing_dataset\n",
    "validation_data = validation_tuple[0]\n",
    "#Constants\n",
    "hidden_nodes = 2000\n",
    "batch_size = 256\n",
    "image_width = 32\n",
    "image_height = 32\n",
    "number_of_channels = 3\n",
    "num_of_pixels = image_width*image_height*number_of_channels\n",
    "#Dictionary to save prediction results\n",
    "test_preds={}\n",
    "#Regularization penalty\n",
    "regularization_constant = 0.01\n",
    "#The following code is adapted from Section 7 notebook\n",
    "#This portion will construct the computation Graph\n",
    "graph = tf.Graph()\n",
    "with graph.as_default():\n",
    "\n",
    "    # Input data\n",
    "    tf_train_dataset = tf.placeholder(tf.float32, shape=(batch_size, num_of_pixels))\n",
    "    tf_train_labels = tf.placeholder(tf.float32, shape=(batch_size, 10))\n",
    "    \n",
    "    #Constants\n",
    "    tf_valid_dataset = tf.constant(validation_tuple[0])\n",
    "    tf_test_dataset = tf.constant(modified_testing_dataset)\n",
    "\n",
    "    # Variables.\n",
    "    layer1_weights = weight_variable([num_of_pixels, hidden_nodes])\n",
    "    layer1_biases = bias_variable([hidden_nodes])\n",
    "    layer2_weights = weight_variable([hidden_nodes, split_by_half(hidden_nodes,1)])\n",
    "    layer2_biases = bias_variable([split_by_half(hidden_nodes,1)])   \n",
    "    layer3_weights = weight_variable([split_by_half(hidden_nodes,1), 10])\n",
    "    layer3_biases = bias_variable([10])\n",
    "    \n",
    "    keep_prob = tf.placeholder(\"float\")\n",
    "    \n",
    "    # Model with dropout\n",
    "    def model(data):\n",
    "        layer1 = tf.matmul(data, layer1_weights) + layer1_biases\n",
    "        hidden1 = tf.nn.relu(layer1)  \n",
    "        layer2 = tf.matmul(hidden1, layer2_weights) + layer2_biases  # a new hidden layer\n",
    "        hidden2 = tf.nn.relu(layer2)\n",
    "        \n",
    "        return tf.matmul(hidden2, layer3_weights) + layer3_biases\n",
    "    \n",
    "    # Training computation.\n",
    "    logits = model(tf_train_dataset)\n",
    "    loss = tf.reduce_mean(tf.nn.softmax_cross_entropy_with_logits(logits, tf_train_labels))\n",
    "    regularizers = (tf.nn.l2_loss(layer1_weights) + tf.nn.l2_loss(layer1_biases) + \\\n",
    "                    tf.nn.l2_loss(layer2_weights) + tf.nn.l2_loss(layer2_biases) + \\\n",
    "                    tf.nn.l2_loss(layer3_weights) + tf.nn.l2_loss(layer3_biases) )\n",
    "\n",
    "    # Add the regularization term to the loss.\n",
    "    #loss += lamb_reg * regularizers\n",
    "    loss = tf.reduce_mean(loss + regularization_constant * regularizers)\n",
    "\n",
    "    # Optimizer.\n",
    "    # learning rate decay\n",
    "    global_step = tf.Variable(0)  # count  number of steps taken.\n",
    "    start_learning_rate = 0.1\n",
    "    learning_rate = tf.train.exponential_decay(start_learning_rate, global_step, 100000, 0.96, staircase=True)\n",
    "    optimizer = tf.train.GradientDescentOptimizer(learning_rate).minimize(loss, global_step=global_step)\n",
    "\n",
    "    # Predictions for the training, validation, and test data.\n",
    "    train_prediction = tf.nn.softmax(logits)\n",
    "    valid_prediction = tf.nn.softmax(model(tf_valid_dataset))\n",
    "    test_prediction = tf.nn.softmax(model(tf_test_dataset))"
   ]
  },
  {
   "cell_type": "code",
   "execution_count": null,
   "metadata": {
    "collapsed": true
   },
   "outputs": [],
   "source": [
    "#The following code is adapted from Section 7 notebook\n",
    "def run_session(num_epochs, name):\n",
    "\n",
    "    with tf.Session(graph=graph) as session:\n",
    "        merged = tf.merge_all_summaries()  \n",
    "        writer = tf.train.SummaryWriter(\"/tmp/HW4Q5Logs\", session.graph)\n",
    "        tf.initialize_all_variables().run()\n",
    "        print(\"Initialized\")\n",
    "        start_time = time.time()\n",
    "        for epoch in range(num_epochs):\n",
    "            offset = (epoch * batch_size) % (training_labels_enc.shape[0] - batch_size)\n",
    "            batch_data = training_data[offset:(offset + batch_size), :]\n",
    "            batch_labels = training_labels_enc[offset:(offset + batch_size), :]\n",
    "            feed_dict = {tf_train_dataset : batch_data, tf_train_labels : batch_labels}\n",
    "            _, l, predictions = session.run([optimizer, loss, train_prediction], feed_dict=feed_dict)\n",
    "            if (epoch % 500 == 0):\n",
    "                print(\"Minibatch accuracy: {:.1f} %\".format(accuracy(predictions, batch_labels)))\n",
    "                print(\"Validation accuracy: {:.1f} %\".format(accuracy(valid_prediction.eval(), validation_labels_enc)))\n",
    "        model_time = time.time() - start_time\n",
    "        print(\"Time Taken for Training: {:.1f} seconds\".format(model_time))\n",
    "        print(\"Test accuracy: {:.1f} %\".format(accuracy(test_prediction.eval(), testing_labels_enc)))\n",
    "        test_preds[name] = test_prediction.eval().ravel()\n",
    "\n",
    "run_session(2000, \"Q5A\")"
   ]
  },
  {
   "cell_type": "markdown",
   "metadata": {},
   "source": [
    "## 5c) Comment on what you learned"
   ]
  },
  {
   "cell_type": "markdown",
   "metadata": {},
   "source": [
    "We see that the Testing accuracy has dropped from 42.0% to 39.6% when the testing data had random contrast adjustment. This was somewhat expected as our baseline model was not trained with images with wide dynamic range. For a good model it is often recommended to randomly flip images, take transpose, change brightness, change contrast of the original images and feed them to Neural Net in the training phase. "
   ]
  },
  {
   "cell_type": "markdown",
   "metadata": {},
   "source": [
    "## 6) Compare the tuning of hyperparameters across architectural models"
   ]
  },
  {
   "cell_type": "markdown",
   "metadata": {},
   "source": [
    "We had divided the homework and Q6 is done in a separate notebook submitted with this homework. We apologise for any inconvenience. Our systems had issues. Please check in the separate notebook."
   ]
  },
  {
   "cell_type": "markdown",
   "metadata": {
    "collapsed": true
   },
   "source": [
    "## 7) Maximize your performance with your deep neural network or the CNN \n",
    "  1. Tune the parameters\n",
    "  2. Discover what works best and walk us through what you tried\n",
    "  3. Submit the performance as a %accuracy and as a 10x10 table in the format showing the counts of the test images actual vs. predicted."
   ]
  },
  {
   "cell_type": "markdown",
   "metadata": {},
   "source": [
    "## Ans:"
   ]
  },
  {
   "cell_type": "markdown",
   "metadata": {},
   "source": [
    "## 7a) Tune the parameters"
   ]
  },
  {
   "cell_type": "markdown",
   "metadata": {},
   "source": [
    "Our baseline Convolutional Neural Network in 3b gave a testing accuracy of 36.5% which is not acceptable ofcourse. The first question that occurs to one's mind is that if convolutional networks are state of the art why are we getting such a terrible accuracy. \n",
    "\n",
    "The response to this question is simple. In Q3c our focus was not on optimization. It was a brute force application of CNN without optimizing the parameters.\n",
    "\n",
    "Now lets think of what parameters can one change.\n",
    "\n",
    "1. Number of Convolution and MaxPooling Layers \n",
    "2. Try Avergage Pooling instead of MaxPooling\n",
    "3. Add Local Contrast Normalization Layer\n",
    "4. Change Strides\n",
    "5. Change Padding type\n",
    "6. Change dropout probability \n",
    "7. Change number of hidden nodes in the hidden layer\n"
   ]
  },
  {
   "cell_type": "markdown",
   "metadata": {},
   "source": [
    "The approach that we will use in this question will be to modify some of these parameters and assess its impact on the accuracy."
   ]
  },
  {
   "cell_type": "code",
   "execution_count": null,
   "metadata": {
    "collapsed": true
   },
   "outputs": [],
   "source": [
    "#This code is taken from Section 7\n",
    "def accuracy(predictions, labels):\n",
    "    return (100.0 * np.sum(np.argmax(predictions, 1) == np.argmax(labels, 1))\n",
    "            / predictions.shape[0])\n",
    "\n",
    "def weight_variable(shape):\n",
    "    initial = tf.truncated_normal(shape, stddev=0.01)\n",
    "    return tf.Variable(initial)\n",
    "\n",
    "def bias_variable(shape):\n",
    "    initial = tf.constant(0.1, shape=shape)\n",
    "    return tf.Variable(initial)"
   ]
  },
  {
   "cell_type": "code",
   "execution_count": null,
   "metadata": {
    "collapsed": true
   },
   "outputs": [],
   "source": [
    "#The following code is adapted from the code given in Section 7\n",
    "image_width = 32\n",
    "image_height = 32\n",
    "number_of_channels = 3\n",
    "num_of_pixels = image_width*image_height*number_of_channels\n",
    "num_labels = 10\n",
    "batch_size = 16\n",
    "patch_size = 5\n",
    "depth1 = 32\n",
    "depth2 = 64\n",
    "num_hidden = 1024\n",
    "\n",
    "graph = tf.Graph()\n",
    "\n",
    "with graph.as_default():\n",
    "\n",
    "    # Input data.\n",
    "    tf_train_dataset = tf.placeholder(tf.float32, shape=(batch_size, image_width, image_height, number_of_channels))\n",
    "    tf_train_labels = tf.placeholder(tf.float32, shape=(batch_size, num_labels))\n",
    "    validation_data = validation_tuple[0].reshape(-1,32,32,3)\n",
    "    testing_data = testing_tuple[0].reshape(-1,32,32,3)\n",
    "    tf_valid_dataset = tf.constant(validation_data)\n",
    "    tf_test_dataset = tf.constant(testing_data)\n",
    "\n",
    "    # Variables.\n",
    "    layer1_weights = weight_variable([patch_size, patch_size, number_of_channels, depth1])\n",
    "    layer1_biases = bias_variable([depth1])\n",
    "    layer2_weights = weight_variable([patch_size, patch_size, depth1, depth2])\n",
    "    layer2_biases = bias_variable([depth2])\n",
    "    layer3_weights = weight_variable([image_width // 4 * image_width // 4 * depth2, num_hidden])\n",
    "    layer3_biases = bias_variable([num_hidden])\n",
    "    layer4_weights = weight_variable([num_hidden, num_labels])\n",
    "    layer4_biases = bias_variable([num_labels])\n",
    "\n",
    "    keep_prob = tf.placeholder(tf.float32)\n",
    "    # Model with dropout\n",
    "    def model(data, proba=keep_prob):\n",
    "        # Convolution\n",
    "        conv1 = tf.nn.conv2d(data, layer1_weights, [1, 1, 1, 1], padding='SAME') + layer1_biases\n",
    "        pooled1 = tf.nn.max_pool(tf.nn.relu(conv1), ksize=[1, 2, 2, 1],\n",
    "                        strides=[1, 2, 2, 1], padding='SAME')\n",
    "        # Convolution\n",
    "        conv2 = tf.nn.conv2d(pooled1, layer2_weights, [1, 1, 1, 1], padding='SAME') + layer2_biases\n",
    "        pooled2 = tf.nn.max_pool(tf.nn.relu(conv2), ksize=[1, 2, 2, 1],\n",
    "                        strides=[1, 2, 2, 1], padding='SAME')\n",
    "        # Fully Connected Layer\n",
    "        shape = pooled2.get_shape().as_list()\n",
    "        reshape = tf.reshape(pooled2, [shape[0], shape[1] * shape[2] * shape[3]])\n",
    "        full3 = tf.nn.relu(tf.matmul(reshape, layer3_weights) + layer3_biases)\n",
    "        # Dropout\n",
    "        full3 = tf.nn.dropout(full3, proba)\n",
    "        return tf.matmul(full3, layer4_weights) + layer4_biases\n",
    "  \n",
    "    # Training computation.\n",
    "    #Reshape tf_train_dataset\n",
    "    logits = model(tf_train_dataset, keep_prob)\n",
    "    loss = tf.reduce_mean(tf.nn.softmax_cross_entropy_with_logits(logits, tf_train_labels))\n",
    "\n",
    "    # Optimizer.\n",
    "    optimizer = tf.train.AdamOptimizer(1e-4).minimize(loss)\n",
    "\n",
    "    # Predictions for the training, validation, and test data.\n",
    "    train_prediction = tf.nn.softmax(logits)\n",
    "    \n",
    "    valid_prediction = tf.nn.softmax(model(tf_valid_dataset,1.0))\n",
    "    test_prediction = tf.nn.softmax(model(tf_test_dataset,1.0))"
   ]
  },
  {
   "cell_type": "code",
   "execution_count": null,
   "metadata": {
    "collapsed": true
   },
   "outputs": [],
   "source": [
    "# Re-define the function to include the keep probability\n",
    "def run_session(num_epochs, name, k_prob=1.0):\n",
    "\n",
    "    with tf.Session(graph=graph) as session:\n",
    "        merged = tf.merge_all_summaries()  \n",
    "        writer = tf.train.SummaryWriter(\"/tmp/HW4Q7logs\", session.graph)\n",
    "        tf.initialize_all_variables().run()\n",
    "        print(\"Initialized\")\n",
    "        start_time = time.time()\n",
    "        for epoch in range(num_epochs):\n",
    "            offset = (epoch * batch_size) % (training_labels_enc.shape[0] - batch_size)\n",
    "            batch_data = training_data[offset:(offset + batch_size), :]\n",
    "            batch_data = batch_data.reshape(-1,32,32,3)\n",
    "            batch_labels = training_labels_enc[offset:(offset + batch_size), :]\n",
    "            feed_dict = {tf_train_dataset : batch_data, tf_train_labels : batch_labels, keep_prob : k_prob}\n",
    "            _, l, predictions = session.run([optimizer, loss, train_prediction], feed_dict=feed_dict)\n",
    "            if (epoch % 500 == 0):\n",
    "                print(\"Minibatch loss at epoch {}: {}\".format(epoch, l))\n",
    "                print(\"Minibatch accuracy: {:.1f}\".format(accuracy(predictions, batch_labels)))\n",
    "                print(\"Validation accuracy: {:.1f}\".format(accuracy(valid_prediction.eval(), validation_labels_enc)))\n",
    "        model_time = time.time() - start_time\n",
    "        print(\"Time Taken for Training: {:.1f} seconds\".format(model_time))\n",
    "        print(\"Test accuracy: {:.1f}\".format(accuracy(test_prediction.eval(), testing_labels_enc)))\n",
    "        test_preds[name] = test_prediction.eval().ravel()"
   ]
  },
  {
   "cell_type": "markdown",
   "metadata": {},
   "source": [
    "**1) Change the dropout probability (Drop slightly more number of nodes)**"
   ]
  },
  {
   "cell_type": "code",
   "execution_count": null,
   "metadata": {
    "collapsed": true
   },
   "outputs": [],
   "source": [
    "run_session(2000,\"CNN\", 0.65)"
   ]
  },
  {
   "cell_type": "markdown",
   "metadata": {},
   "source": [
    "**2) Increase batch size**"
   ]
  },
  {
   "cell_type": "code",
   "execution_count": null,
   "metadata": {
    "collapsed": true
   },
   "outputs": [],
   "source": [
    "#The following code is adapted from the code given in Section 7\n",
    "image_width = 32\n",
    "image_height = 32\n",
    "number_of_channels = 3\n",
    "num_of_pixels = image_width*image_height*number_of_channels\n",
    "num_labels = 10\n",
    "batch_size = 256\n",
    "patch_size = 5\n",
    "depth1 = 32\n",
    "depth2 = 64\n",
    "num_hidden = 1024\n",
    "\n",
    "graph = tf.Graph()\n",
    "\n",
    "with graph.as_default():\n",
    "\n",
    "    # Input data.\n",
    "    tf_train_dataset = tf.placeholder(tf.float32, shape=(batch_size, image_width, image_height, number_of_channels))\n",
    "    tf_train_labels = tf.placeholder(tf.float32, shape=(batch_size, num_labels))\n",
    "    validation_data = validation_tuple[0].reshape(-1,32,32,3)\n",
    "    testing_data = testing_tuple[0].reshape(-1,32,32,3)\n",
    "    tf_valid_dataset = tf.constant(validation_data)\n",
    "    tf_test_dataset = tf.constant(testing_data)\n",
    "\n",
    "    # Variables.\n",
    "    layer1_weights = weight_variable([patch_size, patch_size, number_of_channels, depth1])\n",
    "    layer1_biases = bias_variable([depth1])\n",
    "    layer2_weights = weight_variable([patch_size, patch_size, depth1, depth2])\n",
    "    layer2_biases = bias_variable([depth2])\n",
    "    layer3_weights = weight_variable([image_width // 4 * image_width // 4 * depth2, num_hidden])\n",
    "    layer3_biases = bias_variable([num_hidden])\n",
    "    layer4_weights = weight_variable([num_hidden, num_labels])\n",
    "    layer4_biases = bias_variable([num_labels])\n",
    "\n",
    "    keep_prob = tf.placeholder(tf.float32)\n",
    "    # Model with dropout\n",
    "    def model(data, proba=keep_prob):\n",
    "        # Convolution\n",
    "        conv1 = tf.nn.conv2d(data, layer1_weights, [1, 1, 1, 1], padding='SAME') + layer1_biases\n",
    "        pooled1 = tf.nn.max_pool(tf.nn.relu(conv1), ksize=[1, 2, 2, 1],\n",
    "                        strides=[1, 2, 2, 1], padding='SAME')\n",
    "        # Convolution\n",
    "        conv2 = tf.nn.conv2d(pooled1, layer2_weights, [1, 1, 1, 1], padding='SAME') + layer2_biases\n",
    "        pooled2 = tf.nn.max_pool(tf.nn.relu(conv2), ksize=[1, 2, 2, 1],\n",
    "                        strides=[1, 2, 2, 1], padding='SAME')\n",
    "        # Fully Connected Layer\n",
    "        shape = pooled2.get_shape().as_list()\n",
    "        reshape = tf.reshape(pooled2, [shape[0], shape[1] * shape[2] * shape[3]])\n",
    "        full3 = tf.nn.relu(tf.matmul(reshape, layer3_weights) + layer3_biases)\n",
    "        # Dropout\n",
    "        full3 = tf.nn.dropout(full3, proba)\n",
    "        return tf.matmul(full3, layer4_weights) + layer4_biases\n",
    "  \n",
    "    # Training computation.\n",
    "    #Reshape tf_train_dataset\n",
    "    logits = model(tf_train_dataset, keep_prob)\n",
    "    loss = tf.reduce_mean(tf.nn.softmax_cross_entropy_with_logits(logits, tf_train_labels))\n",
    "\n",
    "    # Optimizer.\n",
    "    optimizer = tf.train.AdamOptimizer(1e-4).minimize(loss)\n",
    "\n",
    "    # Predictions for the training, validation, and test data.\n",
    "    train_prediction = tf.nn.softmax(logits)\n",
    "    \n",
    "    valid_prediction = tf.nn.softmax(model(tf_valid_dataset,1.0))\n",
    "    test_prediction = tf.nn.softmax(model(tf_test_dataset,1.0))"
   ]
  },
  {
   "cell_type": "code",
   "execution_count": null,
   "metadata": {
    "collapsed": true
   },
   "outputs": [],
   "source": [
    "run_session(2000,\"CNN\", 0.65)"
   ]
  },
  {
   "cell_type": "markdown",
   "metadata": {},
   "source": [
    "The increase in batch size increased the training time but also increased the accuracy."
   ]
  },
  {
   "cell_type": "markdown",
   "metadata": {},
   "source": [
    "**3) Let us try L2 norm Regularization instead of dropouts to observe the impact**"
   ]
  },
  {
   "cell_type": "code",
   "execution_count": null,
   "metadata": {
    "collapsed": true
   },
   "outputs": [],
   "source": [
    "#The following code is adapted from the code given in Section 7\n",
    "image_width = 32\n",
    "image_height = 32\n",
    "number_of_channels = 3\n",
    "num_of_pixels = image_width*image_height*number_of_channels\n",
    "num_labels = 10\n",
    "batch_size = 256\n",
    "patch_size = 5\n",
    "depth1 = 32\n",
    "depth2 = 64\n",
    "num_hidden = 1024\n",
    "#Regularization penalty\n",
    "regularization_constant = 0.01\n",
    "\n",
    "graph = tf.Graph()\n",
    "\n",
    "with graph.as_default():\n",
    "\n",
    "    # Input data.\n",
    "    tf_train_dataset = tf.placeholder(tf.float32, shape=(batch_size, image_width, image_height, number_of_channels))\n",
    "    tf_train_labels = tf.placeholder(tf.float32, shape=(batch_size, num_labels))\n",
    "    validation_data = validation_tuple[0].reshape(-1,32,32,3)\n",
    "    testing_data = testing_tuple[0].reshape(-1,32,32,3)\n",
    "    tf_valid_dataset = tf.constant(validation_data)\n",
    "    tf_test_dataset = tf.constant(testing_data)\n",
    "\n",
    "    # Variables.\n",
    "    layer1_weights = weight_variable([patch_size, patch_size, number_of_channels, depth1])\n",
    "    layer1_biases = bias_variable([depth1])\n",
    "    layer2_weights = weight_variable([patch_size, patch_size, depth1, depth2])\n",
    "    layer2_biases = bias_variable([depth2])\n",
    "    layer3_weights = weight_variable([image_width // 4 * image_width // 4 * depth2, num_hidden])\n",
    "    layer3_biases = bias_variable([num_hidden])\n",
    "    layer4_weights = weight_variable([num_hidden, num_labels])\n",
    "    layer4_biases = bias_variable([num_labels])\n",
    "\n",
    "    keep_prob = tf.placeholder(tf.float32)\n",
    "    # Model with dropout\n",
    "    def model(data, proba=keep_prob):\n",
    "        # Convolution\n",
    "        conv1 = tf.nn.conv2d(data, layer1_weights, [1, 1, 1, 1], padding='SAME') + layer1_biases\n",
    "        pooled1 = tf.nn.max_pool(tf.nn.relu(conv1), ksize=[1, 2, 2, 1],\n",
    "                        strides=[1, 2, 2, 1], padding='SAME')\n",
    "        # Convolution\n",
    "        conv2 = tf.nn.conv2d(pooled1, layer2_weights, [1, 1, 1, 1], padding='SAME') + layer2_biases\n",
    "        pooled2 = tf.nn.max_pool(tf.nn.relu(conv2), ksize=[1, 2, 2, 1],\n",
    "                        strides=[1, 2, 2, 1], padding='SAME')\n",
    "        # Fully Connected Layer\n",
    "        shape = pooled2.get_shape().as_list()\n",
    "        reshape = tf.reshape(pooled2, [shape[0], shape[1] * shape[2] * shape[3]])\n",
    "        full3 = tf.nn.relu(tf.matmul(reshape, layer3_weights) + layer3_biases)\n",
    "        # Dropout\n",
    "        full3 = tf.nn.dropout(full3, proba)\n",
    "        return tf.matmul(full3, layer4_weights) + layer4_biases\n",
    "  \n",
    "    regularizers = (tf.nn.l2_loss(layer1_weights) + tf.nn.l2_loss(layer1_biases) + \\\n",
    "                    tf.nn.l2_loss(layer2_weights) + tf.nn.l2_loss(layer2_biases) + \\\n",
    "                    tf.nn.l2_loss(layer3_weights) + tf.nn.l2_loss(layer3_biases) + \\\n",
    "                    tf.nn.l2_loss(layer4_weights) + tf.nn.l2_loss( layer4_biases))\n",
    "    \n",
    "    # Training computation.\n",
    "    #Reshape tf_train_dataset\n",
    "    logits = model(tf_train_dataset, keep_prob)\n",
    "    loss = tf.reduce_mean(tf.nn.softmax_cross_entropy_with_logits(logits, tf_train_labels) + regularization_constant *regularizers)\n",
    "\n",
    "    \n",
    "    \n",
    "    # Optimizer.\n",
    "    #optimizer = tf.train.AdamOptimizer(1e-4).minimize(loss)\n",
    "\n",
    "    # Optimizer.\n",
    "    # learning rate decay\n",
    "    global_step = tf.Variable(0)  # count  number of steps taken.\n",
    "    start_learning_rate = 0.1\n",
    "    learning_rate = tf.train.exponential_decay(start_learning_rate, global_step, 100000, 0.96, staircase=True)\n",
    "    optimizer = tf.train.GradientDescentOptimizer(learning_rate).minimize(loss, global_step=global_step)\n",
    "    \n",
    "    \n",
    "    # Predictions for the training, validation, and test data.\n",
    "    train_prediction = tf.nn.softmax(logits)\n",
    "    valid_prediction = tf.nn.softmax(model(tf_valid_dataset,1.0))\n",
    "    test_prediction = tf.nn.softmax(model(tf_test_dataset,1.0))"
   ]
  },
  {
   "cell_type": "code",
   "execution_count": null,
   "metadata": {
    "collapsed": true
   },
   "outputs": [],
   "source": [
    "run_session(2000,\"CNNRegularization\", 1)"
   ]
  },
  {
   "cell_type": "markdown",
   "metadata": {},
   "source": [
    "Clearly changing the dropout to L2 did not improve the accuracy."
   ]
  },
  {
   "cell_type": "markdown",
   "metadata": {},
   "source": [
    "**4)Let us increase the number of epochs**"
   ]
  },
  {
   "cell_type": "code",
   "execution_count": null,
   "metadata": {
    "collapsed": true
   },
   "outputs": [],
   "source": [
    "#The following code is adapted from the code given in Section 7\n",
    "image_width = 32\n",
    "image_height = 32\n",
    "number_of_channels = 3\n",
    "num_of_pixels = image_width*image_height*number_of_channels\n",
    "num_labels = 10\n",
    "batch_size = 256\n",
    "patch_size = 5\n",
    "depth1 = 32\n",
    "depth2 = 64\n",
    "num_hidden = 1024\n",
    "\n",
    "graph = tf.Graph()\n",
    "\n",
    "with graph.as_default():\n",
    "\n",
    "    # Input data.\n",
    "    tf_train_dataset = tf.placeholder(tf.float32, shape=(batch_size, image_width, image_height, number_of_channels))\n",
    "    tf_train_labels = tf.placeholder(tf.float32, shape=(batch_size, num_labels))\n",
    "    validation_data = validation_tuple[0].reshape(-1,32,32,3)\n",
    "    testing_data = testing_tuple[0].reshape(-1,32,32,3)\n",
    "    tf_valid_dataset = tf.constant(validation_data)\n",
    "    tf_test_dataset = tf.constant(testing_data)\n",
    "\n",
    "    # Variables.\n",
    "    layer1_weights = weight_variable([patch_size, patch_size, number_of_channels, depth1])\n",
    "    layer1_biases = bias_variable([depth1])\n",
    "    layer2_weights = weight_variable([patch_size, patch_size, depth1, depth2])\n",
    "    layer2_biases = bias_variable([depth2])\n",
    "    layer3_weights = weight_variable([image_width // 4 * image_width // 4 * depth2, num_hidden])\n",
    "    layer3_biases = bias_variable([num_hidden])\n",
    "    layer4_weights = weight_variable([num_hidden, num_labels])\n",
    "    layer4_biases = bias_variable([num_labels])\n",
    "\n",
    "    keep_prob = tf.placeholder(tf.float32)\n",
    "    # Model with dropout\n",
    "    def model(data, proba=keep_prob):\n",
    "        # Convolution\n",
    "        conv1 = tf.nn.conv2d(data, layer1_weights, [1, 1, 1, 1], padding='SAME') + layer1_biases\n",
    "        pooled1 = tf.nn.max_pool(tf.nn.relu(conv1), ksize=[1, 2, 2, 1],\n",
    "                        strides=[1, 2, 2, 1], padding='SAME')\n",
    "        # Convolution\n",
    "        conv2 = tf.nn.conv2d(pooled1, layer2_weights, [1, 1, 1, 1], padding='SAME') + layer2_biases\n",
    "        pooled2 = tf.nn.max_pool(tf.nn.relu(conv2), ksize=[1, 2, 2, 1],\n",
    "                        strides=[1, 2, 2, 1], padding='SAME')\n",
    "        # Fully Connected Layer\n",
    "        shape = pooled2.get_shape().as_list()\n",
    "        reshape = tf.reshape(pooled2, [shape[0], shape[1] * shape[2] * shape[3]])\n",
    "        full3 = tf.nn.relu(tf.matmul(reshape, layer3_weights) + layer3_biases)\n",
    "        # Dropout\n",
    "        full3 = tf.nn.dropout(full3, proba)\n",
    "        return tf.matmul(full3, layer4_weights) + layer4_biases\n",
    "  \n",
    "    # Training computation.\n",
    "    #Reshape tf_train_dataset\n",
    "    logits = model(tf_train_dataset, keep_prob)\n",
    "    loss = tf.reduce_mean(tf.nn.softmax_cross_entropy_with_logits(logits, tf_train_labels))\n",
    "\n",
    "    # Optimizer.\n",
    "    optimizer = tf.train.AdamOptimizer(1e-4).minimize(loss)\n",
    "\n",
    "    # Predictions for the training, validation, and test data.\n",
    "    train_prediction = tf.nn.softmax(logits)\n",
    "    \n",
    "    valid_prediction = tf.nn.softmax(model(tf_valid_dataset,1.0))\n",
    "    test_prediction = tf.nn.softmax(model(tf_test_dataset,1.0))\n"
   ]
  },
  {
   "cell_type": "code",
   "execution_count": null,
   "metadata": {
    "collapsed": true
   },
   "outputs": [],
   "source": [
    "run_session(20000,\"CNNMoreEpochs\", 0.65)"
   ]
  },
  {
   "cell_type": "markdown",
   "metadata": {},
   "source": [
    "This is considerable improvement."
   ]
  },
  {
   "cell_type": "markdown",
   "metadata": {},
   "source": [
    "## 7b) Discover what works best and walk us through what you tried"
   ]
  },
  {
   "cell_type": "markdown",
   "metadata": {},
   "source": [
    "Our strategy was to change one parameter at a time and avoid running models that take too long to run as our machines were not very powerful and we did not have enough time to spin up machines in AWS.\n",
    "\n",
    "We therefore started with changing the dropout probability from 0.5 to 0.65 to randomly remove output from greater number of neurons. This slightly improved the accuracy. We also tried setting dropout to a very small value but that reduced the testing accuracy.\n",
    "\n",
    "We then changed the batch size that significantly improved the accuracy from 36.1% to 49.8%. This was a significant jump. In our view the reason that it worked was because at every epoch we were showing more training samples with an increased probability of encountering examples of different classes in a single batch then that of a small batch.\n",
    "\n",
    "The next thing we wanted to try was to replace Drop-out with another regularization method and used L2 regularizer but that decreased the accuracy.\n",
    "\n",
    "In the next step we gradualy increased the number of epochs and the biggest number of epochs we used were 20,000. This took almost 4 hours but improved the accuracy by almost 20%.\n"
   ]
  },
  {
   "cell_type": "markdown",
   "metadata": {},
   "source": [
    "## 7c) Submit the performance as a %accuracy and as a 10x10 table in the format showing the counts of the test images actual vs. predicted."
   ]
  },
  {
   "cell_type": "markdown",
   "metadata": {},
   "source": [
    "Ideally the confusion matrix should have been for the best model but as our best model takes 4 hours and we have run out of time, we are using our second best model to compute confusion matrix."
   ]
  },
  {
   "cell_type": "markdown",
   "metadata": {},
   "source": [
    "** Model Accuracy: CNN 49.3% **"
   ]
  },
  {
   "cell_type": "code",
   "execution_count": null,
   "metadata": {
    "collapsed": true
   },
   "outputs": [],
   "source": [
    "from sklearn.metrics import confusion_matrix"
   ]
  },
  {
   "cell_type": "code",
   "execution_count": null,
   "metadata": {
    "collapsed": true
   },
   "outputs": [],
   "source": [
    "#Method to decode one-hot encoded data and\n",
    "# convert into label\n",
    "def label_decoder(one_hot_encoded):\n",
    "    labels = np.zeros(one_hot_encoded.shape[0])\n",
    "    for index in range(one_hot_encoded.shape[0]):\n",
    "        labels[index]=list(one_hot_encoded[index]).index(1)\n",
    "    return labels\n",
    "    \n",
    "#Method to convert prediction probabilities(i.e softmax output to label)\n",
    "def softmax_to_label(softmaxed):\n",
    "    labels = np.zeros(softmaxed.shape[0])\n",
    "    for index in range(softmaxed.shape[0]):\n",
    "        labels[index] = np.argmax(softmaxed[index])\n",
    "    return labels"
   ]
  },
  {
   "cell_type": "code",
   "execution_count": null,
   "metadata": {
    "collapsed": true
   },
   "outputs": [],
   "source": [
    "#Since we used ravel after running tf model, we need to reshape the predictions\n",
    "testing_labels = label_decoder(testing_labels_enc)\n",
    "predictions = test_preds['CNN']\n",
    "predictions = predictions.reshape(testing_labels_enc.shape[0],testing_labels_enc.shape[1])\n",
    "prediction_labels = softmax_to_label(predictions)\n",
    "\n",
    "confusion_matrix(testing_labels,prediction_labels)"
   ]
  },
  {
   "cell_type": "markdown",
   "metadata": {},
   "source": [
    "This confusion matrix shall be submitted as in Microsoft Excel format with Predicted, Actual headings etc"
   ]
  },
  {
   "cell_type": "markdown",
   "metadata": {},
   "source": [
    "# 8) Exploratory Points"
   ]
  },
  {
   "cell_type": "markdown",
   "metadata": {},
   "source": [
    "We have tried using skflow which provides Scikit-Learn kind of format in TensorFlow."
   ]
  },
  {
   "cell_type": "code",
   "execution_count": null,
   "metadata": {
    "collapsed": true
   },
   "outputs": [],
   "source": [
    "from tensorflow.contrib import learn\n",
    "from tensorflow.contrib import layers\n",
    "from sklearn import metrics"
   ]
  },
  {
   "cell_type": "code",
   "execution_count": null,
   "metadata": {
    "collapsed": true
   },
   "outputs": [],
   "source": [
    "#Define the model using 2 convolution layers, 2 maxpool layers and dropout as regularization\n",
    "def model_skflow(X,y):\n",
    "    with tf.variable_scope('conv_1'):\n",
    "        conv1 = layers.convolution2d(X, num_outputs=32, kernel_size=[5, 5], activation_fn=tf.nn.relu)\n",
    "        pool1 = tf.nn.max_pool(conv1, ksize=[1, 2, 2, 1], strides=[1, 2, 2, 1], padding='SAME')\n",
    "    with tf.variable_scope('conv_2'):\n",
    "        conv2 = layers.convolution2d(pool1, num_outputs=64, kernel_size=[5, 5], activation_fn=tf.nn.relu)\n",
    "        pool2 = tf.nn.max_pool(pool1, ksize=[1, 2, 2, 1], strides=[1, 2, 2, 1], padding='SAME')\n",
    "        #print(pool2.get_shape())\n",
    "        #This displayed it as (?,8,8, 32)\n",
    "        pool_flattened = tf.reshape(pool2,[-1,8*8*32])\n",
    "    #Dropout for regularization\n",
    "    final = tf.contrib.layers.dropout(tf.contrib.layers.legacy_fully_connected(pool_flattened, 1024, weight_init=None, activation_fn=tf.nn.relu))\n",
    "    return learn.models.logistic_regression(final, y)\n",
    "#Define the model\n",
    "\n",
    "classifier = learn.TensorFlowEstimator(model_fn=model_skflow, n_classes=10, batch_size=100, steps=10,learning_rate=0.001)\n",
    "classifier.fit(training_images_f,label_decoder(training_labels_encf))"
   ]
  },
  {
   "cell_type": "code",
   "execution_count": null,
   "metadata": {
    "collapsed": true
   },
   "outputs": [],
   "source": [
    "score = metrics.accuracy_score(label_decoder(testing_labels_encf), classifier.predict(test_images))"
   ]
  },
  {
   "cell_type": "code",
   "execution_count": null,
   "metadata": {
    "collapsed": true
   },
   "outputs": [],
   "source": [
    "print(score)"
   ]
  },
  {
   "cell_type": "markdown",
   "metadata": {},
   "source": [
    "The accuracy is really low but the idea was to use a new option available to run TensorFlow"
   ]
  }
 ],
 "metadata": {
  "anaconda-cloud": {},
  "colab": {
   "default_view": {},
   "name": "2_fullyconnected.ipynb",
   "provenance": [],
   "version": "0.3.2",
   "views": {}
  },
  "kernelspec": {
   "display_name": "Python 3",
   "language": "python",
   "name": "python3"
  },
  "language_info": {
   "codemirror_mode": {
    "name": "ipython",
    "version": 3
   },
   "file_extension": ".py",
   "mimetype": "text/x-python",
   "name": "python",
   "nbconvert_exporter": "python",
   "pygments_lexer": "ipython3",
   "version": "3.7.6"
  }
 },
 "nbformat": 4,
 "nbformat_minor": 1
}
